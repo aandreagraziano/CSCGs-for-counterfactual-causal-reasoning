{
 "cells": [
  {
   "cell_type": "markdown",
   "metadata": {
    "id": "z99pRkEeTsNP"
   },
   "source": [
    "# CSCG for counterfactual causal reasoning through episodic memories\n",
    "Based on https://www.nature.com/articles/s41467-021-22559-5"
   ]
  },
  {
   "cell_type": "markdown",
   "metadata": {
    "id": "Exbo7ndcPSl2"
   },
   "source": [
    "**Clone the repo from github, Install the necessary libraries**"
   ]
  },
  {
   "cell_type": "code",
   "execution_count": 1,
   "metadata": {
    "colab": {
     "base_uri": "https://localhost:8080/"
    },
    "id": "7jnInNH7RUAX",
    "outputId": "9b6eae93-2db3-408a-daa2-c373e1fe9139"
   },
   "outputs": [
    {
     "name": "stdout",
     "output_type": "stream",
     "text": [
      "\u001b[33mWARNING: The directory '/home/jovyan/.cache/pip' or its parent directory is not owned or is not writable by the current user. The cache has been disabled. Check the permissions and owner of that directory. If executing pip with sudo, you should use sudo's -H flag.\u001b[0m\u001b[33m\n",
      "\u001b[0mCollecting cairocffi\n",
      "  Downloading cairocffi-1.7.1-py3-none-any.whl.metadata (3.3 kB)\n",
      "Requirement already satisfied: cffi>=1.1.0 in /opt/conda/lib/python3.11/site-packages (from cairocffi) (1.16.0)\n",
      "Requirement already satisfied: pycparser in /opt/conda/lib/python3.11/site-packages (from cffi>=1.1.0->cairocffi) (2.21)\n",
      "Downloading cairocffi-1.7.1-py3-none-any.whl (75 kB)\n",
      "\u001b[2K   \u001b[90m━━━━━━━━━━━━━━━━━━━━━━━━━━━━━━━━━━━━━━━━\u001b[0m \u001b[32m75.6/75.6 kB\u001b[0m \u001b[31m3.6 MB/s\u001b[0m eta \u001b[36m0:00:00\u001b[0m\n",
      "\u001b[?25hInstalling collected packages: cairocffi\n",
      "Successfully installed cairocffi-1.7.1\n",
      "\u001b[33mWARNING: Running pip as the 'root' user can result in broken permissions and conflicting behaviour with the system package manager. It is recommended to use a virtual environment instead: https://pip.pypa.io/warnings/venv\u001b[0m\u001b[33m\n",
      "\u001b[0m\u001b[33mWARNING: The directory '/home/jovyan/.cache/pip' or its parent directory is not owned or is not writable by the current user. The cache has been disabled. Check the permissions and owner of that directory. If executing pip with sudo, you should use sudo's -H flag.\u001b[0m\u001b[33m\n",
      "\u001b[0mCollecting python-igraph\n",
      "  Downloading python_igraph-0.11.8-py3-none-any.whl.metadata (2.8 kB)\n",
      "Collecting igraph==0.11.8 (from python-igraph)\n",
      "  Downloading igraph-0.11.8-cp39-abi3-manylinux_2_17_x86_64.manylinux2014_x86_64.whl.metadata (3.8 kB)\n",
      "Collecting texttable>=1.6.2 (from igraph==0.11.8->python-igraph)\n",
      "  Downloading texttable-1.7.0-py2.py3-none-any.whl.metadata (9.8 kB)\n",
      "Downloading python_igraph-0.11.8-py3-none-any.whl (9.1 kB)\n",
      "Downloading igraph-0.11.8-cp39-abi3-manylinux_2_17_x86_64.manylinux2014_x86_64.whl (3.1 MB)\n",
      "\u001b[2K   \u001b[90m━━━━━━━━━━━━━━━━━━━━━━━━━━━━━━━━━━━━━━━━\u001b[0m \u001b[32m3.1/3.1 MB\u001b[0m \u001b[31m5.2 MB/s\u001b[0m eta \u001b[36m0:00:00\u001b[0ma \u001b[36m0:00:01\u001b[0m\n",
      "\u001b[?25hDownloading texttable-1.7.0-py2.py3-none-any.whl (10 kB)\n",
      "Installing collected packages: texttable, igraph, python-igraph\n",
      "Successfully installed igraph-0.11.8 python-igraph-0.11.8 texttable-1.7.0\n",
      "\u001b[33mWARNING: Running pip as the 'root' user can result in broken permissions and conflicting behaviour with the system package manager. It is recommended to use a virtual environment instead: https://pip.pypa.io/warnings/venv\u001b[0m\u001b[33m\n",
      "\u001b[0m"
     ]
    }
   ],
   "source": [
    "import sys, os\n",
    "if not os.path.exists('naturecomm_cscg'):\n",
    "  print(\"Cloning naturecomm_cscg repo from github.com/vicariousinc\")\n",
    "  os.system(\"git clone http://github.com/vicariousinc/naturecomm_cscg\")\n",
    "\n",
    "!pip install cairocffi\n",
    "!pip install python-igraph"
   ]
  },
  {
   "cell_type": "markdown",
   "metadata": {
    "id": "AxUwqkMtUecB"
   },
   "source": [
    "***Import the needed python modules***"
   ]
  },
  {
   "cell_type": "code",
   "execution_count": 51,
   "metadata": {
    "id": "LrXWNnRYSHrD"
   },
   "outputs": [],
   "source": [
    "sys.path.append('naturecomm_cscg')\n",
    "import numpy as np\n",
    "from chmm_actions import CHMM, forwardE, datagen_structured_obs_room, forwardE_mp, backtraceE, backtrace, forward_mp, rargmax, forwardE, backtraceE\n",
    "import matplotlib.pyplot as plt\n",
    "import igraph\n",
    "from matplotlib import cm, colors\n",
    "import os\n",
    "from matplotlib.lines import Line2D\n",
    "from matplotlib.patches import Patch\n",
    "import tools\n",
    "\n",
    "custom_colors = (\n",
    "    np.array(\n",
    "        [\n",
    "            [214, 214, 214],\n",
    "            [85, 35, 157],\n",
    "            [253, 252, 144],\n",
    "            [114, 245, 144],\n",
    "        ]\n",
    "    )\n",
    "    / 256\n",
    ")\n",
    "if not os.path.exists(\"figures\"):\n",
    "    os.makedirs(\"figures\")\n",
    "\n",
    "np.random.seed(52)\n",
    "\n",
    "transition_matrix = np.array([   # lines transitions from columns transitions to...\n",
    "    [0.0, 0.5, 0.0, 0.0, 0.5],   # 0, Station to Lunch or Train2\n",
    "    [0.0, 0.0, 0.9, 0.0, 0.1],   # 1, Lunch to Train1\n",
    "    [0.8, 0.0, 0.0, 0.2, 0.0], # 2, Train1 to Start or Airport\n",
    "    [1.0, 0.0, 0.0, 0.0, 0.0],   # 3, Aiport to Start\n",
    "    [0.1, 0.0, 0.0, 0.9, 0.0],   # 4, Train2 to Start or Airport\n",
    "])\n",
    "\n",
    "seq_length = 10000\n",
    "seq_state_t0 = 0\n",
    "pseudocount = 1e-4\n",
    "\n",
    "n_clones = np.array(\n",
    "    [1, 1, 2, 1], # define number of clones per state\n",
    "    dtype = np.int64)\n",
    "\n",
    "n_iter = 500"
   ]
  },
  {
   "cell_type": "markdown",
   "metadata": {},
   "source": [
    "#### Generate sequence"
   ]
  },
  {
   "cell_type": "code",
   "execution_count": 52,
   "metadata": {},
   "outputs": [],
   "source": [
    "seq = tools.generate_markov_seq(transition_matrix, seq_state_t0, seq_length)\n",
    "\n",
    "# We want the algorithm to figure out the different train contexts by itself, thus we give them the same identity.\n",
    "seq[seq == 4] = 2\n",
    "\n",
    "# we create dummy action\n",
    "a = np.zeros(seq_length, dtype=np.int64)"
   ]
  },
  {
   "cell_type": "markdown",
   "metadata": {},
   "source": [
    "#### Train CSCG"
   ]
  },
  {
   "cell_type": "code",
   "execution_count": 53,
   "metadata": {
    "colab": {
     "base_uri": "https://localhost:8080/"
    },
    "id": "LVh1HsDPXiGb",
    "outputId": "1b038921-2f15-414a-d933-dc8a2c6b8b72"
   },
   "outputs": [
    {
     "name": "stdout",
     "output_type": "stream",
     "text": [
      "Average number of clones: 1.25\n"
     ]
    },
    {
     "name": "stderr",
     "output_type": "stream",
     "text": [
      "  2%|▊                                     | 11/500 [00:00<00:04, 111.19it/s, train_bps=0.534]\n"
     ]
    }
   ],
   "source": [
    "# Generate data and train a CSCG.\n",
    "chmm = CHMM(\n",
    "    n_clones=n_clones,\n",
    "    pseudocount=pseudocount,\n",
    "    x=seq, a=a,\n",
    "    seed=44)\n",
    "\n",
    "progression = chmm.learn_em_T(seq, a, n_iter=n_iter)\n",
    "\n"
   ]
  },
  {
   "cell_type": "markdown",
   "metadata": {},
   "source": [
    "#### Apply Viterbi pruning"
   ]
  },
  {
   "cell_type": "code",
   "execution_count": 57,
   "metadata": {},
   "outputs": [
    {
     "name": "stderr",
     "output_type": "stream",
     "text": [
      "  2%|▊                                       | 2/100 [00:00<00:04, 23.64it/s, train_bps=0.539]\n"
     ]
    },
    {
     "data": {
      "text/plain": [
       "[0.56402665, 0.5391493, 0.5391493]"
      ]
     },
     "execution_count": 57,
     "metadata": {},
     "output_type": "execute_result"
    }
   ],
   "source": [
    "chmm.learn_viterbi_T(seq, a, n_iter=100)"
   ]
  },
  {
   "cell_type": "code",
   "execution_count": 58,
   "metadata": {},
   "outputs": [
    {
     "data": {
      "text/plain": [
       "array([0, 2, 0, 1, 2, 0, 2, 0, 2, 3, 0, 2, 3, 0, 1, 2, 0, 2, 3, 0])"
      ]
     },
     "execution_count": 58,
     "metadata": {},
     "output_type": "execute_result"
    }
   ],
   "source": [
    "seq[:20]"
   ]
  },
  {
   "cell_type": "code",
   "execution_count": 59,
   "metadata": {},
   "outputs": [
    {
     "data": {
      "image/png": "[encoded data removed]",
      "text/plain": [
       "<Figure size 640x480 with 1 Axes>"
      ]
     },
     "metadata": {},
     "output_type": "display_data"
    }
   ],
   "source": [
    "pos = [\n",
    "    [0, 0.,],\n",
    "    [1, .025,],\n",
    "    [2, -.1],\n",
    "    [2, .1],\n",
    "    [3, 0.,],\n",
    "]\n",
    "\n",
    "\n",
    "kwargs_nxdraw = {\n",
    "    'node_size': 300,\n",
    "    'font_size': 8,\n",
    "    'arrows': True,\n",
    "#    'connectionstyle': 'arc,rad=0.4'\n",
    "}\n",
    "\n",
    "kwargs_fig = {\n",
    "    'figsize': [4, 4],\n",
    "}\n",
    "\n",
    "kwargs_nxdrawedgelabel = {\n",
    "    'font_size': 8,\n",
    "    'label_pos': 0.7,  # Position along edge (0=start, 1=end)\n",
    "    'bbox': dict(alpha=0.8, facecolor=\"white\", edgecolor=\"none\"),\n",
    "    'rotate': False,\n",
    "    'font_color': \"#333333\",\n",
    "}\n",
    "\n",
    "fig, ax = tools.plot_graph(\n",
    "    chmm, seq, a, output_file=\"figures/test.pdf\",\n",
    "    pos=pos,\n",
    "    kwargs_fig=kwargs_fig,\n",
    "    kwargs_nxdraw=kwargs_nxdraw,\n",
    "    kwargs_nxdrawedgelabel=kwargs_nxdrawedgelabel,\n",
    ")\n"
   ]
  },
  {
   "cell_type": "code",
   "execution_count": 71,
   "metadata": {},
   "outputs": [],
   "source": [
    "#note have another scenario that does not fulfil the criteria"
   ]
  },
  {
   "cell_type": "code",
   "execution_count": 70,
   "metadata": {},
   "outputs": [
    {
     "name": "stdout",
     "output_type": "stream",
     "text": [
      "0.7489\n",
      "0.25110000000000005\n",
      "0.93\n",
      "0.07\n"
     ]
    }
   ],
   "source": [
    "# e means miss the plane\n",
    "# c means going to lunch\n",
    "\n",
    "# validate theorem i)\n",
    "e_given_c = 0.73+.27*0.07\n",
    "e_given_c\n",
    "not_e_given_c = 0.27*0.93\n",
    "\n",
    "print(e_given_c)\n",
    "print(not_e_given_c)\n",
    "\n",
    "# validate the#note have another scenario that does not fulfil the criteriaorem ii)\n",
    "not_e_given_not_c = 0.93\n",
    "e_given_not_c = 0.07\n",
    "\n",
    "print(not_e_given_not_c)\n",
    "print(e_given_not_c)\n",
    "\n",
    "# fulfils inequality\n",
    "# shows that going to lunch was the cause for missing the plane"
   ]
  }
 ],
 "metadata": {
  "colab": {
   "provenance": []
  },
  "kernelspec": {
   "display_name": "Python 3 (ipykernel)",
   "language": "python",
   "name": "python3"
  },
  "language_info": {
   "codemirror_mode": {
    "name": "ipython",
    "version": 3
   },
   "file_extension": ".py",
   "mimetype": "text/x-python",
   "name": "python",
   "nbconvert_exporter": "python",
   "pygments_lexer": "ipython3",
   "version": "3.11.6"
  }
 },
 "nbformat": 4,
 "nbformat_minor": 4
}
