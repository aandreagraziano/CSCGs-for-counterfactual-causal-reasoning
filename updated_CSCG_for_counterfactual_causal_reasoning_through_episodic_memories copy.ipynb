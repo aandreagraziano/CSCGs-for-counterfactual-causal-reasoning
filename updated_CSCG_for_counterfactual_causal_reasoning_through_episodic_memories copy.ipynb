{
 "cells": [
  {
   "cell_type": "markdown",
   "metadata": {
    "id": "z99pRkEeTsNP"
   },
   "source": [
    "# CSCG for counterfactual causal reasoning through episodic memories\n",
    "Based on https://www.nature.com/articles/s41467-021-22559-5\n",
    "\n",
    "Code at: http://github.com/vicariousinc/naturecomm_cscg\n",
    "\n"
   ]
  },
  {
   "cell_type": "markdown",
   "metadata": {
    "id": "Exbo7ndcPSl2"
   },
   "source": [
    "**Clone the repo from github, Install the necessary libraries**"
   ]
  },
  {
   "cell_type": "code",
   "execution_count": 104,
   "metadata": {
    "colab": {
     "base_uri": "https://localhost:8080/"
    },
    "id": "7jnInNH7RUAX",
    "outputId": "9b6eae93-2db3-408a-daa2-c373e1fe9139"
   },
   "outputs": [
    {
     "name": "stdout",
     "output_type": "stream",
     "text": [
      "Requirement already satisfied: cairocffi in /Users/andreagraziano/opt/anaconda3/lib/python3.9/site-packages (1.6.1)\n",
      "Requirement already satisfied: cffi>=1.1.0 in /Users/andreagraziano/opt/anaconda3/lib/python3.9/site-packages (from cairocffi) (1.15.1)\n",
      "Requirement already satisfied: pycparser in /Users/andreagraziano/opt/anaconda3/lib/python3.9/site-packages (from cffi>=1.1.0->cairocffi) (2.21)\n",
      "\u001b[33mWARNING: There was an error checking the latest version of pip.\u001b[0m\u001b[33m\n",
      "\u001b[0mRequirement already satisfied: python-igraph==0.9.8 in /Users/andreagraziano/opt/anaconda3/lib/python3.9/site-packages (0.9.8)\n",
      "Requirement already satisfied: igraph==0.9.8 in /Users/andreagraziano/opt/anaconda3/lib/python3.9/site-packages (from python-igraph==0.9.8) (0.9.8)\n",
      "Requirement already satisfied: texttable>=1.6.2 in /Users/andreagraziano/opt/anaconda3/lib/python3.9/site-packages (from igraph==0.9.8->python-igraph==0.9.8) (1.7.0)\n",
      "\u001b[33mWARNING: There was an error checking the latest version of pip.\u001b[0m\u001b[33m\n",
      "\u001b[0m"
     ]
    }
   ],
   "source": [
    "import sys, os\n",
    "if not os.path.exists('naturecomm_cscg'):\n",
    "  print(\"Cloning naturecomm_cscg repo from github.com/vicariousinc\")\n",
    "  os.system(\"git clone http://github.com/vicariousinc/naturecomm_cscg\")\n",
    "\n",
    "!pip install cairocffi\n",
    "!pip install python-igraph==0.9.8"
   ]
  },
  {
   "cell_type": "markdown",
   "metadata": {
    "id": "AxUwqkMtUecB"
   },
   "source": [
    "***Import the needed python modules***"
   ]
  },
  {
   "cell_type": "code",
   "execution_count": 106,
   "metadata": {
    "id": "LrXWNnRYSHrD"
   },
   "outputs": [],
   "source": [
    "sys.path.append('naturecomm_cscg')\n",
    "import numpy as np\n",
    "from chmm_actions import CHMM, forwardE, datagen_structured_obs_room, forwardE_mp, backtraceE, backtrace, forward_mp, rargmax, forwardE, backtraceE\n",
    "import matplotlib.pyplot as plt\n",
    "import igraph\n",
    "from matplotlib import cm, colors\n",
    "import os\n",
    "from matplotlib.lines import Line2D\n",
    "from matplotlib.patches import Patch\n",
    "\n",
    "custom_colors = (\n",
    "    np.array(\n",
    "        [\n",
    "            [214, 214, 214],\n",
    "            [85, 35, 157],\n",
    "            [253, 252, 144],\n",
    "            [114, 245, 144],\n",
    "            [151, 38, 20],\n",
    "            [239, 142, 192],\n",
    "            [214, 134, 48],\n",
    "            [140, 194, 250],\n",
    "            [72, 160, 162],\n",
    "        ]\n",
    "    )\n",
    "    / 256\n",
    ")\n",
    "if not os.path.exists(\"figures\"):\n",
    "    os.makedirs(\"figures\")"
   ]
  },
  {
   "cell_type": "code",
   "execution_count": 107,
   "metadata": {},
   "outputs": [],
   "source": [
    "import numpy as np\n",
    "np.random.seed(52)"
   ]
  },
  {
   "cell_type": "code",
   "execution_count": 108,
   "metadata": {
    "id": "BTNfv_D3RUAb"
   },
   "outputs": [],
   "source": [
    "## A Few utility functions\n",
    "\n",
    "def plot_graph(\n",
    "    chmm, x, a, output_file, cmap=cm.Spectral, multiple_episodes=False, vertex_size=30\n",
    "):\n",
    "    states = chmm.decode(x, a)[1]\n",
    "\n",
    "    v = np.unique(states)\n",
    "    if multiple_episodes:\n",
    "        T = chmm.C[:, v][:, :, v][:-1, 1:, 1:]\n",
    "        v = v[1:]\n",
    "    else:\n",
    "        T = chmm.C[:, v][:, :, v]\n",
    "    A = T.sum(0)\n",
    "    A /= A.sum(1, keepdims=True) ##normalized state transition probabilities\n",
    "\n",
    "    g = igraph.Graph.Adjacency((A > 0).tolist())\n",
    "    node_labels = np.arange(x.max() + 1).repeat(chmm.n_clones)[v]\n",
    "    if multiple_episodes:\n",
    "        node_labels -= 1\n",
    "    colors = [cmap(nl)[:3] for nl in node_labels / node_labels.max()]\n",
    "\n",
    "    out = igraph.plot(\n",
    "        g,\n",
    "        output_file,\n",
    "        layout=g.layout(\"kamada_kawai\"),\n",
    "        vertex_color=colors,\n",
    "        vertex_label=v,\n",
    "        vertex_size=vertex_size,\n",
    "        margin=50,\n",
    "    )\n",
    "    print(v)\n",
    "    return out, states\n",
    "\n",
    "\n",
    "def get_mess_fwd(chmm, x, pseudocount=0.0, pseudocount_E=0.0):\n",
    "    n_clones = chmm.n_clones\n",
    "    E = np.zeros((n_clones.sum(), len(n_clones)))\n",
    "    last = 0\n",
    "    for c in range(len(n_clones)):\n",
    "        E[last : last + n_clones[c], c] = 1\n",
    "        last += n_clones[c]\n",
    "    E += pseudocount_E\n",
    "    norm = E.sum(1, keepdims=True)\n",
    "    norm[norm == 0] = 1\n",
    "    E /= norm\n",
    "    T = chmm.C + pseudocount\n",
    "    norm = T.sum(2, keepdims=True)\n",
    "    norm[norm == 0] = 1\n",
    "    T /= norm\n",
    "    T = T.mean(0, keepdims=True)\n",
    "    log2_lik, mess_fwd = forwardE(\n",
    "        T.transpose(0, 2, 1), E, chmm.Pi_x, chmm.n_clones, x, x*0 , store_messages=True\n",
    "    )\n",
    "    return mess_fwd, E, T\n",
    "\n",
    "\n",
    "def place_field(mess_fwd, rc, clone):\n",
    "    assert mess_fwd.shape[0] == rc.shape[0] and clone < mess_fwd.shape[1]\n",
    "    field = np.zeros(rc.max(0) + 1)\n",
    "    count = np.zeros(rc.max(0) + 1, int)\n",
    "    for t in range(mess_fwd.shape[0]):\n",
    "        r, c = rc[t]\n",
    "        field[r, c] += mess_fwd[t, clone]\n",
    "        count[r, c] += 1\n",
    "    count[count == 0] = 1\n",
    "    return field / count\n"
   ]
  },
  {
   "cell_type": "markdown",
   "metadata": {
    "id": "-hlK8ML_RUAe"
   },
   "source": [
    "# Quickly train a CSCG on a rectangular aliased room that has only 4 unique observations"
   ]
  },
  {
   "cell_type": "code",
   "execution_count": 39,
   "metadata": {
    "id": "xlfcQLOdDYcN"
   },
   "outputs": [],
   "source": [
    "def generate_sequence(sequence_length):\n",
    "    \n",
    "    transition_matrix = np.array([\n",
    "        [0.0, 0.5, 0.5, 0.0, 0.0, 0.0],   # Transition probabilities from S\n",
    "        [0.0, 0.0, 0.0, 0.5, 0.5, 0.0],   # Transition probabilities from L\n",
    "        [0.0, 0.0, 0.0, 0.5, 0.5, 0.0],   # Transition probabilities from NL\n",
    "        [0.6, 0.0, 0.0, 0.0, 0.0, 0.4],   # Transition probabilities from T  when arriving from L\n",
    "        [0.55, 0.0, 0.0, 0.0, 0.0, 0.45],   # Transition probabilities from C  when arriving from L\n",
    "        [1.0, 0.0, 0.0, 0.0, 0.0, 0.0]    # Transition probabilities from P\n",
    "    ])\n",
    "\n",
    "    observations = ['S', 'L', 'NL', 'T', 'C', 'P']\n",
    "    sequence = np.empty(sequence_length, dtype=int)\n",
    "\n",
    "    current_state_index = 0\n",
    "    for i in range(sequence_length):\n",
    "        sequence[i] = current_state_index\n",
    "        if (current_state_index==3 and sequence[i-1]==2):\n",
    "          next_state_probs = [0.2, 0.0, 0.0, 0.0, 0.0, 0.8]\n",
    "        elif (current_state_index==4 and sequence[i-1]==2):\n",
    "          next_state_probs = [0.1, 0.0, 0.0, 0.0, 0.0, 0.9]\n",
    "        else:\n",
    "          next_state_probs = transition_matrix[current_state_index]\n",
    "        #print('current state:', observations[current_state_index])\n",
    "        #print('probs:', next_state_probs)\n",
    "        next_state_index = np.random.choice(len(next_state_probs), p=next_state_probs)\n",
    "\n",
    "        current_state_index = next_state_index\n",
    "\n",
    "    return sequence"
   ]
  },
  {
   "cell_type": "code",
   "execution_count": 781,
   "metadata": {},
   "outputs": [],
   "source": [
    "def generate_sequence_1(sequence_length):\n",
    "    \n",
    "    transition_matrix = np.array([\n",
    "        [0.0, 0.5, 0.3, 0.2, 0.0],   # Transition probabilities from S\n",
    "        [0.0, 0.0, 0.4, 0.6, 0.0],   # Transition probabilities from L\n",
    "        [0.6, 0.0, 0.0, 0.0, 0.4],   # Transition probabilities from T  when arriving from L\n",
    "        [0.4, 0.0, 0.0, 0.0, 0.6], # Transition probabilities from C  when arriving from L\n",
    "        [1.0, 0.0, 0.0, 0.0, 0.0]    # Transition probabilities from P\n",
    "    ])\n",
    "\n",
    "    observations = ['S', 'L', 'T', 'C', 'P']\n",
    "    sequence = np.empty(sequence_length, dtype=int)\n",
    "\n",
    "    current_state_index = 0\n",
    "    for i in range(sequence_length):\n",
    "        sequence[i] = current_state_index\n",
    "        if (current_state_index==2 and sequence[i-1]==1):\n",
    "          next_state_probs = [0.1, 0.0, 0.0, 0.0, 0.9]\n",
    "        elif (current_state_index==3 and sequence[i-1]==1):\n",
    "          next_state_probs = [0.7, 0.0, 0.0, 0.0, 0.3]\n",
    "        else:\n",
    "          next_state_probs = transition_matrix[current_state_index]\n",
    "        #print('current state:', observations[current_state_index])\n",
    "        #print('probs:', next_state_probs)\n",
    "        next_state_index = np.random.choice(len(next_state_probs), p=next_state_probs)\n",
    "\n",
    "        current_state_index = next_state_index\n",
    "\n",
    "    return sequence"
   ]
  },
  {
   "cell_type": "code",
   "execution_count": 109,
   "metadata": {},
   "outputs": [],
   "source": [
    "def generate_sequence_simplified(sequence_length):\n",
    "    \n",
    "    transition_matrix = np.array([\n",
    "        [0.0, 0.5, 0.5, 0.0],   # Transition probabilities from S\n",
    "        [0.0, 0.0, 1.0, 0.0],   # Transition probabilities from L\n",
    "        [0.3, 0.0, 0.0, 0.7],   # Transition probabilities from T  when arriving from S\n",
    "        [1.0, 0.0, 0.0, 0.0]    # Transition probabilities from P\n",
    "    ])\n",
    "\n",
    "    observations = ['S', 'L', 'T', 'P']\n",
    "    sequence = np.empty(sequence_length, dtype=int)\n",
    "\n",
    "    current_state_index = 0\n",
    "    for i in range(sequence_length):\n",
    "        sequence[i] = current_state_index\n",
    "        if (current_state_index==2 and sequence[i-1]==1):\n",
    "          next_state_probs = [0.6, 0.0, 0.0, 0.4]\n",
    "        else:\n",
    "          next_state_probs = transition_matrix[current_state_index]\n",
    "        #print('current state:', observations[current_state_index])\n",
    "        #print('probs:', next_state_probs)\n",
    "        next_state_index = np.random.choice(len(next_state_probs), p=next_state_probs)\n",
    "\n",
    "        current_state_index = next_state_index\n",
    "\n",
    "    return sequence"
   ]
  },
  {
   "cell_type": "code",
   "execution_count": 771,
   "metadata": {},
   "outputs": [],
   "source": [
    "def generate_sequence_1_3(sequence_length):\n",
    "    \n",
    "    transition_matrix = np.array([\n",
    "        [0.0, 0.5, 0.3, 0.2, 0.0, 0.0],   # Transition probabilities from S\n",
    "        [0.0, 0.0, 0.4, 0.6, 0.0, 0.0],   # Transition probabilities from L\n",
    "        [0.0, 0.0, 0.0, 0.0, 1.0, 0.0],   # Transition probabilities from T  when arriving from L\n",
    "        [0.0, 0.0, 0.0, 0.0, 1.0, 0.0], # Transition probabilities from C  when arriving from L\n",
    "        [0.1, 0.0, 0.0, 0.0, 0.0, 0.9],    # Transition probabilities from A\n",
    "        [1.0, 0.0, 0.0, 0.0, 0.0, 0.0]  # Transition probabilities from P\n",
    "    ])\n",
    "\n",
    "    observations = ['S', 'L', 'T', 'C', 'A', 'P']\n",
    "    sequence = np.empty(sequence_length, dtype=int)\n",
    "\n",
    "    current_state_index = 0\n",
    "    for i in range(sequence_length):\n",
    "        sequence[i] = current_state_index\n",
    "        if (current_state_index==4 and sequence[i-1]==2 and sequence[i-2]==1):\n",
    "          next_state_probs = [0.8, 0.0, 0.0, 0.0, 0.0, 0.2]\n",
    "        elif (current_state_index==4 and sequence[i-1]==3 and sequence[i-2]==1):\n",
    "          next_state_probs = [0.6, 0.0, 0.0, 0.0, 0.0, 0.4]\n",
    "        else:\n",
    "          next_state_probs = transition_matrix[current_state_index]\n",
    "        #print('current state:', observations[current_state_index])\n",
    "        #print('probs:', next_state_probs)\n",
    "        next_state_index = np.random.choice(len(next_state_probs), p=next_state_probs)\n",
    "\n",
    "        current_state_index = next_state_index\n",
    "\n",
    "    return sequence"
   ]
  },
  {
   "cell_type": "code",
   "execution_count": 270,
   "metadata": {},
   "outputs": [],
   "source": [
    "def generate_sequence_0(sequence_length):\n",
    "    \n",
    "    transition_matrix = np.array([\n",
    "        [0.0, 0.4, 0.4, 0.0, 0.2, 0.0],   # Transition probabilities from S\n",
    "        [0.0, 0.0, 0.0, 1.0, 0.0, 0.0],   # Transition probabilities from L\n",
    "        [0.0, 0.0, 0.0, 1.0, 0.0, 0.0],   # Transition probabilities from NL\n",
    "        [0.8, 0.0, 0.0, 0.0, 0.0, 0.2],   # Transition probabilities from T  when arriving from L\n",
    "        [0.1, 0.0, 0.0, 0.0, 0.0, 0.9],   # Transition probabilities from C  when arriving from L\n",
    "        [1.0, 0.0, 0.0, 0.0, 0.0, 0.0]    # Transition probabilities from P\n",
    "    ])\n",
    "\n",
    "    observations = ['S', 'L', 'NL', 'T', 'C', 'P']\n",
    "    sequence = np.empty(sequence_length, dtype=int)\n",
    "\n",
    "    current_state_index = 0\n",
    "    for i in range(sequence_length):\n",
    "        sequence[i] = current_state_index\n",
    "        if (current_state_index==3 and sequence[i-1]==2):\n",
    "          next_state_probs = [0.3, 0.0, 0.0, 0.0, 0.0, 0.7]\n",
    "        #if (current_state_index==4 and sequence[i-1]==2):\n",
    "        #  next_state_probs = [0.1, 0.0, 0.0, 0.0, 0.0, 0.9]\n",
    "        else:\n",
    "          next_state_probs = transition_matrix[current_state_index]\n",
    "        #print('current state:', observations[current_state_index])\n",
    "        #print('probs:', next_state_probs)\n",
    "        next_state_index = np.random.choice(len(next_state_probs), p=next_state_probs)\n",
    "\n",
    "        current_state_index = next_state_index\n",
    "\n",
    "    return sequence"
   ]
  },
  {
   "cell_type": "code",
   "execution_count": 413,
   "metadata": {},
   "outputs": [],
   "source": [
    "def generate_sequence_0_1(sequence_length):\n",
    "    \n",
    "    transition_matrix = np.array([\n",
    "        [0.0, 0.4, 0.4, 0.0, 0.2, 0.0],   # Transition probabilities from S\n",
    "        [0.0, 0.0, 0.0, 0.4, 0.6, 0.0],   # Transition probabilities from L\n",
    "        [0.0, 0.0, 0.0, 1.0, 0.0, 0.0],   # Transition probabilities from NL\n",
    "        [0.8, 0.0, 0.0, 0.0, 0.0, 0.2],   # Transition probabilities from T  when arriving from L\n",
    "        [0.1, 0.0, 0.0, 0.0, 0.0, 0.9],   # Transition probabilities from C  when arriving from L\n",
    "        [1.0, 0.0, 0.0, 0.0, 0.0, 0.0]    # Transition probabilities from P\n",
    "    ])\n",
    "\n",
    "    observations = ['S', 'L', 'NL', 'T', 'C', 'P']\n",
    "    sequence = np.empty(sequence_length, dtype=int)\n",
    "\n",
    "    current_state_index = 0\n",
    "    for i in range(sequence_length):\n",
    "        sequence[i] = current_state_index\n",
    "        if (current_state_index==3 and sequence[i-1]==2):\n",
    "          next_state_probs = [0.3, 0.0, 0.0, 0.0, 0.0, 0.7]\n",
    "        elif (current_state_index==4 and sequence[i-1]==2):\n",
    "          next_state_probs = [0.4, 0.0, 0.0, 0.0, 0.0, 0.6]\n",
    "        else:\n",
    "          next_state_probs = transition_matrix[current_state_index]\n",
    "        #print('current state:', observations[current_state_index])\n",
    "        #print('probs:', next_state_probs)\n",
    "        next_state_index = np.random.choice(len(next_state_probs), p=next_state_probs)\n",
    "\n",
    "        current_state_index = next_state_index\n",
    "\n",
    "    return sequence"
   ]
  },
  {
   "cell_type": "code",
   "execution_count": 610,
   "metadata": {},
   "outputs": [],
   "source": [
    "def generate_sequence_2(sequence_length):\n",
    "    \n",
    "    transition_matrix = np.array([\n",
    "        [0.0, 0.0, 0.4, 0.6, 0.0],   # Transition probabilities from L\n",
    "        [0.0, 0.0, 0.6, 0.4, 0.0],   # Transition probabilities from NL\n",
    "        [0.25, 0.25, 0.0, 0.0, 0.5],   # Transition probabilities from T  when arriving from L\n",
    "        [0.2, 0.2, 0.0, 0.0, 0.6],   # Transition probabilities from C  when arriving from L\n",
    "        [0.5, 0.5, 0.0, 0.0, 0.0]    # Transition probabilities from P\n",
    "    ])\n",
    "\n",
    "    observations = ['L', 'NL', 'T', 'C', 'P']\n",
    "    sequence = np.empty(sequence_length, dtype=int)\n",
    "\n",
    "    current_state_index = 0\n",
    "    for i in range(sequence_length):\n",
    "        sequence[i] = current_state_index\n",
    "        if (current_state_index==2 and sequence[i-1]==1):\n",
    "          next_state_probs = [0.1, 0.1, 0.0, 0.0, 0.8]\n",
    "        if (current_state_index==3 and sequence[i-1]==1):\n",
    "          next_state_probs = [0.05, 0.05, 0.0, 0.0, 0.9]\n",
    "        else:\n",
    "          next_state_probs = transition_matrix[current_state_index]\n",
    "        #print('current state:', observations[current_state_index])\n",
    "        #print('probs:', next_state_probs)\n",
    "        next_state_index = np.random.choice(len(next_state_probs), p=next_state_probs)\n",
    "\n",
    "        current_state_index = next_state_index\n",
    "\n",
    "    return sequence"
   ]
  },
  {
   "cell_type": "code",
   "execution_count": 6,
   "metadata": {},
   "outputs": [
    {
     "name": "stdout",
     "output_type": "stream",
     "text": [
      "Empirical Transition Matrix:\n",
      "[[0.         0.51102386 0.48897614 0.        ]\n",
      " [0.         0.         1.         0.        ]\n",
      " [0.49184783 0.         0.         0.50815217]\n",
      " [1.         0.         0.         0.        ]]\n",
      "\n",
      "Conditional Probability of T to P when arriving from L: 0.30\n",
      "Conditional Probability of T to P when arriving from S: 0.72\n"
     ]
    }
   ],
   "source": [
    "from collections import defaultdict\n",
    "import numpy as np\n",
    "\n",
    "def calculate_transition_probabilities(sequence, num_states=4):\n",
    "    # Initialize a matrix to count transitions between states\n",
    "    transition_counts = np.zeros((num_states, num_states), dtype=int)\n",
    "    \n",
    "    # Separate counters for specific transitions (e.g., T to P based on previous state)\n",
    "    special_transition_counts = {\n",
    "        'T_from_L_to_P': 0, \n",
    "        'T_from_S_to_P': 0, \n",
    "        'T_from_L_total': 0, \n",
    "        'T_from_S_total': 0\n",
    "    }\n",
    "    \n",
    "    # Count transitions between states, tracking previous state\n",
    "    for i in range(1, len(sequence) - 1):\n",
    "        previous_state = sequence[i - 1]\n",
    "        current_state = sequence[i]\n",
    "        next_state = sequence[i + 1]\n",
    "        \n",
    "        # Count the general transition\n",
    "        transition_counts[current_state][next_state] += 1\n",
    "        \n",
    "        # Special handling for transitions from T to P based on previous state\n",
    "        if current_state == 2 and next_state == 3:  # T to P\n",
    "            if previous_state == 1:  # Arrived at T from L\n",
    "                special_transition_counts['T_from_L_to_P'] += 1\n",
    "                special_transition_counts['T_from_L_total'] += 1\n",
    "            elif previous_state == 0:  # Arrived at T from S\n",
    "                special_transition_counts['T_from_S_to_P'] += 1\n",
    "                special_transition_counts['T_from_S_total'] += 1\n",
    "        elif current_state == 2:  # T but not transitioning to P\n",
    "            if previous_state == 1:\n",
    "                special_transition_counts['T_from_L_total'] += 1\n",
    "            elif previous_state == 0:\n",
    "                special_transition_counts['T_from_S_total'] += 1\n",
    "\n",
    "    # Calculate the general transition probabilities\n",
    "    transition_matrix = np.zeros((num_states, num_states))\n",
    "    for from_state in range(num_states):\n",
    "        from_state_total = np.sum(transition_counts[from_state])\n",
    "        if from_state_total > 0:\n",
    "            transition_matrix[from_state] = transition_counts[from_state] / from_state_total\n",
    "\n",
    "    # Calculate the conditional probabilities for T to P based on previous state\n",
    "    prob_T_from_L_to_P = (special_transition_counts['T_from_L_to_P'] / special_transition_counts['T_from_L_total']\n",
    "                          if special_transition_counts['T_from_L_total'] > 0 else 0)\n",
    "    prob_T_from_S_to_P = (special_transition_counts['T_from_S_to_P'] / special_transition_counts['T_from_S_total']\n",
    "                          if special_transition_counts['T_from_S_total'] > 0 else 0)\n",
    "    \n",
    "    # Print or return conditional probabilities along with the transition matrix\n",
    "    print(\"Empirical Transition Matrix:\")\n",
    "    print(transition_matrix)\n",
    "    print(f\"\\nConditional Probability of T to P when arriving from L: {prob_T_from_L_to_P:.2f}\")\n",
    "    print(f\"Conditional Probability of T to P when arriving from S: {prob_T_from_S_to_P:.2f}\")\n",
    "\n",
    "    return transition_matrix, prob_T_from_L_to_P, prob_T_from_S_to_P\n",
    "\n",
    "# Example usage\n",
    "length = 10000\n",
    "sequence = generate_sequence_simplified(length)\n",
    "transition_matrix, prob_T_from_L_to_A, prob_T_from_S_to_A = calculate_transition_probabilities(sequence)"
   ]
  },
  {
   "cell_type": "code",
   "execution_count": null,
   "metadata": {},
   "outputs": [
    {
     "name": "stdout",
     "output_type": "stream",
     "text": [
      "Empirical Transition Matrix:\n",
      "[[0.         0.51413109 0.48586891 0.        ]\n",
      " [0.         0.         1.         0.        ]\n",
      " [0.5082657  0.         0.         0.4917343 ]\n",
      " [1.         0.         0.         0.        ]]\n",
      "\n",
      "Conditional Probability of T to A when arriving from L: 0.29\n",
      "Conditional Probability of T to A when arriving from S: 0.70\n"
     ]
    }
   ],
   "source": [
    "#check that the sequence generation f. works correctly\n",
    "from collections import defaultdict\n",
    "\n",
    "def calculate_transition_probabilities(sequence, num_states=4):\n",
    "    # Initialize a matrix to count transitions between states\n",
    "    transition_counts = np.zeros((num_states, num_states), dtype=int)\n",
    "    \n",
    "    # Separate counters for specific transitions (e.g., T to A based on previous state)\n",
    "    special_transition_counts = {'T_from_L_to_A': 0, 'T_from_S_to_A': 0, 'T_from_L_total': 0, 'T_from_S_total': 0}\n",
    "    \n",
    "    # Count transitions between states, tracking previous state\n",
    "    for i in range(1, len(sequence) - 1):\n",
    "        previous_state = sequence[i - 1]\n",
    "        current_state = sequence[i]\n",
    "        next_state = sequence[i + 1]\n",
    "        \n",
    "        # Count the general transition\n",
    "        transition_counts[current_state][next_state] += 1\n",
    "        \n",
    "        # Special handling for transitions from T to A based on previous state\n",
    "        if current_state == 2 and next_state == 3:  # T to A\n",
    "            if previous_state == 1:  # Arrived at T from L\n",
    "                special_transition_counts['T_from_L_to_A'] += 1\n",
    "                special_transition_counts['T_from_L_total'] += 1\n",
    "            elif previous_state == 0:  # Arrived at T from S\n",
    "                special_transition_counts['T_from_S_to_A'] += 1\n",
    "                special_transition_counts['T_from_S_total'] += 1\n",
    "        elif current_state == 2:  # T but not transitioning to A\n",
    "            if previous_state == 1:\n",
    "                special_transition_counts['T_from_L_total'] += 1\n",
    "            elif previous_state == 0:\n",
    "                special_transition_counts['T_from_S_total'] += 1\n",
    "\n",
    "    # Calculate the general transition probabilities\n",
    "    transition_matrix = np.zeros((num_states, num_states))\n",
    "    \n",
    "    for from_state in range(num_states):\n",
    "        from_state_total = np.sum(transition_counts[from_state])\n",
    "        if from_state_total > 0:\n",
    "            transition_matrix[from_state] = transition_counts[from_state] / from_state_total\n",
    "\n",
    "    # Calculate the conditional probabilities for T to A based on previous state\n",
    "    prob_T_from_L_to_A = (special_transition_counts['T_from_L_to_A'] / special_transition_counts['T_from_L_total']\n",
    "                          if special_transition_counts['T_from_L_total'] > 0 else 0)\n",
    "    prob_T_from_S_to_A = (special_transition_counts['T_from_S_to_A'] / special_transition_counts['T_from_S_total']\n",
    "                          if special_transition_counts['T_from_S_total'] > 0 else 0)\n",
    "    \n",
    "    # Print or return conditional probabilities along with the transition matrix\n",
    "    print(\"Empirical Transition Matrix:\")\n",
    "    print(transition_matrix)\n",
    "    print(f\"\\nConditional Probability of T to A when arriving from L: {prob_T_from_L_to_A:.2f}\")\n",
    "    print(f\"Conditional Probability of T to A when arriving from S: {prob_T_from_S_to_A:.2f}\")\n",
    "\n",
    "    return transition_matrix, prob_T_from_L_to_A, prob_T_from_S_to_A\n",
    "\n",
    "# Example usage\n",
    "length = 10000\n",
    "sequence = generate_sequence(length)\n",
    "transition_matrix, prob_T_from_L_to_A, prob_T_from_S_to_A = calculate_transition_probabilities(sequence)"
   ]
  },
  {
   "cell_type": "code",
   "execution_count": 53,
   "metadata": {
    "colab": {
     "base_uri": "https://localhost:8080/"
    },
    "id": "LVh1HsDPXiGb",
    "outputId": "1b038921-2f15-414a-d933-dc8a2c6b8b72"
   },
   "outputs": [
    {
     "name": "stdout",
     "output_type": "stream",
     "text": [
      "Average number of clones: 70.0\n"
     ]
    },
    {
     "name": "stderr",
     "output_type": "stream",
     "text": [
      " 72%|███████▏  | 358/500 [01:12<00:28,  4.91it/s, train_bps=0.629]\n"
     ]
    }
   ],
   "source": [
    "# Generate data and train a CSCG.\n",
    "\n",
    "n_emissions = 4\n",
    "length =10000\n",
    "#sequence, actions = generate_sequence_w_actions(300)\n",
    "sequence = generate_sequence_simplified(length)\n",
    "actions = np.full(length, 0)\n",
    "x, a = sequence, actions\n",
    "\n",
    "n_clones = np.ones(n_emissions, dtype=np.int64) * 70\n",
    "chmm = CHMM(n_clones=n_clones, pseudocount=18e-3, x=x, a=a, seed=44)  # Initialize the model\n",
    "progression = chmm.learn_em_T(x, a, n_iter=500)  # Training   use n_iter=1000 for better training\n"
   ]
  },
  {
   "cell_type": "code",
   "execution_count": 62,
   "metadata": {},
   "outputs": [
    {
     "name": "stdout",
     "output_type": "stream",
     "text": [
      "Average number of clones: 70.0\n"
     ]
    },
    {
     "name": "stderr",
     "output_type": "stream",
     "text": [
      "100%|██████████| 500/500 [00:20<00:00, 24.67it/s, train_bps=0.296]\n"
     ]
    }
   ],
   "source": [
    "# Generate data and train a CSCG with actions\n",
    "\n",
    "n_emissions = 4\n",
    "length =1800\n",
    "#sequence, actions = generate_sequence_w_actions(300)\n",
    "sequence = generate_sequence_simplified(length)\n",
    "actions = np.full(length, 0)\n",
    "\n",
    "#add actions\n",
    "for i in range(len(sequence[:-1])):\n",
    "    if sequence[i]==0 and sequence[i+1]==1: #when I go from Start to Lunch\n",
    "        actions[i] = 1\n",
    "x, a = sequence, actions\n",
    "\n",
    "n_clones = np.ones(n_emissions, dtype=np.int64) * 70\n",
    "chmm = CHMM(n_clones=n_clones, pseudocount=12e-4, x=x, a=a, seed=44)  # Initialize the model\n",
    "progression = chmm.learn_em_T(x, a, n_iter=500)  # Training   use n_iter=1000 for better training"
   ]
  },
  {
   "cell_type": "code",
   "execution_count": 184,
   "metadata": {},
   "outputs": [
    {
     "name": "stdout",
     "output_type": "stream",
     "text": [
      "Average number of clones: 70.0\n"
     ]
    },
    {
     "name": "stderr",
     "output_type": "stream",
     "text": [
      "100%|██████████| 500/500 [00:19<00:00, 25.19it/s, train_bps=0.00721]\n"
     ]
    }
   ],
   "source": [
    "# Generate data and train a CSCG with all actions\n",
    "\n",
    "n_emissions = 4\n",
    "length =1800\n",
    "#sequence, actions = generate_sequence_w_actions(300)\n",
    "sequence = generate_sequence_simplified(length)\n",
    "actions = np.full(length, 0)\n",
    "\n",
    "#add actions\n",
    "for i in range(len(sequence[:-1])):\n",
    "    if sequence[i]==0 and sequence[i+1]==1: #when I go from Start to Lunch\n",
    "        actions[i] = 1\n",
    "    if sequence[i]==2 and sequence[i+1]==3: #when I go from Train to Plane\n",
    "        actions[i] = 1\n",
    "x, a = sequence, actions\n",
    "\n",
    "n_clones = np.ones(n_emissions, dtype=np.int64) * 70\n",
    "chmm = CHMM(n_clones=n_clones, pseudocount=12e-4, x=x, a=a, seed=44)  # Initialize the model\n",
    "progression = chmm.learn_em_T(x, a, n_iter=500)  # Training   use n_iter=1000 for better training"
   ]
  },
  {
   "cell_type": "code",
   "execution_count": 633,
   "metadata": {},
   "outputs": [
    {
     "data": {
      "text/plain": [
       "(array([0, 0, 0, 0, 0, 1, 1, 0, 1, 1, 0, 0, 0, 0, 0, 0, 0, 0, 0, 0, 0, 0,\n",
       "        0, 0, 1, 1, 0, 0, 0, 1, 0, 0, 0, 0, 0, 0, 1, 1, 0, 0, 0, 1, 0, 0,\n",
       "        1, 1, 0, 0, 0, 0]),\n",
       " array([5, 0, 2, 3, 5, 0, 1, 4, 0, 1, 4, 5, 0, 2, 3, 5, 0, 2, 3, 5, 0, 2,\n",
       "        3, 5, 0, 1, 4, 5, 0, 2, 4, 5, 0, 2, 3, 5, 0, 1, 4, 5, 0, 2, 4, 5,\n",
       "        0, 1, 4, 5, 0, 2]))"
      ]
     },
     "execution_count": 633,
     "metadata": {},
     "output_type": "execute_result"
    }
   ],
   "source": [
    "for i in range(len(sequence[:-1])):\n",
    "    if sequence[i]==0 and sequence[i+1]==1:\n",
    "        actions[i] = 1\n",
    "    if ((sequence[i]==1 or sequence[i]==2) and sequence[i+1]==4): #when i go from Start to Lunch\n",
    "        actions[i] = 1\n",
    "actions[50:100], sequence[50:100]"
   ]
  },
  {
   "cell_type": "code",
   "execution_count": null,
   "metadata": {},
   "outputs": [],
   "source": []
  },
  {
   "cell_type": "code",
   "execution_count": null,
   "metadata": {},
   "outputs": [],
   "source": []
  },
  {
   "cell_type": "code",
   "execution_count": null,
   "metadata": {
    "id": "Q5iM7FovgU7p"
   },
   "outputs": [
    {
     "ename": "NameError",
     "evalue": "name 'states' is not defined",
     "output_type": "error",
     "traceback": [
      "\u001b[0;31m---------------------------------------------------------------------------\u001b[0m",
      "\u001b[0;31mNameError\u001b[0m                                 Traceback (most recent call last)",
      "\u001b[0;32m/var/folders/1x/pjr85krn4d9dm0h089qwfmnh0000gn/T/ipykernel_6533/443638078.py\u001b[0m in \u001b[0;36m<module>\u001b[0;34m\u001b[0m\n\u001b[1;32m      1\u001b[0m \u001b[0mcmap\u001b[0m\u001b[0;34m=\u001b[0m\u001b[0mcm\u001b[0m\u001b[0;34m.\u001b[0m\u001b[0mSpectral\u001b[0m\u001b[0;34m\u001b[0m\u001b[0;34m\u001b[0m\u001b[0m\n\u001b[0;32m----> 2\u001b[0;31m \u001b[0mv\u001b[0m \u001b[0;34m=\u001b[0m \u001b[0mnp\u001b[0m\u001b[0;34m.\u001b[0m\u001b[0munique\u001b[0m\u001b[0;34m(\u001b[0m\u001b[0mstates\u001b[0m\u001b[0;34m)\u001b[0m\u001b[0;34m\u001b[0m\u001b[0;34m\u001b[0m\u001b[0m\n\u001b[0m\u001b[1;32m      3\u001b[0m \u001b[0mnode_labels\u001b[0m \u001b[0;34m=\u001b[0m \u001b[0mnp\u001b[0m\u001b[0;34m.\u001b[0m\u001b[0marange\u001b[0m\u001b[0;34m(\u001b[0m\u001b[0mx\u001b[0m\u001b[0;34m.\u001b[0m\u001b[0mmax\u001b[0m\u001b[0;34m(\u001b[0m\u001b[0;34m)\u001b[0m \u001b[0;34m+\u001b[0m \u001b[0;36m1\u001b[0m\u001b[0;34m)\u001b[0m\u001b[0;34m.\u001b[0m\u001b[0mrepeat\u001b[0m\u001b[0;34m(\u001b[0m\u001b[0mchmm\u001b[0m\u001b[0;34m.\u001b[0m\u001b[0mn_clones\u001b[0m\u001b[0;34m)\u001b[0m\u001b[0;34m[\u001b[0m\u001b[0mv\u001b[0m\u001b[0;34m]\u001b[0m\u001b[0;34m\u001b[0m\u001b[0;34m\u001b[0m\u001b[0m\n\u001b[1;32m      4\u001b[0m \u001b[0mcolors\u001b[0m \u001b[0;34m=\u001b[0m \u001b[0;34m[\u001b[0m\u001b[0mcmap\u001b[0m\u001b[0;34m(\u001b[0m\u001b[0mnl\u001b[0m\u001b[0;34m)\u001b[0m\u001b[0;34m[\u001b[0m\u001b[0;34m:\u001b[0m\u001b[0;36m3\u001b[0m\u001b[0;34m]\u001b[0m \u001b[0;32mfor\u001b[0m \u001b[0mnl\u001b[0m \u001b[0;32min\u001b[0m \u001b[0mnode_labels\u001b[0m \u001b[0;34m/\u001b[0m \u001b[0mnode_labels\u001b[0m\u001b[0;34m.\u001b[0m\u001b[0mmax\u001b[0m\u001b[0;34m(\u001b[0m\u001b[0;34m)\u001b[0m\u001b[0;34m]\u001b[0m\u001b[0;34m\u001b[0m\u001b[0;34m\u001b[0m\u001b[0m\n\u001b[1;32m      5\u001b[0m \u001b[0mstates\u001b[0m \u001b[0;34m=\u001b[0m \u001b[0mchmm\u001b[0m\u001b[0;34m.\u001b[0m\u001b[0mdecode\u001b[0m\u001b[0;34m(\u001b[0m\u001b[0mx\u001b[0m\u001b[0;34m,\u001b[0m \u001b[0ma\u001b[0m\u001b[0;34m)\u001b[0m\u001b[0;34m[\u001b[0m\u001b[0;36m1\u001b[0m\u001b[0;34m]\u001b[0m\u001b[0;34m\u001b[0m\u001b[0;34m\u001b[0m\u001b[0m\n",
      "\u001b[0;31mNameError\u001b[0m: name 'states' is not defined"
     ]
    }
   ],
   "source": [
    "cmap=cm.Spectral\n",
    "v = np.unique(states)\n",
    "node_labels = np.arange(x.max() + 1).repeat(chmm.n_clones)[v]\n",
    "colors = [cmap(nl)[:3] for nl in node_labels / node_labels.max()]\n",
    "states = chmm.decode(x, a)[1]\n",
    "\n",
    "v = np.unique(states)\n",
    "v"
   ]
  },
  {
   "cell_type": "code",
   "execution_count": 9,
   "metadata": {
    "colab": {
     "background_save": true
    },
    "id": "5mUZWOV87UaW",
    "outputId": "5ac0b557-1912-425d-bb14-e842b24940b7"
   },
   "outputs": [
    {
     "data": {
      "text/plain": [
       "array([0, 2, 4, 3, 0, 1, 3, 0, 2, 4, 3, 0, 2, 4, 3, 0, 1, 3, 0, 2])"
      ]
     },
     "execution_count": 9,
     "metadata": {},
     "output_type": "execute_result"
    }
   ],
   "source": [
    "sequence[:20]"
   ]
  },
  {
   "cell_type": "code",
   "execution_count": 111,
   "metadata": {
    "colab": {
     "base_uri": "https://localhost:8080/",
     "height": 821
    },
    "id": "hUlhyud-D43d",
    "outputId": "ce1c1129-9d07-42c6-f2c2-022feb7cb88a"
   },
   "outputs": [
    {
     "name": "stdout",
     "output_type": "stream",
     "text": [
      "[ 15  51  90 195 228]\n"
     ]
    },
    {
     "data": {
      "image/svg+xml": [
       "<?xml version=\"1.0\" encoding=\"UTF-8\"?>\n",
       "<svg xmlns=\"http://www.w3.org/2000/svg\" xmlns:xlink=\"http://www.w3.org/1999/xlink\" width=\"600pt\" height=\"600pt\" viewBox=\"0 0 600 600\" version=\"1.1\">\n",
       "<defs>\n",
       "<g>\n",
       "<symbol overflow=\"visible\" id=\"glyph0-0\">\n",
       "<path style=\"stroke:none;\" d=\"M 0.453125 0 L 0.453125 -10.042969 L 8.421875 -10.042969 L 8.421875 0 Z M 7.164062 -1.257812 L 7.164062 -8.785156 L 1.710938 -8.785156 L 1.710938 -1.257812 Z M 7.164062 -1.257812 \"/>\n",
       "</symbol>\n",
       "<symbol overflow=\"visible\" id=\"glyph0-1\">\n",
       "<path style=\"stroke:none;\" d=\"M 1.339844 -6.929688 L 1.339844 -7.875 C 2.226562 -7.960938 2.847656 -8.105469 3.199219 -8.308594 C 3.550781 -8.511719 3.8125 -8.992188 3.984375 -9.75 L 4.957031 -9.75 L 4.957031 0 L 3.644531 0 L 3.644531 -6.929688 Z M 1.339844 -6.929688 \"/>\n",
       "</symbol>\n",
       "<symbol overflow=\"visible\" id=\"glyph0-2\">\n",
       "<path style=\"stroke:none;\" d=\"M 1.730469 -2.496094 C 1.8125 -1.792969 2.136719 -1.308594 2.707031 -1.039062 C 3 -0.902344 3.335938 -0.835938 3.71875 -0.835938 C 4.449219 -0.835938 4.988281 -1.066406 5.339844 -1.53125 C 5.691406 -1.996094 5.867188 -2.511719 5.867188 -3.078125 C 5.867188 -3.761719 5.65625 -4.289062 5.238281 -4.664062 C 4.820312 -5.035156 4.324219 -5.222656 3.738281 -5.222656 C 3.316406 -5.222656 2.953125 -5.140625 2.648438 -4.976562 C 2.34375 -4.8125 2.085938 -4.585938 1.875 -4.292969 L 0.804688 -4.355469 L 1.550781 -9.625 L 6.636719 -9.625 L 6.636719 -8.4375 L 2.476562 -8.4375 L 2.058594 -5.714844 C 2.285156 -5.886719 2.5 -6.019531 2.707031 -6.105469 C 3.070312 -6.253906 3.492188 -6.328125 3.972656 -6.328125 C 4.871094 -6.328125 5.628906 -6.039062 6.253906 -5.460938 C 6.878906 -4.882812 7.191406 -4.148438 7.191406 -3.261719 C 7.191406 -2.335938 6.90625 -1.519531 6.332031 -0.8125 C 5.761719 -0.105469 4.847656 0.246094 3.59375 0.246094 C 2.796875 0.246094 2.09375 0.0234375 1.480469 -0.425781 C 0.867188 -0.875 0.523438 -1.566406 0.453125 -2.496094 Z M 1.730469 -2.496094 \"/>\n",
       "</symbol>\n",
       "<symbol overflow=\"visible\" id=\"glyph0-3\">\n",
       "<path style=\"stroke:none;\" d=\"M 1.859375 -2.367188 C 1.894531 -1.6875 2.15625 -1.21875 2.644531 -0.957031 C 2.894531 -0.820312 3.179688 -0.75 3.492188 -0.75 C 4.082031 -0.75 4.582031 -0.996094 4.996094 -1.488281 C 5.410156 -1.976562 5.707031 -2.972656 5.878906 -4.46875 C 5.605469 -4.039062 5.265625 -3.734375 4.863281 -3.558594 C 4.460938 -3.382812 4.027344 -3.296875 3.5625 -3.296875 C 2.617188 -3.296875 1.871094 -3.589844 1.324219 -4.175781 C 0.773438 -4.765625 0.5 -5.519531 0.5 -6.445312 C 0.5 -7.335938 0.769531 -8.117188 1.3125 -8.789062 C 1.855469 -9.464844 2.65625 -9.804688 3.710938 -9.804688 C 5.136719 -9.804688 6.121094 -9.160156 6.664062 -7.875 C 6.964844 -7.167969 7.117188 -6.285156 7.117188 -5.222656 C 7.117188 -4.023438 6.9375 -2.960938 6.578125 -2.039062 C 5.980469 -0.496094 4.96875 0.273438 3.539062 0.273438 C 2.582031 0.273438 1.855469 0.0234375 1.359375 -0.476562 C 0.863281 -0.980469 0.617188 -1.609375 0.617188 -2.367188 Z M 3.726562 -4.375 C 4.214844 -4.375 4.660156 -4.535156 5.0625 -4.855469 C 5.464844 -5.179688 5.667969 -5.738281 5.667969 -6.542969 C 5.667969 -7.261719 5.484375 -7.796875 5.125 -8.152344 C 4.761719 -8.503906 4.300781 -8.679688 3.738281 -8.679688 C 3.136719 -8.679688 2.660156 -8.480469 2.308594 -8.078125 C 1.953125 -7.671875 1.777344 -7.132812 1.777344 -6.460938 C 1.777344 -5.820312 1.933594 -5.316406 2.242188 -4.9375 C 2.550781 -4.5625 3.046875 -4.375 3.726562 -4.375 Z M 3.726562 -4.375 \"/>\n",
       "</symbol>\n",
       "<symbol overflow=\"visible\" id=\"glyph0-4\">\n",
       "<path style=\"stroke:none;\" d=\"M 3.789062 -9.789062 C 5.054688 -9.789062 5.96875 -9.265625 6.535156 -8.222656 C 6.972656 -7.417969 7.191406 -6.3125 7.191406 -4.90625 C 7.191406 -3.578125 6.992188 -2.476562 6.597656 -1.605469 C 6.023438 -0.359375 5.082031 0.265625 3.78125 0.265625 C 2.605469 0.265625 1.730469 -0.242188 1.15625 -1.265625 C 0.675781 -2.117188 0.4375 -3.261719 0.4375 -4.695312 C 0.4375 -5.808594 0.582031 -6.761719 0.867188 -7.5625 C 1.40625 -9.046875 2.378906 -9.789062 3.789062 -9.789062 Z M 3.773438 -0.855469 C 4.410156 -0.855469 4.917969 -1.136719 5.296875 -1.703125 C 5.675781 -2.265625 5.867188 -3.320312 5.867188 -4.859375 C 5.867188 -5.972656 5.726562 -6.886719 5.453125 -7.605469 C 5.179688 -8.324219 4.652344 -8.679688 3.863281 -8.679688 C 3.136719 -8.679688 2.609375 -8.339844 2.273438 -7.660156 C 1.9375 -6.976562 1.769531 -5.976562 1.769531 -4.648438 C 1.769531 -3.648438 1.878906 -2.847656 2.09375 -2.242188 C 2.421875 -1.316406 2.980469 -0.855469 3.773438 -0.855469 Z M 3.773438 -0.855469 \"/>\n",
       "</symbol>\n",
       "<symbol overflow=\"visible\" id=\"glyph0-5\">\n",
       "<path style=\"stroke:none;\" d=\"M 0.4375 0 C 0.484375 -0.84375 0.65625 -1.578125 0.960938 -2.203125 C 1.265625 -2.828125 1.855469 -3.394531 2.734375 -3.902344 L 4.046875 -4.664062 C 4.632812 -5.003906 5.046875 -5.296875 5.285156 -5.539062 C 5.65625 -5.914062 5.84375 -6.347656 5.84375 -6.835938 C 5.84375 -7.40625 5.671875 -7.859375 5.332031 -8.191406 C 4.992188 -8.527344 4.535156 -8.695312 3.964844 -8.695312 C 3.121094 -8.695312 2.539062 -8.375 2.214844 -7.738281 C 2.042969 -7.398438 1.945312 -6.921875 1.929688 -6.316406 L 0.675781 -6.316406 C 0.691406 -7.167969 0.847656 -7.863281 1.148438 -8.402344 C 1.679688 -9.351562 2.621094 -9.824219 3.972656 -9.824219 C 5.09375 -9.824219 5.910156 -9.519531 6.429688 -8.914062 C 6.945312 -8.308594 7.203125 -7.632812 7.203125 -6.890625 C 7.203125 -6.105469 6.929688 -5.4375 6.378906 -4.882812 C 6.058594 -4.558594 5.488281 -4.164062 4.664062 -3.703125 L 3.726562 -3.1875 C 3.28125 -2.941406 2.929688 -2.703125 2.671875 -2.480469 C 2.21875 -2.085938 1.929688 -1.644531 1.8125 -1.164062 L 7.15625 -1.164062 L 7.15625 0 Z M 0.4375 0 \"/>\n",
       "</symbol>\n",
       "<symbol overflow=\"visible\" id=\"glyph0-6\">\n",
       "<path style=\"stroke:none;\" d=\"M 3.808594 -5.6875 C 4.351562 -5.6875 4.773438 -5.839844 5.078125 -6.140625 C 5.382812 -6.445312 5.539062 -6.804688 5.539062 -7.226562 C 5.539062 -7.589844 5.390625 -7.925781 5.101562 -8.230469 C 4.808594 -8.535156 4.363281 -8.6875 3.765625 -8.6875 C 3.171875 -8.6875 2.746094 -8.535156 2.480469 -8.230469 C 2.21875 -7.925781 2.085938 -7.566406 2.085938 -7.15625 C 2.085938 -6.695312 2.257812 -6.335938 2.597656 -6.078125 C 2.9375 -5.816406 3.34375 -5.6875 3.808594 -5.6875 Z M 3.882812 -0.839844 C 4.453125 -0.839844 4.925781 -0.996094 5.300781 -1.300781 C 5.675781 -1.609375 5.867188 -2.070312 5.867188 -2.679688 C 5.867188 -3.3125 5.671875 -3.792969 5.285156 -4.121094 C 4.898438 -4.449219 4.398438 -4.613281 3.792969 -4.613281 C 3.207031 -4.613281 2.726562 -4.445312 2.355469 -4.113281 C 1.984375 -3.777344 1.796875 -3.3125 1.796875 -2.71875 C 1.796875 -2.210938 1.96875 -1.769531 2.308594 -1.398438 C 2.648438 -1.027344 3.171875 -0.839844 3.882812 -0.839844 Z M 2.132812 -5.214844 C 1.789062 -5.359375 1.523438 -5.53125 1.332031 -5.726562 C 0.972656 -6.09375 0.792969 -6.566406 0.792969 -7.148438 C 0.792969 -7.878906 1.058594 -8.507812 1.585938 -9.03125 C 2.113281 -9.554688 2.863281 -9.816406 3.835938 -9.816406 C 4.773438 -9.816406 5.507812 -9.570312 6.042969 -9.074219 C 6.578125 -8.578125 6.84375 -8.003906 6.84375 -7.34375 C 6.84375 -6.730469 6.6875 -6.238281 6.378906 -5.859375 C 6.203125 -5.644531 5.9375 -5.433594 5.570312 -5.230469 C 5.976562 -5.042969 6.296875 -4.828125 6.527344 -4.585938 C 6.960938 -4.132812 7.179688 -3.539062 7.179688 -2.808594 C 7.179688 -1.949219 6.886719 -1.21875 6.308594 -0.617188 C 5.730469 -0.0195312 4.914062 0.28125 3.855469 0.28125 C 2.902344 0.28125 2.097656 0.0234375 1.4375 -0.496094 C 0.78125 -1.011719 0.453125 -1.765625 0.453125 -2.75 C 0.453125 -3.328125 0.59375 -3.828125 0.875 -4.25 C 1.15625 -4.671875 1.578125 -4.992188 2.132812 -5.214844 Z M 2.132812 -5.214844 \"/>\n",
       "</symbol>\n",
       "</g>\n",
       "</defs>\n",
       "<g id=\"surface146\">\n",
       "<rect x=\"0\" y=\"0\" width=\"600\" height=\"600\" style=\"fill:rgb(100%,100%,100%);fill-opacity:1;stroke:none;\"/>\n",
       "<path style=\"fill:none;stroke-width:1;stroke-linecap:butt;stroke-linejoin:miter;stroke:rgb(26.666667%,26.666667%,26.666667%);stroke-opacity:1;stroke-miterlimit:10;\" d=\"M 550 329.359375 L 76.773438 538.183594 \"/>\n",
       "<path style=\" stroke:none;fill-rule:nonzero;fill:rgb(26.666667%,26.666667%,26.666667%);fill-opacity:1;\" d=\"M 63.722656 543.945312 L 74.902344 533.945312 L 78.644531 542.425781 L 63.722656 543.945312 \"/>\n",
       "<path style=\"fill:none;stroke-width:1;stroke-linecap:butt;stroke-linejoin:miter;stroke:rgb(26.666667%,26.666667%,26.666667%);stroke-opacity:1;stroke-miterlimit:10;\" d=\"M 550 329.359375 C 441.929688 183.828125 301.089844 138.035156 132.9375 205.5625 \"/>\n",
       "<path style=\" stroke:none;fill-rule:nonzero;fill:rgb(26.666667%,26.666667%,26.666667%);fill-opacity:1;\" d=\"M 119.699219 210.878906 L 131.210938 201.261719 L 134.664062 209.863281 L 119.699219 210.878906 \"/>\n",
       "<path style=\"fill:none;stroke-width:1;stroke-linecap:butt;stroke-linejoin:miter;stroke:rgb(26.666667%,26.666667%,26.666667%);stroke-opacity:1;stroke-miterlimit:10;\" d=\"M 415.808594 479.648438 L 78.738281 544.472656 \"/>\n",
       "<path style=\" stroke:none;fill-rule:nonzero;fill:rgb(26.666667%,26.666667%,26.666667%);fill-opacity:1;\" d=\"M 64.730469 547.167969 L 77.863281 539.921875 L 79.613281 549.023438 L 64.730469 547.167969 \"/>\n",
       "<path style=\"fill:none;stroke-width:1;stroke-linecap:butt;stroke-linejoin:miter;stroke:rgb(26.666667%,26.666667%,26.666667%);stroke-opacity:1;stroke-miterlimit:10;\" d=\"M 415.808594 479.648438 C 387.429688 322.449219 294.171875 230.605469 134.953125 218.691406 \"/>\n",
       "<path style=\" stroke:none;fill-rule:nonzero;fill:rgb(26.666667%,26.666667%,26.666667%);fill-opacity:1;\" d=\"M 120.726562 217.625 L 135.296875 214.070312 L 134.605469 223.3125 L 120.726562 217.625 \"/>\n",
       "<path style=\"fill:none;stroke-width:1;stroke-linecap:butt;stroke-linejoin:miter;stroke:rgb(26.666667%,26.666667%,26.666667%);stroke-opacity:1;stroke-miterlimit:10;\" d=\"M 50 550 L 100.875 245.367188 \"/>\n",
       "<path style=\" stroke:none;fill-rule:nonzero;fill:rgb(26.666667%,26.666667%,26.666667%);fill-opacity:1;\" d=\"M 103.226562 231.296875 L 105.445312 246.132812 L 96.304688 244.605469 L 103.226562 231.296875 \"/>\n",
       "<path style=\"fill:none;stroke-width:1;stroke-linecap:butt;stroke-linejoin:miter;stroke:rgb(26.666667%,26.666667%,26.666667%);stroke-opacity:1;stroke-miterlimit:10;\" d=\"M 105.695312 216.5 C 213.765625 362.035156 354.605469 407.828125 522.757812 340.300781 \"/>\n",
       "<path style=\" stroke:none;fill-rule:nonzero;fill:rgb(26.666667%,26.666667%,26.666667%);fill-opacity:1;\" d=\"M 535.996094 334.984375 L 524.484375 344.601562 L 521.03125 336 L 535.996094 334.984375 \"/>\n",
       "<path style=\"fill:none;stroke-width:1;stroke-linecap:butt;stroke-linejoin:miter;stroke:rgb(26.666667%,26.666667%,26.666667%);stroke-opacity:1;stroke-miterlimit:10;\" d=\"M 105.695312 216.5 C 134.074219 373.703125 227.332031 465.542969 386.550781 477.460938 \"/>\n",
       "<path style=\" stroke:none;fill-rule:nonzero;fill:rgb(26.666667%,26.666667%,26.666667%);fill-opacity:1;\" d=\"M 400.777344 478.523438 L 386.207031 482.082031 L 386.898438 472.835938 L 400.777344 478.523438 \"/>\n",
       "<path style=\"fill:none;stroke-width:1;stroke-linecap:butt;stroke-linejoin:miter;stroke:rgb(26.666667%,26.666667%,26.666667%);stroke-opacity:1;stroke-miterlimit:10;\" d=\"M 105.695312 216.5 L 469.527344 61.472656 \"/>\n",
       "<path style=\" stroke:none;fill-rule:nonzero;fill:rgb(26.666667%,26.666667%,26.666667%);fill-opacity:1;\" d=\"M 482.652344 55.878906 L 471.34375 65.738281 L 467.710938 57.207031 L 482.652344 55.878906 \"/>\n",
       "<path style=\"fill:none;stroke-width:1;stroke-linecap:butt;stroke-linejoin:miter;stroke:rgb(26.666667%,26.666667%,26.666667%);stroke-opacity:1;stroke-miterlimit:10;\" d=\"M 496.453125 50 L 544.492188 300.617188 \"/>\n",
       "<path style=\" stroke:none;fill-rule:nonzero;fill:rgb(26.666667%,26.666667%,26.666667%);fill-opacity:1;\" d=\"M 547.175781 314.628906 L 539.9375 301.492188 L 549.042969 299.746094 L 547.175781 314.628906 \"/>\n",
       "<path style=\"fill:none;stroke-width:1;stroke-linecap:butt;stroke-linejoin:miter;stroke:rgb(26.666667%,26.666667%,26.666667%);stroke-opacity:1;stroke-miterlimit:10;\" d=\"M 496.453125 50 L 421.207031 450.886719 \"/>\n",
       "<path style=\" stroke:none;fill-rule:nonzero;fill:rgb(26.666667%,26.666667%,26.666667%);fill-opacity:1;\" d=\"M 418.574219 464.90625 L 416.652344 450.03125 L 425.761719 451.742188 L 418.574219 464.90625 \"/>\n",
       "<path style=\"fill-rule:nonzero;fill:rgb(61.960784%,0.392157%,25.882353%);fill-opacity:1;stroke-width:1;stroke-linecap:butt;stroke-linejoin:miter;stroke:rgb(0%,0%,0%);stroke-opacity:1;stroke-miterlimit:10;\" d=\"M 565 329.359375 C 565 337.644531 558.285156 344.359375 550 344.359375 C 541.714844 344.359375 535 337.644531 535 329.359375 C 535 321.078125 541.714844 314.359375 550 314.359375 C 558.285156 314.359375 565 321.078125 565 329.359375 \"/>\n",
       "<path style=\"fill-rule:nonzero;fill:rgb(61.960784%,0.392157%,25.882353%);fill-opacity:1;stroke-width:1;stroke-linecap:butt;stroke-linejoin:miter;stroke:rgb(0%,0%,0%);stroke-opacity:1;stroke-miterlimit:10;\" d=\"M 430.808594 479.648438 C 430.808594 487.933594 424.089844 494.648438 415.808594 494.648438 C 407.523438 494.648438 400.808594 487.933594 400.808594 479.648438 C 400.808594 471.363281 407.523438 464.648438 415.808594 464.648438 C 424.089844 464.648438 430.808594 471.363281 430.808594 479.648438 \"/>\n",
       "<path style=\"fill-rule:nonzero;fill:rgb(99.346405%,74.771242%,43.529412%);fill-opacity:1;stroke-width:1;stroke-linecap:butt;stroke-linejoin:miter;stroke:rgb(0%,0%,0%);stroke-opacity:1;stroke-miterlimit:10;\" d=\"M 65 550 C 65 558.285156 58.285156 565 50 565 C 41.714844 565 35 558.285156 35 550 C 35 541.714844 41.714844 535 50 535 C 58.285156 535 65 541.714844 65 550 \"/>\n",
       "<path style=\"fill-rule:nonzero;fill:rgb(74.771242%,89.803922%,62.745098%);fill-opacity:1;stroke-width:1;stroke-linecap:butt;stroke-linejoin:miter;stroke:rgb(0%,0%,0%);stroke-opacity:1;stroke-miterlimit:10;\" d=\"M 120.695312 216.5 C 120.695312 224.785156 113.980469 231.5 105.695312 231.5 C 97.410156 231.5 90.695312 224.785156 90.695312 216.5 C 90.695312 208.21875 97.410156 201.5 105.695312 201.5 C 113.980469 201.5 120.695312 208.21875 120.695312 216.5 \"/>\n",
       "<path style=\"fill-rule:nonzero;fill:rgb(36.862745%,30.980392%,63.529412%);fill-opacity:1;stroke-width:1;stroke-linecap:butt;stroke-linejoin:miter;stroke:rgb(0%,0%,0%);stroke-opacity:1;stroke-miterlimit:10;\" d=\"M 511.453125 50 C 511.453125 58.285156 504.734375 65 496.453125 65 C 488.167969 65 481.453125 58.285156 481.453125 50 C 481.453125 41.714844 488.167969 35 496.453125 35 C 504.734375 35 511.453125 41.714844 511.453125 50 \"/>\n",
       "<g style=\"fill:rgb(0%,0%,0%);fill-opacity:1;\">\n",
       "  <use xlink:href=\"#glyph0-1\" x=\"541.839844\" y=\"335.84375\"/>\n",
       "  <use xlink:href=\"#glyph0-2\" x=\"549.625977\" y=\"335.84375\"/>\n",
       "</g>\n",
       "<g style=\"fill:rgb(0%,0%,0%);fill-opacity:1;\">\n",
       "  <use xlink:href=\"#glyph0-2\" x=\"409.210938\" y=\"486.132812\"/>\n",
       "  <use xlink:href=\"#glyph0-1\" x=\"416.99707\" y=\"486.132812\"/>\n",
       "</g>\n",
       "<g style=\"fill:rgb(0%,0%,0%);fill-opacity:1;\">\n",
       "  <use xlink:href=\"#glyph0-3\" x=\"42.261719\" y=\"556.511719\"/>\n",
       "  <use xlink:href=\"#glyph0-4\" x=\"50.047852\" y=\"556.511719\"/>\n",
       "</g>\n",
       "<g style=\"fill:rgb(0%,0%,0%);fill-opacity:1;\">\n",
       "  <use xlink:href=\"#glyph0-1\" x=\"93.644531\" y=\"223.011719\"/>\n",
       "  <use xlink:href=\"#glyph0-3\" x=\"101.430664\" y=\"223.011719\"/>\n",
       "  <use xlink:href=\"#glyph0-2\" x=\"109.216797\" y=\"223.011719\"/>\n",
       "</g>\n",
       "<g style=\"fill:rgb(0%,0%,0%);fill-opacity:1;\">\n",
       "  <use xlink:href=\"#glyph0-5\" x=\"484.859375\" y=\"56.523438\"/>\n",
       "  <use xlink:href=\"#glyph0-5\" x=\"492.645508\" y=\"56.523438\"/>\n",
       "  <use xlink:href=\"#glyph0-6\" x=\"500.431641\" y=\"56.523438\"/>\n",
       "</g>\n",
       "</g>\n",
       "</svg>\n"
      ],
      "text/plain": [
       "<igraph.drawing.Plot at 0x7f8602347460>"
      ]
     },
     "execution_count": 111,
     "metadata": {
      "image/svg+xml": {
       "isolated": true
      }
     },
     "output_type": "execute_result"
    }
   ],
   "source": [
    "# Plot graph without viterbi\n",
    "graph, states = plot_graph(\n",
    "    chmm, x, a, output_file=\"figures/rectangular_room_graph.pdf\"\n",
    ")\n",
    "graph"
   ]
  },
  {
   "cell_type": "code",
   "execution_count": 154,
   "metadata": {
    "colab": {
     "base_uri": "https://localhost:8080/",
     "height": 534
    },
    "id": "TpMf_4oDVP7d",
    "outputId": "97526531-bc6c-4df5-af67-f18c001cf4fb"
   },
   "outputs": [
    {
     "data": {
      "text/plain": [
       "(array([1464.,   61.,   25.,   15.,   13.,    7.,    4.,    4.,    3.,\n",
       "           2.]),\n",
       " array([ 0.       ,  4.5158677,  9.031735 , 13.547603 , 18.06347  ,\n",
       "        22.579338 , 27.095205 , 31.611073 , 36.12694  , 40.642807 ,\n",
       "        45.158676 ], dtype=float32),\n",
       " <BarContainer object of 10 artists>)"
      ]
     },
     "execution_count": 154,
     "metadata": {},
     "output_type": "execute_result"
    },
    {
     "data": {
      "image/png": "[encoded data removed]",
      "text/plain": [
       "<Figure size 640x480 with 1 Axes>"
      ]
     },
     "metadata": {},
     "output_type": "display_data"
    }
   ],
   "source": [
    "plt.hist(np.unique(chmm.C))"
   ]
  },
  {
   "cell_type": "code",
   "execution_count": 187,
   "metadata": {
    "colab": {
     "base_uri": "https://localhost:8080/"
    },
    "id": "q9YAfPceRUAf",
    "outputId": "9a883473-57a8-4905-e711-e41d21395a0e"
   },
   "outputs": [
    {
     "name": "stderr",
     "output_type": "stream",
     "text": [
      "  2%|▏         | 2/100 [00:00<00:06, 14.40it/s, train_bps=0.00613]\n"
     ]
    },
    {
     "data": {
      "text/plain": [
       "[0.5797986, 0.00612535, 0.00612535]"
      ]
     },
     "execution_count": 187,
     "metadata": {},
     "output_type": "execute_result"
    }
   ],
   "source": [
    "# Consolidate learning. Takes a few seconds\n",
    "#chmm.pseudocount = .5\n",
    "chmm.learn_viterbi_T(x, a, n_iter=100)"
   ]
  },
  {
   "cell_type": "code",
   "execution_count": 188,
   "metadata": {
    "colab": {
     "base_uri": "https://localhost:8080/",
     "height": 821
    },
    "id": "nwuCZ6LwRUAg",
    "outputId": "2bf0028a-e903-48ba-8670-a86d4abe1284"
   },
   "outputs": [
    {
     "name": "stdout",
     "output_type": "stream",
     "text": [
      "[ 51  90 195 228]\n"
     ]
    },
    {
     "data": {
      "image/svg+xml": [
       "<?xml version=\"1.0\" encoding=\"UTF-8\"?>\n",
       "<svg xmlns=\"http://www.w3.org/2000/svg\" xmlns:xlink=\"http://www.w3.org/1999/xlink\" width=\"600pt\" height=\"600pt\" viewBox=\"0 0 600 600\" version=\"1.1\">\n",
       "<defs>\n",
       "<g>\n",
       "<symbol overflow=\"visible\" id=\"glyph0-0\">\n",
       "<path style=\"stroke:none;\" d=\"M 0.453125 0 L 0.453125 -10.042969 L 8.421875 -10.042969 L 8.421875 0 Z M 7.164062 -1.257812 L 7.164062 -8.785156 L 1.710938 -8.785156 L 1.710938 -1.257812 Z M 7.164062 -1.257812 \"/>\n",
       "</symbol>\n",
       "<symbol overflow=\"visible\" id=\"glyph0-1\">\n",
       "<path style=\"stroke:none;\" d=\"M 1.730469 -2.496094 C 1.8125 -1.792969 2.136719 -1.308594 2.707031 -1.039062 C 3 -0.902344 3.335938 -0.835938 3.71875 -0.835938 C 4.449219 -0.835938 4.988281 -1.066406 5.339844 -1.53125 C 5.691406 -1.996094 5.867188 -2.511719 5.867188 -3.078125 C 5.867188 -3.761719 5.65625 -4.289062 5.238281 -4.664062 C 4.820312 -5.035156 4.324219 -5.222656 3.738281 -5.222656 C 3.316406 -5.222656 2.953125 -5.140625 2.648438 -4.976562 C 2.34375 -4.8125 2.085938 -4.585938 1.875 -4.292969 L 0.804688 -4.355469 L 1.550781 -9.625 L 6.636719 -9.625 L 6.636719 -8.4375 L 2.476562 -8.4375 L 2.058594 -5.714844 C 2.285156 -5.886719 2.5 -6.019531 2.707031 -6.105469 C 3.070312 -6.253906 3.492188 -6.328125 3.972656 -6.328125 C 4.871094 -6.328125 5.628906 -6.039062 6.253906 -5.460938 C 6.878906 -4.882812 7.191406 -4.148438 7.191406 -3.261719 C 7.191406 -2.335938 6.90625 -1.519531 6.332031 -0.8125 C 5.761719 -0.105469 4.847656 0.246094 3.59375 0.246094 C 2.796875 0.246094 2.09375 0.0234375 1.480469 -0.425781 C 0.867188 -0.875 0.523438 -1.566406 0.453125 -2.496094 Z M 1.730469 -2.496094 \"/>\n",
       "</symbol>\n",
       "<symbol overflow=\"visible\" id=\"glyph0-2\">\n",
       "<path style=\"stroke:none;\" d=\"M 1.339844 -6.929688 L 1.339844 -7.875 C 2.226562 -7.960938 2.847656 -8.105469 3.199219 -8.308594 C 3.550781 -8.511719 3.8125 -8.992188 3.984375 -9.75 L 4.957031 -9.75 L 4.957031 0 L 3.644531 0 L 3.644531 -6.929688 Z M 1.339844 -6.929688 \"/>\n",
       "</symbol>\n",
       "<symbol overflow=\"visible\" id=\"glyph0-3\">\n",
       "<path style=\"stroke:none;\" d=\"M 1.859375 -2.367188 C 1.894531 -1.6875 2.15625 -1.21875 2.644531 -0.957031 C 2.894531 -0.820312 3.179688 -0.75 3.492188 -0.75 C 4.082031 -0.75 4.582031 -0.996094 4.996094 -1.488281 C 5.410156 -1.976562 5.707031 -2.972656 5.878906 -4.46875 C 5.605469 -4.039062 5.265625 -3.734375 4.863281 -3.558594 C 4.460938 -3.382812 4.027344 -3.296875 3.5625 -3.296875 C 2.617188 -3.296875 1.871094 -3.589844 1.324219 -4.175781 C 0.773438 -4.765625 0.5 -5.519531 0.5 -6.445312 C 0.5 -7.335938 0.769531 -8.117188 1.3125 -8.789062 C 1.855469 -9.464844 2.65625 -9.804688 3.710938 -9.804688 C 5.136719 -9.804688 6.121094 -9.160156 6.664062 -7.875 C 6.964844 -7.167969 7.117188 -6.285156 7.117188 -5.222656 C 7.117188 -4.023438 6.9375 -2.960938 6.578125 -2.039062 C 5.980469 -0.496094 4.96875 0.273438 3.539062 0.273438 C 2.582031 0.273438 1.855469 0.0234375 1.359375 -0.476562 C 0.863281 -0.980469 0.617188 -1.609375 0.617188 -2.367188 Z M 3.726562 -4.375 C 4.214844 -4.375 4.660156 -4.535156 5.0625 -4.855469 C 5.464844 -5.179688 5.667969 -5.738281 5.667969 -6.542969 C 5.667969 -7.261719 5.484375 -7.796875 5.125 -8.152344 C 4.761719 -8.503906 4.300781 -8.679688 3.738281 -8.679688 C 3.136719 -8.679688 2.660156 -8.480469 2.308594 -8.078125 C 1.953125 -7.671875 1.777344 -7.132812 1.777344 -6.460938 C 1.777344 -5.820312 1.933594 -5.316406 2.242188 -4.9375 C 2.550781 -4.5625 3.046875 -4.375 3.726562 -4.375 Z M 3.726562 -4.375 \"/>\n",
       "</symbol>\n",
       "<symbol overflow=\"visible\" id=\"glyph0-4\">\n",
       "<path style=\"stroke:none;\" d=\"M 3.789062 -9.789062 C 5.054688 -9.789062 5.96875 -9.265625 6.535156 -8.222656 C 6.972656 -7.417969 7.191406 -6.3125 7.191406 -4.90625 C 7.191406 -3.578125 6.992188 -2.476562 6.597656 -1.605469 C 6.023438 -0.359375 5.082031 0.265625 3.78125 0.265625 C 2.605469 0.265625 1.730469 -0.242188 1.15625 -1.265625 C 0.675781 -2.117188 0.4375 -3.261719 0.4375 -4.695312 C 0.4375 -5.808594 0.582031 -6.761719 0.867188 -7.5625 C 1.40625 -9.046875 2.378906 -9.789062 3.789062 -9.789062 Z M 3.773438 -0.855469 C 4.410156 -0.855469 4.917969 -1.136719 5.296875 -1.703125 C 5.675781 -2.265625 5.867188 -3.320312 5.867188 -4.859375 C 5.867188 -5.972656 5.726562 -6.886719 5.453125 -7.605469 C 5.179688 -8.324219 4.652344 -8.679688 3.863281 -8.679688 C 3.136719 -8.679688 2.609375 -8.339844 2.273438 -7.660156 C 1.9375 -6.976562 1.769531 -5.976562 1.769531 -4.648438 C 1.769531 -3.648438 1.878906 -2.847656 2.09375 -2.242188 C 2.421875 -1.316406 2.980469 -0.855469 3.773438 -0.855469 Z M 3.773438 -0.855469 \"/>\n",
       "</symbol>\n",
       "<symbol overflow=\"visible\" id=\"glyph0-5\">\n",
       "<path style=\"stroke:none;\" d=\"M 0.4375 0 C 0.484375 -0.84375 0.65625 -1.578125 0.960938 -2.203125 C 1.265625 -2.828125 1.855469 -3.394531 2.734375 -3.902344 L 4.046875 -4.664062 C 4.632812 -5.003906 5.046875 -5.296875 5.285156 -5.539062 C 5.65625 -5.914062 5.84375 -6.347656 5.84375 -6.835938 C 5.84375 -7.40625 5.671875 -7.859375 5.332031 -8.191406 C 4.992188 -8.527344 4.535156 -8.695312 3.964844 -8.695312 C 3.121094 -8.695312 2.539062 -8.375 2.214844 -7.738281 C 2.042969 -7.398438 1.945312 -6.921875 1.929688 -6.316406 L 0.675781 -6.316406 C 0.691406 -7.167969 0.847656 -7.863281 1.148438 -8.402344 C 1.679688 -9.351562 2.621094 -9.824219 3.972656 -9.824219 C 5.09375 -9.824219 5.910156 -9.519531 6.429688 -8.914062 C 6.945312 -8.308594 7.203125 -7.632812 7.203125 -6.890625 C 7.203125 -6.105469 6.929688 -5.4375 6.378906 -4.882812 C 6.058594 -4.558594 5.488281 -4.164062 4.664062 -3.703125 L 3.726562 -3.1875 C 3.28125 -2.941406 2.929688 -2.703125 2.671875 -2.480469 C 2.21875 -2.085938 1.929688 -1.644531 1.8125 -1.164062 L 7.15625 -1.164062 L 7.15625 0 Z M 0.4375 0 \"/>\n",
       "</symbol>\n",
       "<symbol overflow=\"visible\" id=\"glyph0-6\">\n",
       "<path style=\"stroke:none;\" d=\"M 3.808594 -5.6875 C 4.351562 -5.6875 4.773438 -5.839844 5.078125 -6.140625 C 5.382812 -6.445312 5.539062 -6.804688 5.539062 -7.226562 C 5.539062 -7.589844 5.390625 -7.925781 5.101562 -8.230469 C 4.808594 -8.535156 4.363281 -8.6875 3.765625 -8.6875 C 3.171875 -8.6875 2.746094 -8.535156 2.480469 -8.230469 C 2.21875 -7.925781 2.085938 -7.566406 2.085938 -7.15625 C 2.085938 -6.695312 2.257812 -6.335938 2.597656 -6.078125 C 2.9375 -5.816406 3.34375 -5.6875 3.808594 -5.6875 Z M 3.882812 -0.839844 C 4.453125 -0.839844 4.925781 -0.996094 5.300781 -1.300781 C 5.675781 -1.609375 5.867188 -2.070312 5.867188 -2.679688 C 5.867188 -3.3125 5.671875 -3.792969 5.285156 -4.121094 C 4.898438 -4.449219 4.398438 -4.613281 3.792969 -4.613281 C 3.207031 -4.613281 2.726562 -4.445312 2.355469 -4.113281 C 1.984375 -3.777344 1.796875 -3.3125 1.796875 -2.71875 C 1.796875 -2.210938 1.96875 -1.769531 2.308594 -1.398438 C 2.648438 -1.027344 3.171875 -0.839844 3.882812 -0.839844 Z M 2.132812 -5.214844 C 1.789062 -5.359375 1.523438 -5.53125 1.332031 -5.726562 C 0.972656 -6.09375 0.792969 -6.566406 0.792969 -7.148438 C 0.792969 -7.878906 1.058594 -8.507812 1.585938 -9.03125 C 2.113281 -9.554688 2.863281 -9.816406 3.835938 -9.816406 C 4.773438 -9.816406 5.507812 -9.570312 6.042969 -9.074219 C 6.578125 -8.578125 6.84375 -8.003906 6.84375 -7.34375 C 6.84375 -6.730469 6.6875 -6.238281 6.378906 -5.859375 C 6.203125 -5.644531 5.9375 -5.433594 5.570312 -5.230469 C 5.976562 -5.042969 6.296875 -4.828125 6.527344 -4.585938 C 6.960938 -4.132812 7.179688 -3.539062 7.179688 -2.808594 C 7.179688 -1.949219 6.886719 -1.21875 6.308594 -0.617188 C 5.730469 -0.0195312 4.914062 0.28125 3.855469 0.28125 C 2.902344 0.28125 2.097656 0.0234375 1.4375 -0.496094 C 0.78125 -1.011719 0.453125 -1.765625 0.453125 -2.75 C 0.453125 -3.328125 0.59375 -3.828125 0.875 -4.25 C 1.15625 -4.671875 1.578125 -4.992188 2.132812 -5.214844 Z M 2.132812 -5.214844 \"/>\n",
       "</symbol>\n",
       "</g>\n",
       "</defs>\n",
       "<g id=\"surface236\">\n",
       "<rect x=\"0\" y=\"0\" width=\"600\" height=\"600\" style=\"fill:rgb(100%,100%,100%);fill-opacity:1;stroke:none;\"/>\n",
       "<path style=\"fill:none;stroke-width:1;stroke-linecap:butt;stroke-linejoin:miter;stroke:rgb(26.666667%,26.666667%,26.666667%);stroke-opacity:1;stroke-miterlimit:10;\" d=\"M 550 299.195312 L 323.320312 529.15625 \"/>\n",
       "<path style=\" stroke:none;fill-rule:nonzero;fill:rgb(26.666667%,26.666667%,26.666667%);fill-opacity:1;\" d=\"M 313.304688 539.316406 L 320.019531 525.902344 L 326.621094 532.410156 L 313.304688 539.316406 \"/>\n",
       "<path style=\"fill:none;stroke-width:1;stroke-linecap:butt;stroke-linejoin:miter;stroke:rgb(26.666667%,26.666667%,26.666667%);stroke-opacity:1;stroke-miterlimit:10;\" d=\"M 550 299.195312 C 395.167969 174.835938 233.484375 165.636719 73.644531 283.386719 \"/>\n",
       "<path style=\" stroke:none;fill-rule:nonzero;fill:rgb(26.666667%,26.666667%,26.666667%);fill-opacity:1;\" d=\"M 62.160156 291.847656 L 70.894531 279.65625 L 76.394531 287.117188 L 62.160156 291.847656 \"/>\n",
       "<path style=\"fill:none;stroke-width:1;stroke-linecap:butt;stroke-linejoin:miter;stroke:rgb(26.666667%,26.666667%,26.666667%);stroke-opacity:1;stroke-miterlimit:10;\" d=\"M 302.777344 550 L 70.839844 321.351562 \"/>\n",
       "<path style=\" stroke:none;fill-rule:nonzero;fill:rgb(26.666667%,26.666667%,26.666667%);fill-opacity:1;\" d=\"M 60.683594 311.335938 L 74.09375 318.050781 L 67.585938 324.652344 L 60.683594 311.335938 \"/>\n",
       "<path style=\"fill:none;stroke-width:1;stroke-linecap:butt;stroke-linejoin:miter;stroke:rgb(26.666667%,26.666667%,26.666667%);stroke-opacity:1;stroke-miterlimit:10;\" d=\"M 50 300.804688 C 204.832031 425.164062 366.515625 434.363281 526.355469 316.613281 \"/>\n",
       "<path style=\" stroke:none;fill-rule:nonzero;fill:rgb(26.666667%,26.666667%,26.666667%);fill-opacity:1;\" d=\"M 537.839844 308.152344 L 529.105469 320.34375 L 523.605469 312.882812 L 537.839844 308.152344 \"/>\n",
       "<path style=\"fill:none;stroke-width:1;stroke-linecap:butt;stroke-linejoin:miter;stroke:rgb(26.666667%,26.666667%,26.666667%);stroke-opacity:1;stroke-miterlimit:10;\" d=\"M 50 300.804688 L 276.679688 70.84375 \"/>\n",
       "<path style=\" stroke:none;fill-rule:nonzero;fill:rgb(26.666667%,26.666667%,26.666667%);fill-opacity:1;\" d=\"M 286.695312 60.683594 L 279.980469 74.097656 L 273.378906 67.589844 L 286.695312 60.683594 \"/>\n",
       "<path style=\"fill:none;stroke-width:1;stroke-linecap:butt;stroke-linejoin:miter;stroke:rgb(26.666667%,26.666667%,26.666667%);stroke-opacity:1;stroke-miterlimit:10;\" d=\"M 297.222656 50 L 529.160156 278.648438 \"/>\n",
       "<path style=\" stroke:none;fill-rule:nonzero;fill:rgb(26.666667%,26.666667%,26.666667%);fill-opacity:1;\" d=\"M 539.316406 288.664062 L 525.90625 281.949219 L 532.414062 275.347656 L 539.316406 288.664062 \"/>\n",
       "<path style=\"fill-rule:nonzero;fill:rgb(61.960784%,0.392157%,25.882353%);fill-opacity:1;stroke-width:1;stroke-linecap:butt;stroke-linejoin:miter;stroke:rgb(0%,0%,0%);stroke-opacity:1;stroke-miterlimit:10;\" d=\"M 565 299.195312 C 565 307.480469 558.285156 314.195312 550 314.195312 C 541.714844 314.195312 535 307.480469 535 299.195312 C 535 290.910156 541.714844 284.195312 550 284.195312 C 558.285156 284.195312 565 290.910156 565 299.195312 \"/>\n",
       "<path style=\"fill-rule:nonzero;fill:rgb(99.346405%,74.771242%,43.529412%);fill-opacity:1;stroke-width:1;stroke-linecap:butt;stroke-linejoin:miter;stroke:rgb(0%,0%,0%);stroke-opacity:1;stroke-miterlimit:10;\" d=\"M 317.777344 550 C 317.777344 558.285156 311.058594 565 302.777344 565 C 294.492188 565 287.777344 558.285156 287.777344 550 C 287.777344 541.714844 294.492188 535 302.777344 535 C 311.058594 535 317.777344 541.714844 317.777344 550 \"/>\n",
       "<path style=\"fill-rule:nonzero;fill:rgb(74.771242%,89.803922%,62.745098%);fill-opacity:1;stroke-width:1;stroke-linecap:butt;stroke-linejoin:miter;stroke:rgb(0%,0%,0%);stroke-opacity:1;stroke-miterlimit:10;\" d=\"M 65 300.804688 C 65 309.089844 58.285156 315.804688 50 315.804688 C 41.714844 315.804688 35 309.089844 35 300.804688 C 35 292.519531 41.714844 285.804688 50 285.804688 C 58.285156 285.804688 65 292.519531 65 300.804688 \"/>\n",
       "<path style=\"fill-rule:nonzero;fill:rgb(36.862745%,30.980392%,63.529412%);fill-opacity:1;stroke-width:1;stroke-linecap:butt;stroke-linejoin:miter;stroke:rgb(0%,0%,0%);stroke-opacity:1;stroke-miterlimit:10;\" d=\"M 312.222656 50 C 312.222656 58.285156 305.507812 65 297.222656 65 C 288.941406 65 282.222656 58.285156 282.222656 50 C 282.222656 41.714844 288.941406 35 297.222656 35 C 305.507812 35 312.222656 41.714844 312.222656 50 \"/>\n",
       "<g style=\"fill:rgb(0%,0%,0%);fill-opacity:1;\">\n",
       "  <use xlink:href=\"#glyph0-1\" x=\"543.402344\" y=\"305.679688\"/>\n",
       "  <use xlink:href=\"#glyph0-2\" x=\"551.188477\" y=\"305.679688\"/>\n",
       "</g>\n",
       "<g style=\"fill:rgb(0%,0%,0%);fill-opacity:1;\">\n",
       "  <use xlink:href=\"#glyph0-3\" x=\"295.039062\" y=\"556.511719\"/>\n",
       "  <use xlink:href=\"#glyph0-4\" x=\"302.825195\" y=\"556.511719\"/>\n",
       "</g>\n",
       "<g style=\"fill:rgb(0%,0%,0%);fill-opacity:1;\">\n",
       "  <use xlink:href=\"#glyph0-2\" x=\"37.949219\" y=\"307.316406\"/>\n",
       "  <use xlink:href=\"#glyph0-3\" x=\"45.735352\" y=\"307.316406\"/>\n",
       "  <use xlink:href=\"#glyph0-1\" x=\"53.521484\" y=\"307.316406\"/>\n",
       "</g>\n",
       "<g style=\"fill:rgb(0%,0%,0%);fill-opacity:1;\">\n",
       "  <use xlink:href=\"#glyph0-5\" x=\"285.628906\" y=\"56.523438\"/>\n",
       "  <use xlink:href=\"#glyph0-5\" x=\"293.415039\" y=\"56.523438\"/>\n",
       "  <use xlink:href=\"#glyph0-6\" x=\"301.201172\" y=\"56.523438\"/>\n",
       "</g>\n",
       "</g>\n",
       "</svg>\n"
      ],
      "text/plain": [
       "<igraph.drawing.Plot at 0x7f861170d730>"
      ]
     },
     "execution_count": 188,
     "metadata": {
      "image/svg+xml": {
       "isolated": true
      }
     },
     "output_type": "execute_result"
    }
   ],
   "source": [
    "# Visualize the learned, consolidated CSCG.\n",
    "\n",
    "graph, states = plot_graph(\n",
    "    chmm, x, a, output_file=\"figures/rectangular_room_graph.pdf\"\n",
    ")\n",
    "\n",
    "graph\n",
    "# Look for the correspondence between the graph and the original layout of the rooom in Figure 1\n",
    "# Node colors correspond to the observations from the room. Node numbers are the clone numbers."
   ]
  },
  {
   "cell_type": "code",
   "execution_count": 69,
   "metadata": {},
   "outputs": [
    {
     "data": {
      "text/plain": [
       "(2, 280, 280)"
      ]
     },
     "execution_count": 69,
     "metadata": {},
     "output_type": "execute_result"
    }
   ],
   "source": [
    "chmm.C.shape"
   ]
  },
  {
   "cell_type": "code",
   "execution_count": null,
   "metadata": {},
   "outputs": [],
   "source": [
    "import matplotlib.pyplot as plt\n",
    "from matplotlib.lines import Line2D\n",
    "\n",
    "def plot_graph_probs(\n",
    "    chmm, x, a, output_file, cmap=plt.cm.Spectral, multiple_episodes=False, vertex_size=30, edge_color='black', marked_transition=None\n",
    "):\n",
    "    states = chmm.decode(x, a)[1]\n",
    "\n",
    "    v = np.unique(states)\n",
    "    if multiple_episodes:\n",
    "        T = chmm.C[:, v][:, :, v][:-1, 1:, 1:]\n",
    "        v = v[1:]\n",
    "    else:\n",
    "        T = chmm.C[:, v][:, :, v]\n",
    "    \n",
    "    # Normalize the transition matrix to get state transition probabilities\n",
    "    A = T.sum(0)\n",
    "    A /= A.sum(1, keepdims=True)  # normalized state transition probabilities\n",
    "    \n",
    "    # Find the positions of nodes 198 and 217 in the array `v`\n",
    "    #index_198 = np.where(v == 198)[0][0]  # Get the index of node 198 in `v`\n",
    "    #index_217 = np.where(v == 217)[0][0]  # Get the index of node 217 in `v`\n",
    "\n",
    "    # Use these positions to get the transition probability from `A`\n",
    "    #transition_prob_198_to_217 = A[index_198, index_217]\n",
    "    #print(f\"Transition probability from node 198 to node 217: {transition_prob_198_to_217:.4f}\")\n",
    "\n",
    "\n",
    "    # Create graph using adjacency matrix (A > 0 ensures there's a transition)\n",
    "    g = igraph.Graph.Adjacency((A > 0).tolist())\n",
    "    \n",
    "    # Assign node labels based on the unique states and clones\n",
    "    node_labels = np.arange(x.max() + 1).repeat(chmm.n_clones)[v]\n",
    "    max_label = node_labels.max()\n",
    "\n",
    "    # Define new categories: Lunch, Non-Lunch, Train, Cab, Plane\n",
    "    categories = [ 'S', 'Lunch', 'Train', 'Cab', 'Airport', 'Plane']\n",
    "    category_ranges = np.linspace(0, max_label, len(categories))\n",
    "    category_x_coords = {label: i * 5000 for i, label in enumerate(categories)}\n",
    "    category_counts = {label: 0 for label in categories}\n",
    "    \n",
    "    # Set y-offsets to adjust the y-coordinate per category\n",
    "    train_y_offset = -1\n",
    "    cab_y_offset = -1\n",
    "\n",
    "    # Determine which category each node belongs to based on their clone number\n",
    "    node_categories = np.digitize(node_labels, category_ranges) - 1\n",
    "\n",
    "    # Initialize layout\n",
    "    layout = []\n",
    "    for idx, nl in enumerate(sorted(node_labels)):\n",
    "        category = categories[node_categories[idx]]\n",
    "        x_coord = category_x_coords[category]\n",
    "\n",
    "        # Adjust y-coordinates based on category and count\n",
    "        if category == \"Train\":\n",
    "            y_coord = train_y_offset + (category_counts[category] * -1)\n",
    "        elif category == \"Cab\":\n",
    "            y_coord = cab_y_offset + (category_counts[category] * -1)\n",
    "        else:\n",
    "            y_coord = category_counts[category] * -1\n",
    "        if category == \"Lunch\":\n",
    "            y_coord += 0.5\n",
    "        elif category == \"Non-Lunch\":\n",
    "            #x_coord += 5\n",
    "            y_coord -= 0.5\n",
    "\n",
    "        category_counts[category] -= 2\n",
    "        layout.append((x_coord, y_coord))\n",
    "\n",
    "    # Assign edge labels for transition probabilities\n",
    "    for e in g.es:\n",
    "        source = e.source\n",
    "        target = e.target\n",
    "        e['label'] = f\"p={A[source, target]:.2f}\"  # label with probability\n",
    "\n",
    "    # Plot the graph\n",
    "    out = igraph.plot(\n",
    "        g,\n",
    "        output_file,\n",
    "        layout=layout,\n",
    "        vertex_color=[cmap(nl / max_label)[:3] for nl in sorted(node_labels)],\n",
    "        vertex_label=sorted(v),  # Ensure the labels are also sorted in numerical order\n",
    "        vertex_size=vertex_size,\n",
    "        margin=50,\n",
    "        #edge_color=edge_colors,\n",
    "        bbox=(1000, 800)  # Adjust the size (width=2000, height=1000)\n",
    "\n",
    "    )\n",
    "\n",
    "    # Create legend for the node colors\n",
    "    legend_fig, legend_ax = plt.subplots(figsize=(2, 2))\n",
    "    legend_ax.axis('off')\n",
    "\n",
    "    # Generate legend handles\n",
    "    unique_labels = np.unique(node_labels)\n",
    "    legend_labels = [f\"Clone {int(l)} ({categories[node_categories[idx]]})\" for idx, l in enumerate(unique_labels)]\n",
    "    legend_colors = [cmap(l / max_label)[:3] for l in unique_labels]\n",
    "\n",
    "    # Create legend items\n",
    "    legend_handles = [Line2D([0], [0], marker='o', color='w', label=label,\n",
    "                             markerfacecolor=color, markersize=10)\n",
    "                      for label, color in zip(legend_labels, legend_colors)]\n",
    "\n",
    "    # Plot the legend\n",
    "    legend_ax.legend(handles=legend_handles, loc='center')\n",
    "\n",
    "    # Show the plot and the legend\n",
    "    plt.show()\n",
    "    legend_fig.show()\n",
    "\n",
    "    print(\"Normalized Transition Matrix A:\\n\", A)\n",
    "\n",
    "\n",
    "    return out, states"
   ]
  },
  {
   "cell_type": "code",
   "execution_count": 171,
   "metadata": {},
   "outputs": [
    {
     "data": {
      "text/plain": [
       "array([[  0.,   0., 265.,   0.],\n",
       "       [  0.,   0., 317.,   0.],\n",
       "       [264.,   0.,   0.,   0.],\n",
       "       [318.,   0.,   0.,   0.]], dtype=float32)"
      ]
     },
     "execution_count": 171,
     "metadata": {},
     "output_type": "execute_result"
    }
   ],
   "source": [
    "states = chmm.decode(x, a)[1]\n",
    "\n",
    "v = np.unique(states)\n",
    "T = chmm.C[:, v][:, :, v]\n",
    "T[0]"
   ]
  },
  {
   "cell_type": "code",
   "execution_count": 173,
   "metadata": {},
   "outputs": [],
   "source": [
    "import numpy as np\n",
    "import matplotlib.pyplot as plt\n",
    "from matplotlib.lines import Line2D\n",
    "import igraph\n",
    "\n",
    "def plot_graph_probs(\n",
    "    chmm, x, a, output_file, cmap=plt.cm.Spectral, vertex_size=30\n",
    "):\n",
    "    states = chmm.decode(x, a)[1]\n",
    "\n",
    "    v = np.unique(states)\n",
    "    T = chmm.C[:, v][:, :, v]\n",
    "\n",
    "    # Find the most likely action for each transition\n",
    "    most_likely_action = np.argmax(T, axis=0)  # Shape: (4, 4), indices of max actions\n",
    "    combined_T = np.max(T, axis=0)  # Transition probabilities for most likely action\n",
    "\n",
    "    # Normalize the combined transition matrix\n",
    "    combined_T /= combined_T.sum(1, keepdims=True)  # Normalize rows\n",
    "\n",
    "    # Create the graph using the combined transition matrix\n",
    "    g = igraph.Graph.Adjacency((combined_T > 0).tolist())\n",
    "\n",
    "    # Assign edge labels for transition probabilities\n",
    "    for e in g.es:\n",
    "        source = e.source\n",
    "        target = e.target\n",
    "        e['label'] = f\"p={combined_T[source, target]:.2f}\"  # Probability label\n",
    "\n",
    "    # Assign node labels and colors\n",
    "    node_labels = np.arange(x.max() + 1).repeat(chmm.n_clones)[v]\n",
    "    max_label = node_labels.max()\n",
    "\n",
    "    # Define the layout\n",
    "    layout = g.layout(\"circle\")\n",
    "\n",
    "    # Plot the graph\n",
    "    fig, ax = plt.subplots(figsize=(10, 8))\n",
    "    igraph.plot(\n",
    "        g,\n",
    "        target=ax,\n",
    "        layout=layout,\n",
    "        vertex_label=sorted(v),\n",
    "        vertex_color=[cmap(state / len(v))[:3] for state in sorted(v)],\n",
    "        vertex_size=vertex_size,\n",
    "        margin=50,\n",
    "    )\n",
    "    plt.title(\"Graph Based on Most Likely Actions\")\n",
    "    plt.show()\n",
    "\n",
    "    print(\"Most Likely Action Matrix:\\n\", most_likely_action)\n",
    "    print(\"Normalized Combined Transition Matrix:\\n\", combined_T)\n",
    "\n",
    "    return g"
   ]
  },
  {
   "cell_type": "code",
   "execution_count": 177,
   "metadata": {},
   "outputs": [],
   "source": [
    "import numpy as np\n",
    "import matplotlib.pyplot as plt\n",
    "from matplotlib.lines import Line2D\n",
    "import igraph\n",
    "\n",
    "def plot_graph_probs(\n",
    "    chmm, x, a, output_file, cmap=plt.cm.Spectral, vertex_size=30\n",
    "):\n",
    "    # Decode the states\n",
    "    states = chmm.decode(x, a)[1]\n",
    "\n",
    "    # Extract unique states and transition matrix\n",
    "    v = np.unique(states)\n",
    "    T = chmm.C[:, v][:, :, v]  # Transition matrix (shape: (2, n, n))\n",
    "\n",
    "    # Determine the most likely action and associated probabilities\n",
    "    most_likely_action = np.argmax(T, axis=0)  # Index of the most likely action\n",
    "    combined_T = np.max(T, axis=0)  # Transition probabilities for the most likely action\n",
    "\n",
    "    # Normalize the combined transition matrix\n",
    "    combined_T /= combined_T.sum(1, keepdims=True)\n",
    "\n",
    "    # Sort nodes based on their values\n",
    "    sorted_indices = np.argsort(v)  # Indices to order nodes\n",
    "    sorted_v = v[sorted_indices]    # Sorted node labels\n",
    "    sorted_T = combined_T[sorted_indices, :][:, sorted_indices]  # Reorder the matrix\n",
    "\n",
    "    # Create the graph using the sorted transition matrix\n",
    "    g = igraph.Graph.Adjacency((sorted_T > 0).tolist())\n",
    "\n",
    "    # Assign edge labels for transition probabilities and scale edge thickness\n",
    "    for e in g.es:\n",
    "        source = e.source\n",
    "        target = e.target\n",
    "        e['label'] = f\"p={sorted_T[source, target]:.2f}\"  # Label with probability\n",
    "        e['width'] = sorted_T[source, target] * 10  # Scale edge width by probability\n",
    "\n",
    "    # Assign colors to nodes based on their observations\n",
    "    max_label = sorted_v.max()\n",
    "    node_colors = [cmap(value / max_label)[:3] for value in sorted_v]\n",
    "\n",
    "    # Define a layout with sorted nodes\n",
    "    layout = g.layout(\"circle\")  # Circular layout for visualization\n",
    "\n",
    "    # Plot the graph\n",
    "    fig, ax = plt.subplots(figsize=(10, 8))\n",
    "    igraph.plot(\n",
    "        g,\n",
    "        target=ax,\n",
    "        layout=layout,\n",
    "        vertex_label=sorted_v,\n",
    "        vertex_color=node_colors,\n",
    "        vertex_size=vertex_size,\n",
    "        margin=50,\n",
    "        edge_label_size=12,  # Increase font size for edge labels\n",
    "    )\n",
    "    plt.title(\"Graph Based on Most Likely Actions (Sorted Nodes)\")\n",
    "    plt.show()\n",
    "\n",
    "    print(\"Sorted Node Labels:\", sorted_v)\n",
    "    print(\"Normalized Combined Transition Matrix (Sorted):\\n\", sorted_T)\n",
    "\n",
    "    return g"
   ]
  },
  {
   "cell_type": "code",
   "execution_count": 178,
   "metadata": {},
   "outputs": [
    {
     "data": {
      "image/png": "[encoded data removed]",
      "text/plain": [
       "<Figure size 1000x800 with 1 Axes>"
      ]
     },
     "metadata": {},
     "output_type": "display_data"
    },
    {
     "name": "stdout",
     "output_type": "stream",
     "text": [
      "Sorted Node Labels: [ 51  90 195 228]\n",
      "Normalized Combined Transition Matrix (Sorted):\n",
      " [[0.         0.54467356 0.45532647 0.        ]\n",
      " [0.         0.         1.         0.        ]\n",
      " [0.45360824 0.         0.         0.5463917 ]\n",
      " [1.         0.         0.         0.        ]]\n"
     ]
    },
    {
     "ename": "TypeError",
     "evalue": "'Graph' object is not iterable",
     "output_type": "error",
     "traceback": [
      "\u001b[0;31m---------------------------------------------------------------------------\u001b[0m",
      "\u001b[0;31mTypeError\u001b[0m                                 Traceback (most recent call last)",
      "\u001b[0;32m/var/folders/1x/pjr85krn4d9dm0h089qwfmnh0000gn/T/ipykernel_14170/3565850267.py\u001b[0m in \u001b[0;36m<module>\u001b[0;34m\u001b[0m\n\u001b[1;32m      1\u001b[0m \u001b[0;31m# Visualize the learned, consolidated CSCG.\u001b[0m\u001b[0;34m\u001b[0m\u001b[0;34m\u001b[0m\u001b[0m\n\u001b[1;32m      2\u001b[0m \u001b[0;34m\u001b[0m\u001b[0m\n\u001b[0;32m----> 3\u001b[0;31m graph, states = plot_graph_probs(\n\u001b[0m\u001b[1;32m      4\u001b[0m     \u001b[0mchmm\u001b[0m\u001b[0;34m,\u001b[0m \u001b[0mx\u001b[0m\u001b[0;34m,\u001b[0m \u001b[0ma\u001b[0m\u001b[0;34m,\u001b[0m \u001b[0moutput_file\u001b[0m\u001b[0;34m=\u001b[0m\u001b[0;34m\"figures/rectangular_room_graph.pdf\"\u001b[0m\u001b[0;34m\u001b[0m\u001b[0;34m\u001b[0m\u001b[0m\n\u001b[1;32m      5\u001b[0m )\n",
      "\u001b[0;31mTypeError\u001b[0m: 'Graph' object is not iterable"
     ]
    }
   ],
   "source": [
    "# Visualize the learned, consolidated CSCG.\n",
    "\n",
    "graph, states = plot_graph_probs(\n",
    "    chmm, x, a, output_file=\"figures/rectangular_room_graph.pdf\"\n",
    ")\n",
    "\n",
    "graph"
   ]
  },
  {
   "cell_type": "code",
   "execution_count": 53,
   "metadata": {},
   "outputs": [
    {
     "ename": "NameError",
     "evalue": "name 'T' is not defined",
     "output_type": "error",
     "traceback": [
      "\u001b[0;31m---------------------------------------------------------------------------\u001b[0m",
      "\u001b[0;31mNameError\u001b[0m                                 Traceback (most recent call last)",
      "\u001b[0;32m/var/folders/1x/pjr85krn4d9dm0h089qwfmnh0000gn/T/ipykernel_4308/3592747047.py\u001b[0m in \u001b[0;36m<module>\u001b[0;34m\u001b[0m\n\u001b[0;32m----> 1\u001b[0;31m \u001b[0mA\u001b[0m \u001b[0;34m=\u001b[0m \u001b[0mT\u001b[0m\u001b[0;34m.\u001b[0m\u001b[0msum\u001b[0m\u001b[0;34m(\u001b[0m\u001b[0;36m0\u001b[0m\u001b[0;34m)\u001b[0m\u001b[0;34m\u001b[0m\u001b[0;34m\u001b[0m\u001b[0m\n\u001b[0m\u001b[1;32m      2\u001b[0m \u001b[0mA\u001b[0m \u001b[0;34m/=\u001b[0m \u001b[0mA\u001b[0m\u001b[0;34m.\u001b[0m\u001b[0msum\u001b[0m\u001b[0;34m(\u001b[0m\u001b[0;36m1\u001b[0m\u001b[0;34m,\u001b[0m \u001b[0mkeepdims\u001b[0m\u001b[0;34m=\u001b[0m\u001b[0;32mTrue\u001b[0m\u001b[0;34m)\u001b[0m\u001b[0;34m\u001b[0m\u001b[0;34m\u001b[0m\u001b[0m\n",
      "\u001b[0;31mNameError\u001b[0m: name 'T' is not defined"
     ]
    }
   ],
   "source": [
    "A = T.sum(0)\n",
    "A /= A.sum(1, keepdims=True)"
   ]
  },
  {
   "cell_type": "code",
   "execution_count": 159,
   "metadata": {},
   "outputs": [],
   "source": [
    "states = chmm.decode(x, a)[1]\n",
    "v = np.unique(states)\n",
    "active_clones = v"
   ]
  },
  {
   "cell_type": "code",
   "execution_count": 160,
   "metadata": {},
   "outputs": [],
   "source": [
    "T = chmm.C[:, v][:, :, v][:, 1:, 1:]"
   ]
  },
  {
   "cell_type": "code",
   "execution_count": 162,
   "metadata": {},
   "outputs": [
    {
     "data": {
      "text/plain": [
       "(array([[[  0., 317.,   0.],\n",
       "         [  0.,   0.,   0.],\n",
       "         [  0.,   0.,   0.]],\n",
       " \n",
       "        [[  0.,   0.,   0.],\n",
       "         [  0.,   0., 318.],\n",
       "         [  0.,   0.,   0.]]], dtype=float32),\n",
       " array([[  0., 317.,   0.],\n",
       "        [  0.,   0., 318.],\n",
       "        [  0.,   0.,   0.]], dtype=float32))"
      ]
     },
     "execution_count": 162,
     "metadata": {},
     "output_type": "execute_result"
    }
   ],
   "source": [
    "A = T.sum(0)\n",
    "T, A"
   ]
  },
  {
   "cell_type": "code",
   "execution_count": null,
   "metadata": {},
   "outputs": [],
   "source": []
  },
  {
   "cell_type": "code",
   "execution_count": 36,
   "metadata": {
    "colab": {
     "base_uri": "https://localhost:8080/"
    },
    "id": "ygyTYsIUjBtE",
    "outputId": "0c8d8458-acdd-4f03-cbb4-3cab29b45f9b"
   },
   "outputs": [
    {
     "name": "stderr",
     "output_type": "stream",
     "text": [
      "<ipython-input-36-6b8705582a3f>:6: RuntimeWarning: invalid value encountered in divide\n",
      "  A /= A.sum(1, keepdims=True)\n"
     ]
    },
    {
     "data": {
      "text/plain": [
       "(array([[nan, nan, nan, nan],\n",
       "        [nan, nan, nan, nan],\n",
       "        [nan, nan, nan, nan],\n",
       "        [nan, nan, nan, nan]], dtype=float32),\n",
       " (1000,),\n",
       " array([ 30, 108, 178, 183, 286]))"
      ]
     },
     "execution_count": 36,
     "metadata": {},
     "output_type": "execute_result"
    }
   ],
   "source": [
    "states = chmm.decode(x, a)[1]\n",
    "v = np.unique(states)\n",
    "active_clones = v\n",
    "T = chmm.C[:, v][:, :, v][:-1, 1:, 1:]\n",
    "A = T.sum(0)\n",
    "A /= A.sum(1, keepdims=True)\n",
    "mess_fwd, E, T = get_mess_fwd(chmm, x, pseudocount_E=0.0001)\n",
    "\n",
    "A, states.shape, active_clones"
   ]
  },
  {
   "cell_type": "code",
   "execution_count": null,
   "metadata": {
    "colab": {
     "base_uri": "https://localhost:8080/"
    },
    "id": "4yxN2TeMI0bJ",
    "outputId": "4abad073-4c49-4d9a-f10a-ca6852556182"
   },
   "outputs": [
    {
     "data": {
      "text/plain": [
       "(array([0, 2, 3, 0, 2, 3, 0, 2, 3, 0, 1, 3, 0, 1, 3, 0, 1, 3, 0, 1]),\n",
       " array([ 30, 183, 286,  30, 183, 286,  30, 183, 286,   2, 108, 286,   2,\n",
       "        108, 286,   2, 108, 286,   2, 108]))"
      ]
     },
     "execution_count": 12,
     "metadata": {},
     "output_type": "execute_result"
    }
   ],
   "source": [
    "x[:20], states[:20]"
   ]
  },
  {
   "cell_type": "code",
   "execution_count": 37,
   "metadata": {
    "id": "cRWSH658Kb9w"
   },
   "outputs": [],
   "source": [
    "#Restrict Pi, T, and E matrices to active clones only.\n",
    "\n",
    "num_active_clones = len(active_clones)\n",
    "\n",
    "Pi_x_restricted = chmm.Pi_x[:num_active_clones]\n",
    "\n",
    "T=chmm.T.copy()\n",
    "T_restricted = np.zeros((T.shape[0], num_active_clones, num_active_clones))\n",
    "\n",
    "for i in range(num_active_clones):\n",
    "    for j in range(num_active_clones):\n",
    "        original_i = active_clones[i]\n",
    "        original_j = active_clones[j]\n",
    "        T_restricted[:, i, j] = T[:, original_i, original_j]\n",
    "\n",
    "clone_correspondence = {}\n",
    "for i in range(num_active_clones):\n",
    "    original_i = active_clones[i]\n",
    "    clone_correspondence[i] = original_i\n",
    "\n",
    "\n",
    "num_active_clones = len(active_clones)\n",
    "E_restricted = np.zeros((num_active_clones, E.shape[1]))\n",
    "\n",
    "for i in range(num_active_clones):\n",
    "    original_i = clone_correspondence[i]\n",
    "    E_restricted[i, :] = E[original_i, :]"
   ]
  },
  {
   "cell_type": "code",
   "execution_count": 39,
   "metadata": {
    "colab": {
     "base_uri": "https://localhost:8080/"
    },
    "id": "iraul9blfYl-",
    "outputId": "cdc1146b-f4f4-4a7d-ba6e-1cf5b2d8082e"
   },
   "outputs": [
    {
     "name": "stdout",
     "output_type": "stream",
     "text": [
      "Learned transition probabilities from S: [6.14175224e-06 6.90953255e-01 6.14175224e-06 3.07093740e-01\n",
      " 6.14175224e-06]\n",
      "Learned transition probabilities from T: [8.86367798e-06 8.86367798e-06 2.88078368e-01 8.86367798e-06\n",
      " 7.09103048e-01]\n",
      "Learned transition probabilities from C when arriving from T: [5.94180346e-01 3.04692276e-05 3.04692276e-05 3.04692276e-05\n",
      " 3.96130413e-01]\n",
      "Learned transition probabilities from C when arriving from S: [2.00722607e-05 2.00722607e-05 2.00722607e-05 2.00722607e-05\n",
      " 9.93596971e-01]\n",
      "Learned transition probabilities from A: [9.97766078e-01 7.00181818e-06 7.00181818e-06 7.00181818e-06\n",
      " 7.00181818e-06]\n"
     ]
    }
   ],
   "source": [
    "#Check that the learned CSCG transition probs correspond to the ones used to generate the training sequence.\n",
    "\n",
    "'''\n",
    "Seuquence generation transition probabilities.\n",
    "        [0.0, 0.7, 0.3, 0.0],   # Transition probabilities from S\n",
    "        [0.0, 0.0, 0.3, 0.7],   # Transition probabilities from T\n",
    "        [0.7, 0.0, 0.0, 0.3],   # Transition probabilities from C when arriving from T\n",
    "        [0.0, 0.0, 0.0, 1.0],   # Transition probabilities from C when arriving from S\n",
    "        [1.0, 0.0, 0.0, 0.0]    # Transition probabilities from A\n",
    "'''\n",
    "\n",
    "print(\"Learned transition probabilities from S:\", T_restricted[0, 0, :])\n",
    "print(\"Learned transition probabilities from T:\", T_restricted[0, 1, :])\n",
    "print(\"Learned transition probabilities from C when arriving from T:\", T_restricted[0, 2, :])\n",
    "print(\"Learned transition probabilities from C when arriving from S:\", T_restricted[0, 3, :])\n",
    "print(\"Learned transition probabilities from A:\", T_restricted[0, 4, :])\n",
    "\n",
    "#The learned probabilities are consistent with the given ones."
   ]
  },
  {
   "cell_type": "code",
   "execution_count": 14,
   "metadata": {
    "id": "7pREfzrgEMu0"
   },
   "outputs": [],
   "source": [
    "#Block transition from and to a specific node on the restricted T matrix.\n",
    "\n",
    "T_restricted_blocked = T_restricted.copy()\n",
    "clones_blocked_in_original = [108] #Starting node\n",
    "clones_blocked_out_original = [286] #Ending node\n",
    "idxs_blocked_in = []\n",
    "idxs_blocked_out = []\n",
    "\n",
    "for clone in clones_blocked_in_original:\n",
    "  blocked_obs = clone//n_clones[0]\n",
    "  for index, node in clone_correspondence.items():\n",
    "    if node == clone:\n",
    "      idxs_blocked_in.append(index)\n",
    "      break\n",
    "\n",
    "for clone in clones_blocked_out_original:\n",
    "  blocked_obs = clone//n_clones[0]\n",
    "  for index, node in clone_correspondence.items():\n",
    "    if node == clone:\n",
    "      idxs_blocked_out.append(index)\n",
    "      break\n",
    "\n",
    "for idx_blocked_in in idxs_blocked_in:\n",
    "  for idx_blocked_out in idxs_blocked_out:\n",
    "    T_restricted_blocked[:, idx_blocked_in, idx_blocked_out] = chmm.pseudocount\n",
    "    T_restricted_blocked[:, idx_blocked_out, idx_blocked_in] = chmm.pseudocount\n",
    "\n",
    "#T_restricted_blocked[T_restricted_blocked < 0.02] = 0\n",
    "\n",
    "# Normalize to adjust probabilities\n",
    "norm = T_restricted_blocked.sum(2, keepdims=True)\n",
    "norm[norm == 0] = 1\n",
    "T_restricted_blocked /= norm\n",
    "\n",
    "norm = E.sum(1, keepdims=True)\n",
    "norm[norm == 0] = 1\n",
    "E /= norm"
   ]
  },
  {
   "cell_type": "code",
   "execution_count": 15,
   "metadata": {
    "id": "BCNVnxQ_CjbU"
   },
   "outputs": [],
   "source": [
    "#Plot the updated graph, with the adjusted probabilities and blocked transitions.\n",
    "\n",
    "def plot_graph_blocked(\n",
    "    chmm, x, a, output_file, T_restricted_blocked, cmap=plt.cm.Spectral, multiple_episodes=False, vertex_size=30, edge_color='black', marked_transition=None\n",
    "):\n",
    "    states = chmm.decode(x, a)[1]\n",
    "\n",
    "    v = np.unique(states)\n",
    "    if multiple_episodes:\n",
    "        T = chmm.C[:, v][:, :, v][:-1, 1:, 1:]\n",
    "        v = v[1:]\n",
    "    else:\n",
    "        T = chmm.C[:, v][:, :, v]\n",
    "    A = T.sum(0)\n",
    "    A /= A.sum(1, keepdims=True)\n",
    "\n",
    "    g = igraph.Graph.Adjacency((A > 0).tolist())\n",
    "    node_labels = np.arange(x.max() + 1).repeat(chmm.n_clones)[v]\n",
    "    max_label = node_labels.max()\n",
    "    colors = [cmap(nl / max_label)[:3] for nl in node_labels]\n",
    "\n",
    "    edge_colors = ['black'] * len(g.es)\n",
    "\n",
    "    if marked_transition is not None:\n",
    "        source, target = marked_transition\n",
    "        edge_idx = g.get_eid(source, target, directed=True, error=False)\n",
    "        if edge_idx != -1:\n",
    "            edge_colors[edge_idx] = 'red'\n",
    "\n",
    "\n",
    "    # Define legend and layout (x, y spacing)\n",
    "    category_ranges = np.linspace(0, max_label, 4)\n",
    "    category_labels = ['Station', 'Train', 'Cab', 'Airport']\n",
    "    legend_labels = []\n",
    "    y_positions = {}\n",
    "    base_y_coord = 0\n",
    "    category_x_coords = {}\n",
    "    x_spacing = 1000\n",
    "    train_y_offset = -1\n",
    "    cab_y_offset = -1\n",
    "    for i, label in enumerate(category_labels):\n",
    "        color = cmap(category_ranges[i] / max_label)[:3]\n",
    "        legend_labels.append((label, color))\n",
    "        category_x_coords[label] = i * x_spacing\n",
    "\n",
    "    category_counts = {label: 0 for label in category_labels}\n",
    "    node_categories = np.digitize(node_labels, category_ranges) - 1\n",
    "\n",
    "    layout = []\n",
    "    for idx, nl in enumerate(node_labels):\n",
    "        category = category_labels[node_categories[idx]]\n",
    "        x_coord = category_x_coords[category]\n",
    "        # Adjust y-coordinates\n",
    "        if category == \"Train\":\n",
    "            y_coord = train_y_offset + (category_counts[category] * -1)\n",
    "        elif category == \"Cab\":\n",
    "            y_coord = cab_y_offset + (category_counts[category] * -1)\n",
    "        else:\n",
    "            y_coord = category_counts[category] *-1\n",
    "        category_counts[category] -= 2\n",
    "        layout.append((x_coord, y_coord))\n",
    "\n",
    "\n",
    "    # Set edge labels based on transition probabilities\n",
    "    for e in g.es:\n",
    "        source = e.source\n",
    "        target = e.target\n",
    "        e['label'] = f\"p={T_restricted_blocked[0, source, target]:.2f}\"\n",
    "\n",
    "    out = igraph.plot(\n",
    "        g,\n",
    "        None,\n",
    "        layout=layout,\n",
    "        vertex_color=colors,\n",
    "        vertex_label=v,\n",
    "        vertex_size=vertex_size,\n",
    "        margin=50,\n",
    "        edge_color=edge_colors,\n",
    "        legend=legend_labels,\n",
    "        legend_box=(1, 0),\n",
    "    )\n",
    "\n",
    "    legend_fig, legend_ax = plt.subplots(figsize=(2, 2))\n",
    "    legend_ax.axis('off')\n",
    "    legend_ax.legend(handles=[Line2D([0], [0], marker='o', color='w', label=label,\n",
    "                                      markerfacecolor=color, markersize=10)\n",
    "                              for label, color in legend_labels],\n",
    "                     loc='center')\n",
    "    plt.show()\n",
    "    legend_fig.show()\n",
    "\n",
    "    return out, states"
   ]
  },
  {
   "cell_type": "code",
   "execution_count": 17,
   "metadata": {
    "colab": {
     "base_uri": "https://localhost:8080/",
     "height": 996
    },
    "id": "xiA2fso73T-P",
    "outputId": "566946dd-39a0-4b95-99cc-70c54afa5dad"
   },
   "outputs": [
    {
     "data": {
      "image/png": "[encoded data removed]",
      "text/plain": [
       "<Figure size 200x200 with 1 Axes>"
      ]
     },
     "metadata": {},
     "output_type": "display_data"
    },
    {
     "data": {
      "image/svg+xml": [
       "<?xml version=\"1.0\" encoding=\"UTF-8\"?>\n",
       "<svg xmlns=\"http://www.w3.org/2000/svg\" xmlns:xlink=\"http://www.w3.org/1999/xlink\" width=\"600pt\" height=\"600pt\" viewBox=\"0 0 600 600\" version=\"1.1\">\n",
       "<defs>\n",
       "<g>\n",
       "<symbol overflow=\"visible\" id=\"glyph0-0\">\n",
       "<path style=\"stroke:none;\" d=\"M 0.46875 0 L 0.46875 -9.328125 L 4.1875 -9.328125 L 4.1875 0 Z M 0.9375 -0.46875 L 3.71875 -0.46875 L 3.71875 -8.859375 L 0.9375 -8.859375 Z M 0.9375 -0.46875 \"/>\n",
       "</symbol>\n",
       "<symbol overflow=\"visible\" id=\"glyph0-1\">\n",
       "<path style=\"stroke:none;\" d=\"M 7.515625 -2.53125 C 7.515625 -2.113281 7.441406 -1.738281 7.296875 -1.40625 C 7.148438 -1.082031 6.9375 -0.804688 6.65625 -0.578125 C 6.382812 -0.347656 6.046875 -0.171875 5.640625 -0.046875 C 5.234375 0.078125 4.769531 0.140625 4.25 0.140625 C 3.65625 0.140625 3.148438 0.0664062 2.734375 -0.078125 C 2.328125 -0.234375 1.988281 -0.429688 1.71875 -0.671875 C 1.457031 -0.921875 1.257812 -1.195312 1.125 -1.5 C 1 -1.8125 0.914062 -2.132812 0.875 -2.46875 L 2.140625 -2.59375 C 2.179688 -2.332031 2.25 -2.097656 2.34375 -1.890625 C 2.445312 -1.679688 2.582031 -1.5 2.75 -1.34375 C 2.914062 -1.195312 3.125 -1.082031 3.375 -1 C 3.625 -0.914062 3.914062 -0.875 4.25 -0.875 C 4.863281 -0.875 5.347656 -1.019531 5.703125 -1.3125 C 6.054688 -1.601562 6.234375 -2.023438 6.234375 -2.578125 C 6.234375 -2.878906 6.15625 -3.132812 6 -3.34375 C 5.84375 -3.550781 5.644531 -3.710938 5.40625 -3.828125 C 5.175781 -3.953125 4.921875 -4.035156 4.640625 -4.078125 C 4.367188 -4.128906 4.117188 -4.15625 3.890625 -4.15625 L 3.1875 -4.15625 L 3.1875 -5.234375 L 3.859375 -5.234375 C 4.085938 -5.234375 4.328125 -5.257812 4.578125 -5.3125 C 4.828125 -5.375 5.054688 -5.46875 5.265625 -5.59375 C 5.472656 -5.71875 5.644531 -5.878906 5.78125 -6.078125 C 5.914062 -6.285156 5.984375 -6.53125 5.984375 -6.8125 C 5.984375 -7.300781 5.832031 -7.679688 5.53125 -7.953125 C 5.226562 -8.222656 4.773438 -8.359375 4.171875 -8.359375 C 3.628906 -8.359375 3.191406 -8.21875 2.859375 -7.9375 C 2.523438 -7.65625 2.332031 -7.265625 2.28125 -6.765625 L 1.046875 -6.859375 C 1.085938 -7.285156 1.195312 -7.65625 1.375 -7.96875 C 1.5625 -8.28125 1.796875 -8.539062 2.078125 -8.75 C 2.359375 -8.957031 2.675781 -9.109375 3.03125 -9.203125 C 3.394531 -9.304688 3.78125 -9.359375 4.1875 -9.359375 C 4.726562 -9.359375 5.191406 -9.296875 5.578125 -9.171875 C 5.960938 -9.046875 6.273438 -8.875 6.515625 -8.65625 C 6.765625 -8.4375 6.945312 -8.175781 7.0625 -7.875 C 7.1875 -7.582031 7.25 -7.273438 7.25 -6.953125 C 7.25 -6.691406 7.207031 -6.441406 7.125 -6.203125 C 7.039062 -5.972656 6.914062 -5.757812 6.75 -5.5625 C 6.582031 -5.375 6.367188 -5.207031 6.109375 -5.0625 C 5.859375 -4.914062 5.566406 -4.804688 5.234375 -4.734375 L 5.234375 -4.703125 C 5.609375 -4.671875 5.9375 -4.582031 6.21875 -4.4375 C 6.5 -4.300781 6.734375 -4.132812 6.921875 -3.9375 C 7.117188 -3.738281 7.265625 -3.519531 7.359375 -3.28125 C 7.460938 -3.039062 7.515625 -2.789062 7.515625 -2.53125 Z M 7.515625 -2.53125 \"/>\n",
       "</symbol>\n",
       "<symbol overflow=\"visible\" id=\"glyph0-2\">\n",
       "<path style=\"stroke:none;\" d=\"M 7.546875 -4.609375 C 7.546875 -3.722656 7.457031 -2.976562 7.28125 -2.375 C 7.101562 -1.769531 6.863281 -1.28125 6.5625 -0.90625 C 6.257812 -0.53125 5.898438 -0.257812 5.484375 -0.09375 C 5.078125 0.0625 4.640625 0.140625 4.171875 0.140625 C 3.703125 0.140625 3.265625 0.0625 2.859375 -0.09375 C 2.453125 -0.257812 2.097656 -0.53125 1.796875 -0.90625 C 1.503906 -1.28125 1.269531 -1.769531 1.09375 -2.375 C 0.925781 -2.976562 0.84375 -3.722656 0.84375 -4.609375 C 0.84375 -5.546875 0.925781 -6.316406 1.09375 -6.921875 C 1.269531 -7.535156 1.507812 -8.019531 1.8125 -8.375 C 2.113281 -8.738281 2.46875 -8.992188 2.875 -9.140625 C 3.289062 -9.285156 3.738281 -9.359375 4.21875 -9.359375 C 4.675781 -9.359375 5.109375 -9.285156 5.515625 -9.140625 C 5.921875 -8.992188 6.269531 -8.738281 6.5625 -8.375 C 6.863281 -8.019531 7.101562 -7.535156 7.28125 -6.921875 C 7.457031 -6.316406 7.546875 -5.546875 7.546875 -4.609375 Z M 6.296875 -4.609375 C 6.296875 -5.335938 6.25 -5.941406 6.15625 -6.421875 C 6.0625 -6.910156 5.925781 -7.296875 5.75 -7.578125 C 5.570312 -7.867188 5.351562 -8.070312 5.09375 -8.1875 C 4.832031 -8.3125 4.539062 -8.375 4.21875 -8.375 C 3.875 -8.375 3.566406 -8.3125 3.296875 -8.1875 C 3.035156 -8.0625 2.8125 -7.851562 2.625 -7.5625 C 2.445312 -7.28125 2.3125 -6.898438 2.21875 -6.421875 C 2.132812 -5.941406 2.09375 -5.335938 2.09375 -4.609375 C 2.09375 -3.910156 2.140625 -3.320312 2.234375 -2.84375 C 2.328125 -2.363281 2.460938 -1.976562 2.640625 -1.6875 C 2.816406 -1.394531 3.035156 -1.1875 3.296875 -1.0625 C 3.554688 -0.9375 3.851562 -0.875 4.1875 -0.875 C 4.507812 -0.875 4.800781 -0.9375 5.0625 -1.0625 C 5.320312 -1.1875 5.539062 -1.394531 5.71875 -1.6875 C 5.90625 -1.976562 6.046875 -2.363281 6.140625 -2.84375 C 6.242188 -3.320312 6.296875 -3.910156 6.296875 -4.609375 Z M 3.390625 -3.796875 L 3.390625 -5.5 L 5 -5.5 L 5 -3.796875 Z M 3.390625 -3.796875 \"/>\n",
       "</symbol>\n",
       "<symbol overflow=\"visible\" id=\"glyph0-3\">\n",
       "<path style=\"stroke:none;\" d=\"M 1.078125 0 L 1.078125 -0.984375 L 4.078125 -0.984375 L 4.078125 -7.96875 C 3.984375 -7.789062 3.828125 -7.617188 3.609375 -7.453125 C 3.390625 -7.296875 3.140625 -7.15625 2.859375 -7.03125 C 2.578125 -6.914062 2.273438 -6.820312 1.953125 -6.75 C 1.628906 -6.675781 1.316406 -6.640625 1.015625 -6.640625 L 1.015625 -7.65625 C 1.347656 -7.65625 1.675781 -7.691406 2 -7.765625 C 2.332031 -7.847656 2.640625 -7.957031 2.921875 -8.09375 C 3.203125 -8.238281 3.453125 -8.40625 3.671875 -8.59375 C 3.890625 -8.78125 4.054688 -8.988281 4.171875 -9.21875 L 5.3125 -9.21875 L 5.3125 -0.984375 L 7.71875 -0.984375 L 7.71875 0 Z M 1.078125 0 \"/>\n",
       "</symbol>\n",
       "<symbol overflow=\"visible\" id=\"glyph0-4\">\n",
       "<path style=\"stroke:none;\" d=\"M 7.484375 -2.578125 C 7.484375 -2.203125 7.414062 -1.847656 7.28125 -1.515625 C 7.15625 -1.179688 6.957031 -0.890625 6.6875 -0.640625 C 6.425781 -0.398438 6.085938 -0.207031 5.671875 -0.0625 C 5.253906 0.0703125 4.765625 0.140625 4.203125 0.140625 C 3.628906 0.140625 3.132812 0.0703125 2.71875 -0.0625 C 2.3125 -0.207031 1.972656 -0.398438 1.703125 -0.640625 C 1.429688 -0.890625 1.226562 -1.175781 1.09375 -1.5 C 0.96875 -1.832031 0.90625 -2.191406 0.90625 -2.578125 C 0.90625 -2.898438 0.957031 -3.191406 1.0625 -3.453125 C 1.175781 -3.710938 1.320312 -3.9375 1.5 -4.125 C 1.675781 -4.320312 1.878906 -4.476562 2.109375 -4.59375 C 2.347656 -4.707031 2.585938 -4.785156 2.828125 -4.828125 L 2.828125 -4.859375 C 2.554688 -4.921875 2.316406 -5.019531 2.109375 -5.15625 C 1.898438 -5.300781 1.722656 -5.46875 1.578125 -5.65625 C 1.429688 -5.851562 1.320312 -6.066406 1.25 -6.296875 C 1.175781 -6.523438 1.140625 -6.757812 1.140625 -7 C 1.140625 -7.3125 1.203125 -7.609375 1.328125 -7.890625 C 1.460938 -8.171875 1.65625 -8.421875 1.90625 -8.640625 C 2.164062 -8.859375 2.484375 -9.03125 2.859375 -9.15625 C 3.234375 -9.289062 3.671875 -9.359375 4.171875 -9.359375 C 4.691406 -9.359375 5.144531 -9.289062 5.53125 -9.15625 C 5.914062 -9.03125 6.234375 -8.859375 6.484375 -8.640625 C 6.742188 -8.421875 6.929688 -8.164062 7.046875 -7.875 C 7.171875 -7.59375 7.234375 -7.296875 7.234375 -6.984375 C 7.234375 -6.742188 7.195312 -6.507812 7.125 -6.28125 C 7.050781 -6.0625 6.941406 -5.851562 6.796875 -5.65625 C 6.648438 -5.46875 6.472656 -5.300781 6.265625 -5.15625 C 6.054688 -5.019531 5.8125 -4.925781 5.53125 -4.875 L 5.53125 -4.84375 C 5.8125 -4.800781 6.066406 -4.71875 6.296875 -4.59375 C 6.535156 -4.476562 6.742188 -4.320312 6.921875 -4.125 C 7.097656 -3.9375 7.234375 -3.710938 7.328125 -3.453125 C 7.429688 -3.191406 7.484375 -2.898438 7.484375 -2.578125 Z M 5.96875 -6.921875 C 5.96875 -7.128906 5.9375 -7.328125 5.875 -7.515625 C 5.8125 -7.703125 5.707031 -7.863281 5.5625 -8 C 5.425781 -8.132812 5.242188 -8.242188 5.015625 -8.328125 C 4.785156 -8.410156 4.503906 -8.453125 4.171875 -8.453125 C 3.847656 -8.453125 3.570312 -8.410156 3.34375 -8.328125 C 3.125 -8.242188 2.941406 -8.132812 2.796875 -8 C 2.648438 -7.863281 2.546875 -7.703125 2.484375 -7.515625 C 2.421875 -7.328125 2.390625 -7.128906 2.390625 -6.921875 C 2.390625 -6.753906 2.414062 -6.578125 2.46875 -6.390625 C 2.519531 -6.203125 2.609375 -6.03125 2.734375 -5.875 C 2.867188 -5.71875 3.050781 -5.585938 3.28125 -5.484375 C 3.519531 -5.378906 3.820312 -5.328125 4.1875 -5.328125 C 4.570312 -5.328125 4.878906 -5.378906 5.109375 -5.484375 C 5.347656 -5.585938 5.53125 -5.71875 5.65625 -5.875 C 5.78125 -6.03125 5.863281 -6.203125 5.90625 -6.390625 C 5.945312 -6.578125 5.96875 -6.753906 5.96875 -6.921875 Z M 6.203125 -2.703125 C 6.203125 -2.910156 6.171875 -3.113281 6.109375 -3.3125 C 6.046875 -3.507812 5.9375 -3.691406 5.78125 -3.859375 C 5.625 -4.023438 5.414062 -4.15625 5.15625 -4.25 C 4.894531 -4.351562 4.566406 -4.40625 4.171875 -4.40625 C 3.804688 -4.40625 3.5 -4.351562 3.25 -4.25 C 3 -4.15625 2.796875 -4.023438 2.640625 -3.859375 C 2.484375 -3.691406 2.367188 -3.503906 2.296875 -3.296875 C 2.222656 -3.097656 2.1875 -2.890625 2.1875 -2.671875 C 2.1875 -2.398438 2.222656 -2.148438 2.296875 -1.921875 C 2.367188 -1.691406 2.484375 -1.492188 2.640625 -1.328125 C 2.796875 -1.160156 3.003906 -1.023438 3.265625 -0.921875 C 3.523438 -0.828125 3.84375 -0.78125 4.21875 -0.78125 C 4.59375 -0.78125 4.90625 -0.828125 5.15625 -0.921875 C 5.40625 -1.015625 5.609375 -1.144531 5.765625 -1.3125 C 5.921875 -1.488281 6.03125 -1.691406 6.09375 -1.921875 C 6.164062 -2.160156 6.203125 -2.421875 6.203125 -2.703125 Z M 6.203125 -2.703125 \"/>\n",
       "</symbol>\n",
       "<symbol overflow=\"visible\" id=\"glyph0-5\">\n",
       "<path style=\"stroke:none;\" d=\"M 7.3125 -8.265625 C 6.875 -7.640625 6.457031 -6.988281 6.0625 -6.3125 C 5.675781 -5.644531 5.332031 -4.960938 5.03125 -4.265625 C 4.738281 -3.578125 4.503906 -2.875 4.328125 -2.15625 C 4.160156 -1.445312 4.078125 -0.726562 4.078125 0 L 2.796875 0 C 2.796875 -0.71875 2.882812 -1.4375 3.0625 -2.15625 C 3.25 -2.875 3.492188 -3.582031 3.796875 -4.28125 C 4.097656 -4.976562 4.445312 -5.660156 4.84375 -6.328125 C 5.25 -6.992188 5.675781 -7.628906 6.125 -8.234375 L 1.078125 -8.234375 L 1.078125 -9.21875 L 7.3125 -9.21875 Z M 7.3125 -8.265625 \"/>\n",
       "</symbol>\n",
       "<symbol overflow=\"visible\" id=\"glyph0-6\">\n",
       "<path style=\"stroke:none;\" d=\"M 0.984375 0 L 0.984375 -0.796875 C 1.179688 -1.242188 1.441406 -1.648438 1.765625 -2.015625 C 2.097656 -2.390625 2.453125 -2.742188 2.828125 -3.078125 C 3.203125 -3.410156 3.578125 -3.726562 3.953125 -4.03125 C 4.328125 -4.332031 4.664062 -4.628906 4.96875 -4.921875 C 5.269531 -5.210938 5.515625 -5.507812 5.703125 -5.8125 C 5.898438 -6.113281 6 -6.4375 6 -6.78125 C 6 -7.050781 5.953125 -7.285156 5.859375 -7.484375 C 5.773438 -7.679688 5.648438 -7.84375 5.484375 -7.96875 C 5.328125 -8.101562 5.132812 -8.203125 4.90625 -8.265625 C 4.6875 -8.328125 4.441406 -8.359375 4.171875 -8.359375 C 3.929688 -8.359375 3.703125 -8.320312 3.484375 -8.25 C 3.273438 -8.1875 3.085938 -8.082031 2.921875 -7.9375 C 2.765625 -7.800781 2.632812 -7.628906 2.53125 -7.421875 C 2.4375 -7.222656 2.375 -6.992188 2.34375 -6.734375 L 1.09375 -6.84375 C 1.132812 -7.1875 1.226562 -7.507812 1.375 -7.8125 C 1.519531 -8.125 1.71875 -8.394531 1.96875 -8.625 C 2.21875 -8.851562 2.523438 -9.03125 2.890625 -9.15625 C 3.265625 -9.289062 3.691406 -9.359375 4.171875 -9.359375 C 4.648438 -9.359375 5.078125 -9.300781 5.453125 -9.1875 C 5.835938 -9.082031 6.164062 -8.925781 6.4375 -8.71875 C 6.707031 -8.507812 6.910156 -8.242188 7.046875 -7.921875 C 7.191406 -7.609375 7.265625 -7.25 7.265625 -6.84375 C 7.265625 -6.414062 7.164062 -6.019531 6.96875 -5.65625 C 6.769531 -5.289062 6.515625 -4.941406 6.203125 -4.609375 C 5.898438 -4.285156 5.5625 -3.972656 5.1875 -3.671875 C 4.8125 -3.378906 4.445312 -3.085938 4.09375 -2.796875 C 3.738281 -2.503906 3.414062 -2.210938 3.125 -1.921875 C 2.832031 -1.628906 2.613281 -1.320312 2.46875 -1 L 7.40625 -1 L 7.40625 0 Z M 0.984375 0 \"/>\n",
       "</symbol>\n",
       "<symbol overflow=\"visible\" id=\"glyph0-7\">\n",
       "<path style=\"stroke:none;\" d=\"M 7.5 -3.046875 C 7.5 -2.585938 7.429688 -2.164062 7.296875 -1.78125 C 7.160156 -1.394531 6.957031 -1.054688 6.6875 -0.765625 C 6.425781 -0.484375 6.101562 -0.257812 5.71875 -0.09375 C 5.332031 0.0625 4.882812 0.140625 4.375 0.140625 C 3.820312 0.140625 3.332031 0.0351562 2.90625 -0.171875 C 2.488281 -0.390625 2.140625 -0.691406 1.859375 -1.078125 C 1.585938 -1.472656 1.378906 -1.945312 1.234375 -2.5 C 1.097656 -3.0625 1.03125 -3.691406 1.03125 -4.390625 C 1.03125 -5.191406 1.109375 -5.898438 1.265625 -6.515625 C 1.421875 -7.140625 1.644531 -7.660156 1.9375 -8.078125 C 2.238281 -8.503906 2.601562 -8.820312 3.03125 -9.03125 C 3.457031 -9.25 3.941406 -9.359375 4.484375 -9.359375 C 4.804688 -9.359375 5.109375 -9.320312 5.390625 -9.25 C 5.679688 -9.1875 5.941406 -9.078125 6.171875 -8.921875 C 6.410156 -8.773438 6.617188 -8.578125 6.796875 -8.328125 C 6.972656 -8.078125 7.113281 -7.769531 7.21875 -7.40625 L 6.046875 -7.1875 C 5.921875 -7.601562 5.71875 -7.90625 5.4375 -8.09375 C 5.15625 -8.28125 4.832031 -8.375 4.46875 -8.375 C 4.125 -8.375 3.816406 -8.289062 3.546875 -8.125 C 3.273438 -7.96875 3.039062 -7.738281 2.84375 -7.4375 C 2.65625 -7.132812 2.507812 -6.757812 2.40625 -6.3125 C 2.300781 -5.863281 2.25 -5.34375 2.25 -4.75 C 2.476562 -5.164062 2.796875 -5.476562 3.203125 -5.6875 C 3.609375 -5.90625 4.070312 -6.015625 4.59375 -6.015625 C 5.03125 -6.015625 5.425781 -5.941406 5.78125 -5.796875 C 6.144531 -5.660156 6.453125 -5.460938 6.703125 -5.203125 C 6.953125 -4.941406 7.144531 -4.628906 7.28125 -4.265625 C 7.425781 -3.898438 7.5 -3.492188 7.5 -3.046875 Z M 6.234375 -3 C 6.234375 -3.300781 6.191406 -3.578125 6.109375 -3.828125 C 6.035156 -4.085938 5.914062 -4.304688 5.75 -4.484375 C 5.582031 -4.671875 5.378906 -4.816406 5.140625 -4.921875 C 4.898438 -5.023438 4.617188 -5.078125 4.296875 -5.078125 C 4.078125 -5.078125 3.851562 -5.035156 3.625 -4.953125 C 3.394531 -4.878906 3.1875 -4.769531 3 -4.625 C 2.820312 -4.476562 2.671875 -4.289062 2.546875 -4.0625 C 2.429688 -3.84375 2.375 -3.582031 2.375 -3.28125 C 2.375 -2.957031 2.421875 -2.648438 2.515625 -2.359375 C 2.609375 -2.066406 2.738281 -1.804688 2.90625 -1.578125 C 3.082031 -1.359375 3.289062 -1.179688 3.53125 -1.046875 C 3.769531 -0.921875 4.039062 -0.859375 4.34375 -0.859375 C 4.632812 -0.859375 4.894531 -0.90625 5.125 -1 C 5.363281 -1.101562 5.566406 -1.25 5.734375 -1.4375 C 5.898438 -1.625 6.023438 -1.847656 6.109375 -2.109375 C 6.191406 -2.378906 6.234375 -2.675781 6.234375 -3 Z M 6.234375 -3 \"/>\n",
       "</symbol>\n",
       "<symbol overflow=\"visible\" id=\"glyph1-0\">\n",
       "<path style=\"stroke:none;\" d=\"M 0.40625 0 L 0.40625 -8 L 3.59375 -8 L 3.59375 0 Z M 0.796875 -0.40625 L 3.1875 -0.40625 L 3.1875 -7.59375 L 0.796875 -7.59375 Z M 0.796875 -0.40625 \"/>\n",
       "</symbol>\n",
       "<symbol overflow=\"visible\" id=\"glyph1-1\">\n",
       "<path style=\"stroke:none;\" d=\"M 6.390625 -3.203125 C 6.390625 -2.722656 6.347656 -2.28125 6.265625 -1.875 C 6.191406 -1.46875 6.0625 -1.113281 5.875 -0.8125 C 5.695312 -0.519531 5.460938 -0.289062 5.171875 -0.125 C 4.878906 0.0390625 4.519531 0.125 4.09375 0.125 C 3.875 0.125 3.664062 0.101562 3.46875 0.0625 C 3.28125 0.0195312 3.097656 -0.0390625 2.921875 -0.125 C 2.753906 -0.21875 2.601562 -0.332031 2.46875 -0.46875 C 2.34375 -0.601562 2.238281 -0.769531 2.15625 -0.96875 L 2.125 -0.96875 C 2.125 -0.957031 2.125 -0.921875 2.125 -0.859375 C 2.132812 -0.796875 2.140625 -0.71875 2.140625 -0.625 C 2.140625 -0.539062 2.140625 -0.441406 2.140625 -0.328125 C 2.140625 -0.210938 2.140625 -0.0976562 2.140625 0.015625 L 2.140625 2.484375 L 1.078125 2.484375 L 1.078125 -5.03125 C 1.078125 -5.1875 1.078125 -5.335938 1.078125 -5.484375 C 1.078125 -5.628906 1.070312 -5.757812 1.0625 -5.875 C 1.0625 -5.988281 1.0625 -6.082031 1.0625 -6.15625 C 1.0625 -6.238281 1.054688 -6.300781 1.046875 -6.34375 L 2.078125 -6.34375 C 2.078125 -6.332031 2.078125 -6.289062 2.078125 -6.21875 C 2.085938 -6.144531 2.09375 -6.054688 2.09375 -5.953125 C 2.101562 -5.847656 2.113281 -5.738281 2.125 -5.625 C 2.132812 -5.507812 2.140625 -5.398438 2.140625 -5.296875 L 2.15625 -5.296875 C 2.25 -5.503906 2.359375 -5.679688 2.484375 -5.828125 C 2.609375 -5.972656 2.75 -6.09375 2.90625 -6.1875 C 3.0625 -6.28125 3.238281 -6.347656 3.4375 -6.390625 C 3.632812 -6.441406 3.851562 -6.46875 4.09375 -6.46875 C 4.519531 -6.46875 4.878906 -6.390625 5.171875 -6.234375 C 5.460938 -6.078125 5.695312 -5.851562 5.875 -5.5625 C 6.0625 -5.28125 6.191406 -4.9375 6.265625 -4.53125 C 6.347656 -4.132812 6.390625 -3.691406 6.390625 -3.203125 Z M 5.296875 -3.203125 C 5.296875 -3.585938 5.269531 -3.929688 5.21875 -4.234375 C 5.175781 -4.546875 5.097656 -4.804688 4.984375 -5.015625 C 4.867188 -5.222656 4.71875 -5.378906 4.53125 -5.484375 C 4.34375 -5.597656 4.101562 -5.65625 3.8125 -5.65625 C 3.582031 -5.65625 3.363281 -5.617188 3.15625 -5.546875 C 2.957031 -5.472656 2.78125 -5.34375 2.625 -5.15625 C 2.476562 -4.96875 2.359375 -4.703125 2.265625 -4.359375 C 2.179688 -4.023438 2.140625 -3.597656 2.140625 -3.078125 C 2.140625 -2.617188 2.175781 -2.238281 2.25 -1.9375 C 2.320312 -1.632812 2.425781 -1.382812 2.5625 -1.1875 C 2.707031 -1 2.882812 -0.863281 3.09375 -0.78125 C 3.300781 -0.695312 3.535156 -0.65625 3.796875 -0.65625 C 4.085938 -0.65625 4.328125 -0.710938 4.515625 -0.828125 C 4.710938 -0.941406 4.867188 -1.101562 4.984375 -1.3125 C 5.097656 -1.53125 5.175781 -1.796875 5.21875 -2.109375 C 5.269531 -2.429688 5.296875 -2.796875 5.296875 -3.203125 Z M 5.296875 -3.203125 \"/>\n",
       "</symbol>\n",
       "<symbol overflow=\"visible\" id=\"glyph1-2\">\n",
       "<path style=\"stroke:none;\" d=\"M 0.6875 -5.015625 L 0.6875 -5.890625 L 6.515625 -5.890625 L 6.515625 -5.015625 Z M 0.6875 -2.015625 L 0.6875 -2.890625 L 6.515625 -2.890625 L 6.515625 -2.015625 Z M 0.6875 -2.015625 \"/>\n",
       "</symbol>\n",
       "<symbol overflow=\"visible\" id=\"glyph1-3\">\n",
       "<path style=\"stroke:none;\" d=\"M 6.46875 -3.953125 C 6.46875 -3.191406 6.390625 -2.550781 6.234375 -2.03125 C 6.085938 -1.519531 5.882812 -1.101562 5.625 -0.78125 C 5.363281 -0.457031 5.054688 -0.222656 4.703125 -0.078125 C 4.347656 0.0546875 3.972656 0.125 3.578125 0.125 C 3.179688 0.125 2.804688 0.0546875 2.453125 -0.078125 C 2.109375 -0.222656 1.804688 -0.453125 1.546875 -0.765625 C 1.296875 -1.085938 1.097656 -1.507812 0.953125 -2.03125 C 0.804688 -2.550781 0.734375 -3.191406 0.734375 -3.953125 C 0.734375 -4.753906 0.804688 -5.414062 0.953125 -5.9375 C 1.097656 -6.457031 1.296875 -6.875 1.546875 -7.1875 C 1.804688 -7.5 2.113281 -7.71875 2.46875 -7.84375 C 2.820312 -7.96875 3.203125 -8.03125 3.609375 -8.03125 C 4.003906 -8.03125 4.375 -7.96875 4.71875 -7.84375 C 5.070312 -7.71875 5.375 -7.5 5.625 -7.1875 C 5.882812 -6.875 6.085938 -6.457031 6.234375 -5.9375 C 6.390625 -5.414062 6.46875 -4.753906 6.46875 -3.953125 Z M 5.390625 -3.953125 C 5.390625 -4.578125 5.347656 -5.09375 5.265625 -5.5 C 5.191406 -5.914062 5.078125 -6.25 4.921875 -6.5 C 4.773438 -6.75 4.585938 -6.921875 4.359375 -7.015625 C 4.140625 -7.117188 3.890625 -7.171875 3.609375 -7.171875 C 3.316406 -7.171875 3.054688 -7.117188 2.828125 -7.015625 C 2.597656 -6.910156 2.40625 -6.734375 2.25 -6.484375 C 2.101562 -6.242188 1.988281 -5.914062 1.90625 -5.5 C 1.832031 -5.09375 1.796875 -4.578125 1.796875 -3.953125 C 1.796875 -3.347656 1.832031 -2.84375 1.90625 -2.4375 C 1.988281 -2.03125 2.109375 -1.703125 2.265625 -1.453125 C 2.421875 -1.203125 2.609375 -1.019531 2.828125 -0.90625 C 3.054688 -0.800781 3.3125 -0.75 3.59375 -0.75 C 3.875 -0.75 4.125 -0.800781 4.34375 -0.90625 C 4.5625 -1.019531 4.75 -1.203125 4.90625 -1.453125 C 5.0625 -1.703125 5.179688 -2.03125 5.265625 -2.4375 C 5.347656 -2.84375 5.390625 -3.347656 5.390625 -3.953125 Z M 2.90625 -3.25 L 2.90625 -4.71875 L 4.28125 -4.71875 L 4.28125 -3.25 Z M 2.90625 -3.25 \"/>\n",
       "</symbol>\n",
       "<symbol overflow=\"visible\" id=\"glyph1-4\">\n",
       "<path style=\"stroke:none;\" d=\"M 2.90625 0 L 2.90625 -1.75 L 4.28125 -1.75 L 4.28125 0 Z M 2.90625 0 \"/>\n",
       "</symbol>\n",
       "<symbol overflow=\"visible\" id=\"glyph1-5\">\n",
       "<path style=\"stroke:none;\" d=\"M 6.421875 -2.609375 C 6.421875 -2.222656 6.363281 -1.863281 6.25 -1.53125 C 6.132812 -1.195312 5.960938 -0.90625 5.734375 -0.65625 C 5.515625 -0.414062 5.238281 -0.222656 4.90625 -0.078125 C 4.570312 0.0546875 4.1875 0.125 3.75 0.125 C 3.269531 0.125 2.847656 0.0351562 2.484375 -0.140625 C 2.128906 -0.328125 1.832031 -0.585938 1.59375 -0.921875 C 1.363281 -1.265625 1.1875 -1.675781 1.0625 -2.15625 C 0.945312 -2.632812 0.890625 -3.171875 0.890625 -3.765625 C 0.890625 -4.453125 0.957031 -5.0625 1.09375 -5.59375 C 1.226562 -6.125 1.421875 -6.566406 1.671875 -6.921875 C 1.921875 -7.285156 2.226562 -7.5625 2.59375 -7.75 C 2.957031 -7.9375 3.375 -8.03125 3.84375 -8.03125 C 4.125 -8.03125 4.382812 -8 4.625 -7.9375 C 4.875 -7.882812 5.097656 -7.789062 5.296875 -7.65625 C 5.503906 -7.519531 5.679688 -7.34375 5.828125 -7.125 C 5.984375 -6.914062 6.101562 -6.65625 6.1875 -6.34375 L 5.1875 -6.171875 C 5.070312 -6.523438 4.894531 -6.78125 4.65625 -6.9375 C 4.414062 -7.09375 4.140625 -7.171875 3.828125 -7.171875 C 3.535156 -7.171875 3.269531 -7.101562 3.03125 -6.96875 C 2.800781 -6.832031 2.601562 -6.632812 2.4375 -6.375 C 2.28125 -6.113281 2.15625 -5.789062 2.0625 -5.40625 C 1.976562 -5.019531 1.9375 -4.578125 1.9375 -4.078125 C 2.125 -4.429688 2.390625 -4.695312 2.734375 -4.875 C 3.085938 -5.0625 3.488281 -5.15625 3.9375 -5.15625 C 4.3125 -5.15625 4.648438 -5.09375 4.953125 -4.96875 C 5.265625 -4.851562 5.53125 -4.679688 5.75 -4.453125 C 5.96875 -4.234375 6.132812 -3.96875 6.25 -3.65625 C 6.363281 -3.34375 6.421875 -2.992188 6.421875 -2.609375 Z M 5.34375 -2.5625 C 5.34375 -2.820312 5.304688 -3.0625 5.234375 -3.28125 C 5.171875 -3.5 5.066406 -3.6875 4.921875 -3.84375 C 4.785156 -4 4.613281 -4.117188 4.40625 -4.203125 C 4.195312 -4.296875 3.957031 -4.34375 3.6875 -4.34375 C 3.5 -4.34375 3.304688 -4.3125 3.109375 -4.25 C 2.910156 -4.1875 2.734375 -4.09375 2.578125 -3.96875 C 2.421875 -3.84375 2.289062 -3.679688 2.1875 -3.484375 C 2.09375 -3.296875 2.046875 -3.070312 2.046875 -2.8125 C 2.046875 -2.53125 2.082031 -2.265625 2.15625 -2.015625 C 2.238281 -1.765625 2.351562 -1.539062 2.5 -1.34375 C 2.644531 -1.15625 2.816406 -1.003906 3.015625 -0.890625 C 3.222656 -0.785156 3.457031 -0.734375 3.71875 -0.734375 C 3.976562 -0.734375 4.207031 -0.773438 4.40625 -0.859375 C 4.601562 -0.953125 4.769531 -1.078125 4.90625 -1.234375 C 5.050781 -1.398438 5.160156 -1.59375 5.234375 -1.8125 C 5.304688 -2.039062 5.34375 -2.289062 5.34375 -2.5625 Z M 5.34375 -2.5625 \"/>\n",
       "</symbol>\n",
       "<symbol overflow=\"visible\" id=\"glyph1-6\">\n",
       "<path style=\"stroke:none;\" d=\"M 6.375 -4.125 C 6.375 -3.425781 6.300781 -2.8125 6.15625 -2.28125 C 6.019531 -1.757812 5.820312 -1.316406 5.5625 -0.953125 C 5.3125 -0.597656 5 -0.328125 4.625 -0.140625 C 4.257812 0.0351562 3.84375 0.125 3.375 0.125 C 3.0625 0.125 2.773438 0.0859375 2.515625 0.015625 C 2.265625 -0.046875 2.039062 -0.144531 1.84375 -0.28125 C 1.644531 -0.414062 1.472656 -0.59375 1.328125 -0.8125 C 1.191406 -1.03125 1.082031 -1.296875 1 -1.609375 L 2 -1.765625 C 2.113281 -1.410156 2.285156 -1.148438 2.515625 -0.984375 C 2.742188 -0.816406 3.039062 -0.734375 3.40625 -0.734375 C 3.6875 -0.734375 3.941406 -0.796875 4.171875 -0.921875 C 4.410156 -1.054688 4.613281 -1.253906 4.78125 -1.515625 C 4.945312 -1.773438 5.078125 -2.09375 5.171875 -2.46875 C 5.273438 -2.851562 5.328125 -3.300781 5.328125 -3.8125 C 5.242188 -3.625 5.128906 -3.457031 4.984375 -3.3125 C 4.847656 -3.164062 4.6875 -3.039062 4.5 -2.9375 C 4.320312 -2.84375 4.128906 -2.769531 3.921875 -2.71875 C 3.710938 -2.664062 3.5 -2.640625 3.28125 -2.640625 C 2.90625 -2.640625 2.566406 -2.707031 2.265625 -2.84375 C 1.960938 -2.976562 1.703125 -3.160156 1.484375 -3.390625 C 1.273438 -3.628906 1.113281 -3.914062 1 -4.25 C 0.882812 -4.582031 0.828125 -4.945312 0.828125 -5.34375 C 0.828125 -5.75 0.890625 -6.113281 1.015625 -6.4375 C 1.140625 -6.769531 1.316406 -7.050781 1.546875 -7.28125 C 1.785156 -7.519531 2.070312 -7.703125 2.40625 -7.828125 C 2.75 -7.960938 3.140625 -8.03125 3.578125 -8.03125 C 4.492188 -8.03125 5.1875 -7.703125 5.65625 -7.046875 C 6.132812 -6.398438 6.375 -5.425781 6.375 -4.125 Z M 5.21875 -5.046875 C 5.21875 -5.335938 5.179688 -5.609375 5.109375 -5.859375 C 5.035156 -6.117188 4.925781 -6.34375 4.78125 -6.53125 C 4.644531 -6.726562 4.472656 -6.882812 4.265625 -7 C 4.054688 -7.113281 3.816406 -7.171875 3.546875 -7.171875 C 3.285156 -7.171875 3.050781 -7.125 2.84375 -7.03125 C 2.644531 -6.945312 2.472656 -6.820312 2.328125 -6.65625 C 2.191406 -6.5 2.085938 -6.304688 2.015625 -6.078125 C 1.941406 -5.859375 1.90625 -5.613281 1.90625 -5.34375 C 1.90625 -5.082031 1.9375 -4.835938 2 -4.609375 C 2.070312 -4.390625 2.175781 -4.191406 2.3125 -4.015625 C 2.445312 -3.847656 2.613281 -3.710938 2.8125 -3.609375 C 3.019531 -3.515625 3.257812 -3.46875 3.53125 -3.46875 C 3.726562 -3.46875 3.925781 -3.5 4.125 -3.5625 C 4.320312 -3.632812 4.5 -3.734375 4.65625 -3.859375 C 4.820312 -3.992188 4.957031 -4.160156 5.0625 -4.359375 C 5.164062 -4.554688 5.21875 -4.785156 5.21875 -5.046875 Z M 5.21875 -5.046875 \"/>\n",
       "</symbol>\n",
       "<symbol overflow=\"visible\" id=\"glyph1-7\">\n",
       "<path style=\"stroke:none;\" d=\"M 6.4375 -2.171875 C 6.4375 -1.816406 6.375 -1.492188 6.25 -1.203125 C 6.132812 -0.921875 5.957031 -0.679688 5.71875 -0.484375 C 5.476562 -0.296875 5.179688 -0.144531 4.828125 -0.03125 C 4.484375 0.0703125 4.085938 0.125 3.640625 0.125 C 3.128906 0.125 2.695312 0.0625 2.34375 -0.0625 C 2 -0.195312 1.710938 -0.367188 1.484375 -0.578125 C 1.253906 -0.785156 1.082031 -1.019531 0.96875 -1.28125 C 0.851562 -1.550781 0.78125 -1.832031 0.75 -2.125 L 1.84375 -2.21875 C 1.875 -2 1.929688 -1.800781 2.015625 -1.625 C 2.097656 -1.445312 2.210938 -1.289062 2.359375 -1.15625 C 2.503906 -1.03125 2.679688 -0.929688 2.890625 -0.859375 C 3.109375 -0.785156 3.359375 -0.75 3.640625 -0.75 C 4.171875 -0.75 4.585938 -0.875 4.890625 -1.125 C 5.191406 -1.375 5.34375 -1.734375 5.34375 -2.203125 C 5.34375 -2.472656 5.273438 -2.691406 5.140625 -2.859375 C 5.003906 -3.035156 4.835938 -3.175781 4.640625 -3.28125 C 4.441406 -3.382812 4.222656 -3.457031 3.984375 -3.5 C 3.742188 -3.539062 3.523438 -3.5625 3.328125 -3.5625 L 2.734375 -3.5625 L 2.734375 -4.484375 L 3.3125 -4.484375 C 3.507812 -4.484375 3.710938 -4.503906 3.921875 -4.546875 C 4.140625 -4.597656 4.335938 -4.675781 4.515625 -4.78125 C 4.691406 -4.894531 4.835938 -5.035156 4.953125 -5.203125 C 5.066406 -5.378906 5.125 -5.59375 5.125 -5.84375 C 5.125 -6.257812 4.992188 -6.582031 4.734375 -6.8125 C 4.472656 -7.039062 4.085938 -7.15625 3.578125 -7.15625 C 3.117188 -7.15625 2.742188 -7.035156 2.453125 -6.796875 C 2.160156 -6.566406 1.992188 -6.234375 1.953125 -5.796875 L 0.890625 -5.875 C 0.929688 -6.238281 1.03125 -6.554688 1.1875 -6.828125 C 1.34375 -7.097656 1.539062 -7.320312 1.78125 -7.5 C 2.019531 -7.675781 2.296875 -7.804688 2.609375 -7.890625 C 2.921875 -7.984375 3.25 -8.03125 3.59375 -8.03125 C 4.0625 -8.03125 4.457031 -7.972656 4.78125 -7.859375 C 5.113281 -7.753906 5.382812 -7.609375 5.59375 -7.421875 C 5.800781 -7.234375 5.957031 -7.007812 6.0625 -6.75 C 6.164062 -6.5 6.21875 -6.234375 6.21875 -5.953125 C 6.21875 -5.734375 6.179688 -5.523438 6.109375 -5.328125 C 6.035156 -5.128906 5.925781 -4.945312 5.78125 -4.78125 C 5.632812 -4.613281 5.453125 -4.46875 5.234375 -4.34375 C 5.023438 -4.21875 4.773438 -4.125 4.484375 -4.0625 L 4.484375 -4.03125 C 4.804688 -4 5.085938 -3.925781 5.328125 -3.8125 C 5.578125 -3.695312 5.78125 -3.550781 5.9375 -3.375 C 6.101562 -3.207031 6.226562 -3.019531 6.3125 -2.8125 C 6.394531 -2.601562 6.4375 -2.390625 6.4375 -2.171875 Z M 6.4375 -2.171875 \"/>\n",
       "</symbol>\n",
       "<symbol overflow=\"visible\" id=\"glyph1-8\">\n",
       "<path style=\"stroke:none;\" d=\"M 0.921875 0 L 0.921875 -0.84375 L 3.5 -0.84375 L 3.5 -6.828125 C 3.414062 -6.671875 3.28125 -6.523438 3.09375 -6.390625 C 2.90625 -6.253906 2.691406 -6.132812 2.453125 -6.03125 C 2.210938 -5.925781 1.953125 -5.84375 1.671875 -5.78125 C 1.390625 -5.726562 1.125 -5.703125 0.875 -5.703125 L 0.875 -6.5625 C 1.15625 -6.5625 1.4375 -6.59375 1.71875 -6.65625 C 2 -6.726562 2.257812 -6.820312 2.5 -6.9375 C 2.738281 -7.0625 2.953125 -7.203125 3.140625 -7.359375 C 3.328125 -7.523438 3.472656 -7.707031 3.578125 -7.90625 L 4.546875 -7.90625 L 4.546875 -0.84375 L 6.625 -0.84375 L 6.625 0 Z M 0.921875 0 \"/>\n",
       "</symbol>\n",
       "<symbol overflow=\"visible\" id=\"glyph1-9\">\n",
       "<path style=\"stroke:none;\" d=\"M 5.484375 -1.875 L 5.484375 0 L 4.4375 0 L 4.4375 -1.875 L 0.609375 -1.875 L 0.609375 -2.6875 L 4.328125 -7.90625 L 5.484375 -7.90625 L 5.484375 -2.703125 L 6.59375 -2.703125 L 6.59375 -1.875 Z M 4.4375 -6.765625 L 1.5 -2.703125 L 4.4375 -2.703125 Z M 4.4375 -6.765625 \"/>\n",
       "</symbol>\n",
       "</g>\n",
       "</defs>\n",
       "<g id=\"surface62\">\n",
       "<rect x=\"0\" y=\"0\" width=\"600\" height=\"600\" style=\"fill:rgb(100%,100%,100%);fill-opacity:1;stroke:none;\"/>\n",
       "<path style=\"fill:none;stroke-width:1;stroke-linecap:butt;stroke-linejoin:miter;stroke:rgb(0%,0%,0%);stroke-opacity:1;stroke-miterlimit:10;\" d=\"M 50 300 L 200.433594 74.351562 \"/>\n",
       "<path style=\" stroke:none;fill-rule:nonzero;fill:rgb(0%,0%,0%);fill-opacity:1;\" d=\"M 208.347656 62.480469 L 204.289062 76.921875 L 196.574219 71.78125 L 208.347656 62.480469 \"/>\n",
       "<path style=\"fill:none;stroke-width:1;stroke-linecap:butt;stroke-linejoin:miter;stroke:rgb(0%,0%,0%);stroke-opacity:1;stroke-miterlimit:10;\" d=\"M 50 300 L 359.921875 532.441406 \"/>\n",
       "<path style=\" stroke:none;fill-rule:nonzero;fill:rgb(0%,0%,0%);fill-opacity:1;\" d=\"M 371.332031 541 L 357.140625 536.148438 L 362.703125 528.730469 L 371.332031 541 \"/>\n",
       "<path style=\"fill:none;stroke-width:1;stroke-linecap:butt;stroke-linejoin:miter;stroke:rgb(0%,0%,0%);stroke-opacity:1;stroke-miterlimit:10;\" d=\"M 216.667969 50 L 354.066406 50 \"/>\n",
       "<path style=\" stroke:none;fill-rule:nonzero;fill:rgb(0%,0%,0%);fill-opacity:1;\" d=\"M 368.332031 50 L 354.066406 54.636719 L 354.066406 45.363281 L 368.332031 50 \"/>\n",
       "<path style=\"fill:none;stroke-width:1;stroke-linecap:butt;stroke-linejoin:miter;stroke:rgb(100%,0%,0%);stroke-opacity:1;stroke-miterlimit:10;\" d=\"M 216.667969 50 L 526.585938 282.441406 \"/>\n",
       "<path style=\" stroke:none;fill-rule:nonzero;fill:rgb(100%,0%,0%);fill-opacity:1;\" d=\"M 538 291 L 523.804688 286.148438 L 529.367188 278.730469 L 538 291 \"/>\n",
       "<path style=\"fill:none;stroke-width:1;stroke-linecap:butt;stroke-linejoin:miter;stroke:rgb(0%,0%,0%);stroke-opacity:1;stroke-miterlimit:10;\" d=\"M 383.332031 50 L 73.414062 282.441406 \"/>\n",
       "<path style=\" stroke:none;fill-rule:nonzero;fill:rgb(0%,0%,0%);fill-opacity:1;\" d=\"M 62 291 L 70.632812 278.730469 L 76.195312 286.148438 L 62 291 \"/>\n",
       "<path style=\"fill:none;stroke-width:1;stroke-linecap:butt;stroke-linejoin:miter;stroke:rgb(0%,0%,0%);stroke-opacity:1;stroke-miterlimit:10;\" d=\"M 383.332031 50 L 533.765625 275.648438 \"/>\n",
       "<path style=\" stroke:none;fill-rule:nonzero;fill:rgb(0%,0%,0%);fill-opacity:1;\" d=\"M 541.679688 287.519531 L 529.910156 278.21875 L 537.621094 273.078125 L 541.679688 287.519531 \"/>\n",
       "<path style=\"fill:none;stroke-width:1;stroke-linecap:butt;stroke-linejoin:miter;stroke:rgb(0%,0%,0%);stroke-opacity:1;stroke-miterlimit:10;\" d=\"M 383.332031 550 L 533.765625 324.351562 \"/>\n",
       "<path style=\" stroke:none;fill-rule:nonzero;fill:rgb(0%,0%,0%);fill-opacity:1;\" d=\"M 541.679688 312.480469 L 537.621094 326.921875 L 529.910156 321.78125 L 541.679688 312.480469 \"/>\n",
       "<path style=\"fill:none;stroke-width:1;stroke-linecap:butt;stroke-linejoin:miter;stroke:rgb(0%,0%,0%);stroke-opacity:1;stroke-miterlimit:10;\" d=\"M 550 300 L 79.265625 300 \"/>\n",
       "<path style=\" stroke:none;fill-rule:nonzero;fill:rgb(0%,0%,0%);fill-opacity:1;\" d=\"M 65 300 L 79.265625 295.363281 L 79.265625 304.636719 L 65 300 \"/>\n",
       "<path style=\"fill-rule:nonzero;fill:rgb(61.960784%,0.392157%,25.882353%);fill-opacity:1;stroke-width:1;stroke-linecap:butt;stroke-linejoin:miter;stroke:rgb(0%,0%,0%);stroke-opacity:1;stroke-miterlimit:10;\" d=\"M 65 300 C 65 308.285156 58.285156 315 50 315 C 41.714844 315 35 308.285156 35 300 C 35 291.714844 41.714844 285 50 285 C 58.285156 285 65 291.714844 65 300 \"/>\n",
       "<path style=\"fill-rule:nonzero;fill:rgb(99.346405%,74.771242%,43.529412%);fill-opacity:1;stroke-width:1;stroke-linecap:butt;stroke-linejoin:miter;stroke:rgb(0%,0%,0%);stroke-opacity:1;stroke-miterlimit:10;\" d=\"M 231.667969 50 C 231.667969 58.285156 224.949219 65 216.667969 65 C 208.382812 65 201.667969 58.285156 201.667969 50 C 201.667969 41.714844 208.382812 35 216.667969 35 C 224.949219 35 231.667969 41.714844 231.667969 50 \"/>\n",
       "<path style=\"fill-rule:nonzero;fill:rgb(74.771242%,89.803922%,62.745098%);fill-opacity:1;stroke-width:1;stroke-linecap:butt;stroke-linejoin:miter;stroke:rgb(0%,0%,0%);stroke-opacity:1;stroke-miterlimit:10;\" d=\"M 398.332031 50 C 398.332031 58.285156 391.617188 65 383.332031 65 C 375.050781 65 368.332031 58.285156 368.332031 50 C 368.332031 41.714844 375.050781 35 383.332031 35 C 391.617188 35 398.332031 41.714844 398.332031 50 \"/>\n",
       "<path style=\"fill-rule:nonzero;fill:rgb(74.771242%,89.803922%,62.745098%);fill-opacity:1;stroke-width:1;stroke-linecap:butt;stroke-linejoin:miter;stroke:rgb(0%,0%,0%);stroke-opacity:1;stroke-miterlimit:10;\" d=\"M 398.332031 550 C 398.332031 558.285156 391.617188 565 383.332031 565 C 375.050781 565 368.332031 558.285156 368.332031 550 C 368.332031 541.714844 375.050781 535 383.332031 535 C 391.617188 535 398.332031 541.714844 398.332031 550 \"/>\n",
       "<path style=\"fill-rule:nonzero;fill:rgb(36.862745%,30.980392%,63.529412%);fill-opacity:1;stroke-width:1;stroke-linecap:butt;stroke-linejoin:miter;stroke:rgb(0%,0%,0%);stroke-opacity:1;stroke-miterlimit:10;\" d=\"M 565 300 C 565 308.285156 558.285156 315 550 315 C 541.714844 315 535 308.285156 535 300 C 535 291.714844 541.714844 285 550 285 C 558.285156 285 565 291.714844 565 300 \"/>\n",
       "<g style=\"fill:rgb(0%,0%,0%);fill-opacity:1;\">\n",
       "  <use xlink:href=\"#glyph0-1\" x=\"41.59375\" y=\"306.785156\"/>\n",
       "  <use xlink:href=\"#glyph0-2\" x=\"49.995117\" y=\"306.785156\"/>\n",
       "</g>\n",
       "<g style=\"fill:rgb(0%,0%,0%);fill-opacity:1;\">\n",
       "  <use xlink:href=\"#glyph0-3\" x=\"204.019531\" y=\"56.785156\"/>\n",
       "  <use xlink:href=\"#glyph0-2\" x=\"212.420898\" y=\"56.785156\"/>\n",
       "  <use xlink:href=\"#glyph0-4\" x=\"220.822266\" y=\"56.785156\"/>\n",
       "</g>\n",
       "<g style=\"fill:rgb(0%,0%,0%);fill-opacity:1;\">\n",
       "  <use xlink:href=\"#glyph0-3\" x=\"370.6875\" y=\"56.785156\"/>\n",
       "  <use xlink:href=\"#glyph0-5\" x=\"379.088867\" y=\"56.785156\"/>\n",
       "  <use xlink:href=\"#glyph0-4\" x=\"387.490234\" y=\"56.785156\"/>\n",
       "</g>\n",
       "<g style=\"fill:rgb(0%,0%,0%);fill-opacity:1;\">\n",
       "  <use xlink:href=\"#glyph0-3\" x=\"370.667969\" y=\"556.785156\"/>\n",
       "  <use xlink:href=\"#glyph0-4\" x=\"379.069336\" y=\"556.785156\"/>\n",
       "  <use xlink:href=\"#glyph0-1\" x=\"387.470703\" y=\"556.785156\"/>\n",
       "</g>\n",
       "<g style=\"fill:rgb(0%,0%,0%);fill-opacity:1;\">\n",
       "  <use xlink:href=\"#glyph0-6\" x=\"537.359375\" y=\"306.785156\"/>\n",
       "  <use xlink:href=\"#glyph0-4\" x=\"545.760742\" y=\"306.785156\"/>\n",
       "  <use xlink:href=\"#glyph0-7\" x=\"554.162109\" y=\"306.785156\"/>\n",
       "</g>\n",
       "<g style=\"fill:rgb(0%,0%,0%);fill-opacity:1;\">\n",
       "  <use xlink:href=\"#glyph1-1\" x=\"90.957031\" y=\"180.816406\"/>\n",
       "  <use xlink:href=\"#glyph1-2\" x=\"98.158203\" y=\"180.816406\"/>\n",
       "  <use xlink:href=\"#glyph1-3\" x=\"105.359375\" y=\"180.816406\"/>\n",
       "  <use xlink:href=\"#glyph1-4\" x=\"112.560547\" y=\"180.816406\"/>\n",
       "  <use xlink:href=\"#glyph1-5\" x=\"119.761719\" y=\"180.816406\"/>\n",
       "  <use xlink:href=\"#glyph1-6\" x=\"126.962891\" y=\"180.816406\"/>\n",
       "</g>\n",
       "<g style=\"fill:rgb(0%,0%,0%);fill-opacity:1;\">\n",
       "  <use xlink:href=\"#glyph1-1\" x=\"215.617188\" y=\"419.023438\"/>\n",
       "  <use xlink:href=\"#glyph1-2\" x=\"222.818359\" y=\"419.023438\"/>\n",
       "  <use xlink:href=\"#glyph1-3\" x=\"230.019531\" y=\"419.023438\"/>\n",
       "  <use xlink:href=\"#glyph1-4\" x=\"237.220703\" y=\"419.023438\"/>\n",
       "  <use xlink:href=\"#glyph1-7\" x=\"244.421875\" y=\"419.023438\"/>\n",
       "  <use xlink:href=\"#glyph1-8\" x=\"251.623047\" y=\"419.023438\"/>\n",
       "</g>\n",
       "<g style=\"fill:rgb(0%,0%,0%);fill-opacity:1;\">\n",
       "  <use xlink:href=\"#glyph1-1\" x=\"257.625\" y=\"44.023438\"/>\n",
       "  <use xlink:href=\"#glyph1-2\" x=\"264.826172\" y=\"44.023438\"/>\n",
       "  <use xlink:href=\"#glyph1-3\" x=\"272.027344\" y=\"44.023438\"/>\n",
       "  <use xlink:href=\"#glyph1-4\" x=\"279.228516\" y=\"44.023438\"/>\n",
       "  <use xlink:href=\"#glyph1-6\" x=\"286.429688\" y=\"44.023438\"/>\n",
       "  <use xlink:href=\"#glyph1-6\" x=\"293.630859\" y=\"44.023438\"/>\n",
       "</g>\n",
       "<g style=\"fill:rgb(0%,0%,0%);fill-opacity:1;\">\n",
       "  <use xlink:href=\"#glyph1-1\" x=\"382.285156\" y=\"169.023438\"/>\n",
       "  <use xlink:href=\"#glyph1-2\" x=\"389.486328\" y=\"169.023438\"/>\n",
       "  <use xlink:href=\"#glyph1-3\" x=\"396.6875\" y=\"169.023438\"/>\n",
       "  <use xlink:href=\"#glyph1-4\" x=\"403.888672\" y=\"169.023438\"/>\n",
       "  <use xlink:href=\"#glyph1-3\" x=\"411.089844\" y=\"169.023438\"/>\n",
       "  <use xlink:href=\"#glyph1-8\" x=\"418.291016\" y=\"169.023438\"/>\n",
       "</g>\n",
       "<g style=\"fill:rgb(0%,0%,0%);fill-opacity:1;\">\n",
       "  <use xlink:href=\"#glyph1-1\" x=\"215.617188\" y=\"188.59375\"/>\n",
       "  <use xlink:href=\"#glyph1-2\" x=\"222.818359\" y=\"188.59375\"/>\n",
       "  <use xlink:href=\"#glyph1-3\" x=\"230.019531\" y=\"188.59375\"/>\n",
       "  <use xlink:href=\"#glyph1-4\" x=\"237.220703\" y=\"188.59375\"/>\n",
       "  <use xlink:href=\"#glyph1-5\" x=\"244.421875\" y=\"188.59375\"/>\n",
       "  <use xlink:href=\"#glyph1-3\" x=\"251.623047\" y=\"188.59375\"/>\n",
       "</g>\n",
       "<g style=\"fill:rgb(0%,0%,0%);fill-opacity:1;\">\n",
       "  <use xlink:href=\"#glyph1-1\" x=\"465.617188\" y=\"180.816406\"/>\n",
       "  <use xlink:href=\"#glyph1-2\" x=\"472.818359\" y=\"180.816406\"/>\n",
       "  <use xlink:href=\"#glyph1-3\" x=\"480.019531\" y=\"180.816406\"/>\n",
       "  <use xlink:href=\"#glyph1-4\" x=\"487.220703\" y=\"180.816406\"/>\n",
       "  <use xlink:href=\"#glyph1-9\" x=\"494.421875\" y=\"180.816406\"/>\n",
       "  <use xlink:href=\"#glyph1-3\" x=\"501.623047\" y=\"180.816406\"/>\n",
       "</g>\n",
       "<g style=\"fill:rgb(0%,0%,0%);fill-opacity:1;\">\n",
       "  <use xlink:href=\"#glyph1-1\" x=\"424.199219\" y=\"430.816406\"/>\n",
       "  <use xlink:href=\"#glyph1-2\" x=\"431.400391\" y=\"430.816406\"/>\n",
       "  <use xlink:href=\"#glyph1-8\" x=\"438.601562\" y=\"430.816406\"/>\n",
       "  <use xlink:href=\"#glyph1-4\" x=\"445.802734\" y=\"430.816406\"/>\n",
       "  <use xlink:href=\"#glyph1-3\" x=\"453.003906\" y=\"430.816406\"/>\n",
       "  <use xlink:href=\"#glyph1-3\" x=\"460.205078\" y=\"430.816406\"/>\n",
       "</g>\n",
       "<g style=\"fill:rgb(0%,0%,0%);fill-opacity:1;\">\n",
       "  <use xlink:href=\"#glyph1-1\" x=\"298.953125\" y=\"313.59375\"/>\n",
       "  <use xlink:href=\"#glyph1-2\" x=\"306.154297\" y=\"313.59375\"/>\n",
       "  <use xlink:href=\"#glyph1-8\" x=\"313.355469\" y=\"313.59375\"/>\n",
       "  <use xlink:href=\"#glyph1-4\" x=\"320.556641\" y=\"313.59375\"/>\n",
       "  <use xlink:href=\"#glyph1-3\" x=\"327.757812\" y=\"313.59375\"/>\n",
       "  <use xlink:href=\"#glyph1-3\" x=\"334.958984\" y=\"313.59375\"/>\n",
       "</g>\n",
       "</g>\n",
       "</svg>\n"
      ],
      "text/plain": [
       "<igraph.drawing.Plot at 0x7c048e650c70>"
      ]
     },
     "execution_count": 17,
     "metadata": {
      "image/svg+xml": {
       "isolated": true
      }
     },
     "output_type": "execute_result"
    }
   ],
   "source": [
    "output_file = \"figures/CSCG_for_counterfactual_causal_basic.png\"\n",
    "plot_result, states = plot_graph_blocked(chmm, x, a, output_file, T_restricted_blocked, marked_transition=(1, 4))\n",
    "plot_result.save(output_file)\n",
    "plot_result\n",
    "\n",
    "\n"
   ]
  },
  {
   "cell_type": "code",
   "execution_count": 189,
   "metadata": {},
   "outputs": [],
   "source": [
    "states = chmm.decode(x, a)[1]\n",
    "v = np.unique(states)\n",
    "T = chmm.C[:, v][:, :, v][:-1, 1:, 1:]\n",
    "v = v[1:]"
   ]
  },
  {
   "cell_type": "code",
   "execution_count": 192,
   "metadata": {},
   "outputs": [
    {
     "data": {
      "text/plain": [
       "array([ 51,  90, 195, 228])"
      ]
     },
     "execution_count": 192,
     "metadata": {},
     "output_type": "execute_result"
    }
   ],
   "source": [
    "states = chmm.decode(x, a)[1]\n",
    "v = np.unique(states)\n",
    "v"
   ]
  },
  {
   "cell_type": "code",
   "execution_count": 17,
   "metadata": {},
   "outputs": [
    {
     "data": {
      "text/plain": [
       "(array([ 51, 168,  51,  90, 173,  51, 168,  51, 168, 263,  51, 168, 263,\n",
       "         51,  90, 173,  51, 168, 263,  51]),\n",
       " array([0, 2, 0, 1, 2, 0, 2, 0, 2, 3, 0, 2, 3, 0, 1, 2, 0, 2, 3, 0]))"
      ]
     },
     "execution_count": 17,
     "metadata": {},
     "output_type": "execute_result"
    }
   ],
   "source": [
    "states[:20], x[:20]"
   ]
  },
  {
   "cell_type": "code",
   "execution_count": 190,
   "metadata": {},
   "outputs": [
    {
     "data": {
      "text/plain": [
       "(317, 265)"
      ]
     },
     "execution_count": 190,
     "metadata": {},
     "output_type": "execute_result"
    }
   ],
   "source": [
    "# Find indices where x has 0 followed by 1\n",
    "T_from_L_idxs = [i for i in range(len(x) - 1) if x[i] == 2 and x[i -1] == 1]\n",
    "T_from_S_idxs = [i for i in range(len(x) - 1) if x[i] == 2 and x[i -1] == 0]\n",
    "\n",
    "len(T_from_L_idxs), len(T_from_S_idxs)"
   ]
  },
  {
   "cell_type": "code",
   "execution_count": 191,
   "metadata": {},
   "outputs": [
    {
     "data": {
      "text/plain": [
       "(317, 0, 265, 0)"
      ]
     },
     "execution_count": 191,
     "metadata": {},
     "output_type": "execute_result"
    }
   ],
   "source": [
    "np.sum(states[T_from_L_idxs]==195), np.sum(states[T_from_L_idxs]==228),  np.sum(states[T_from_S_idxs]==195), np.sum(states[T_from_S_idxs]==168), "
   ]
  },
  {
   "cell_type": "code",
   "execution_count": 70,
   "metadata": {},
   "outputs": [
    {
     "data": {
      "text/plain": [
       "(209, 385)"
      ]
     },
     "execution_count": 70,
     "metadata": {},
     "output_type": "execute_result"
    }
   ],
   "source": [
    "len([i for i, val in enumerate(states) if val == 181]), len([i for i, val in enumerate(states) if val == 168])"
   ]
  }
 ],
 "metadata": {
  "colab": {
   "provenance": []
  },
  "kernelspec": {
   "display_name": "base",
   "language": "python",
   "name": "python3"
  },
  "language_info": {
   "codemirror_mode": {
    "name": "ipython",
    "version": 3
   },
   "file_extension": ".py",
   "mimetype": "text/x-python",
   "name": "python",
   "nbconvert_exporter": "python",
   "pygments_lexer": "ipython3",
   "version": "3.9.15"
  }
 },
 "nbformat": 4,
 "nbformat_minor": 0
}
