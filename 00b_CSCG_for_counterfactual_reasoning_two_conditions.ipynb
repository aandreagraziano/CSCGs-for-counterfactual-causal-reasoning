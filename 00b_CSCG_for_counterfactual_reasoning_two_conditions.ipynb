{
 "cells": [
  {
   "cell_type": "markdown",
   "metadata": {
    "id": "z99pRkEeTsNP"
   },
   "source": [
    "# CSCG for counterfactual causal reasoning through episodic memories\n",
    "With two conditions, one that is causally related to coming to late to the airport, and one  that is not."
   ]
  },
  {
   "cell_type": "code",
   "execution_count": null,
   "metadata": {},
   "outputs": [],
   "source": []
  },
  {
   "cell_type": "markdown",
   "metadata": {
    "id": "Exbo7ndcPSl2"
   },
   "source": [
    "**Clone the repo from github, Install the necessary libraries**"
   ]
  },
  {
   "cell_type": "code",
   "execution_count": 1,
   "metadata": {
    "colab": {
     "base_uri": "https://localhost:8080/"
    },
    "id": "7jnInNH7RUAX",
    "outputId": "9b6eae93-2db3-408a-daa2-c373e1fe9139"
   },
   "outputs": [
    {
     "name": "stdout",
     "output_type": "stream",
     "text": [
      "Requirement already satisfied: cairocffi in /Library/Frameworks/Python.framework/Versions/3.11/lib/python3.11/site-packages (1.7.1)\n",
      "Requirement already satisfied: cffi>=1.1.0 in /Library/Frameworks/Python.framework/Versions/3.11/lib/python3.11/site-packages (from cairocffi) (1.17.1)\n",
      "Requirement already satisfied: pycparser in /Library/Frameworks/Python.framework/Versions/3.11/lib/python3.11/site-packages (from cffi>=1.1.0->cairocffi) (2.22)\n",
      "Requirement already satisfied: python-igraph in /Library/Frameworks/Python.framework/Versions/3.11/lib/python3.11/site-packages (0.11.8)\n",
      "Requirement already satisfied: igraph==0.11.8 in /Library/Frameworks/Python.framework/Versions/3.11/lib/python3.11/site-packages (from python-igraph) (0.11.8)\n",
      "Requirement already satisfied: texttable>=1.6.2 in /Library/Frameworks/Python.framework/Versions/3.11/lib/python3.11/site-packages (from igraph==0.11.8->python-igraph) (1.7.0)\n"
     ]
    }
   ],
   "source": [
    "import sys, os\n",
    "if not os.path.exists('naturecomm_cscg'):\n",
    "  print(\"Cloning naturecomm_cscg repo from github.com/vicariousinc\")\n",
    "  os.system(\"git clone http://github.com/vicariousinc/naturecomm_cscg\")\n",
    "\n",
    "!pip install cairocffi\n",
    "!pip install python-igraph"
   ]
  },
  {
   "cell_type": "markdown",
   "metadata": {
    "id": "AxUwqkMtUecB"
   },
   "source": [
    "***Import the needed python modules***"
   ]
  },
  {
   "cell_type": "code",
   "execution_count": 101,
   "metadata": {
    "id": "LrXWNnRYSHrD"
   },
   "outputs": [],
   "source": [
    "sys.path.append('naturecomm_cscg')\n",
    "import numpy as np\n",
    "from chmm_actions import CHMM, forwardE, datagen_structured_obs_room, forwardE_mp, backtraceE, backtrace, forward_mp, rargmax, forwardE, backtraceE\n",
    "import matplotlib.pyplot as plt\n",
    "import igraph\n",
    "from matplotlib import cm, colors\n",
    "import os\n",
    "from matplotlib.lines import Line2D\n",
    "from matplotlib.patches import Patch\n",
    "import tools\n",
    "\n",
    "custom_colors = (\n",
    "    np.array(\n",
    "        [\n",
    "            [214, 214, 214],\n",
    "            [85, 35, 157],\n",
    "            [253, 252, 144],\n",
    "            [114, 245, 144],\n",
    "        ]\n",
    "    )\n",
    "    / 256\n",
    ")\n",
    "if not os.path.exists(\"figures\"):\n",
    "    os.makedirs(\"figures\")\n",
    "\n",
    "np.random.seed(52)\n",
    "\n",
    "transition_matrix = np.array([   # lines transitions from columns transitions to...\n",
    "    [0.0, 0.5, 0.0, 0.5, 0.0, 0.0],   # 0, Station to Lunch, Toilet or Train1\n",
    "    [0.0, 0.0, 0.5, 0.1, 0.0, 0.4],   # 1, Lunch to Train1 or Train2\n",
    "    [0.0, 0.0, 0.0, 0.1, 0.0, 0.9],   # 2, Toilet to Train1 or Train2\n",
    "    [0.1, 0.0, 0.0, 0.0, 0.9, 0.0],   # 3, Train1 to Station or Airport\n",
    "    [1.0, 0.0, 0.0, 0.0, 0.0, 0.0],   # 4, Aiport to Station\n",
    "    [0.9, 0.0, 0.0, 0.0, 0.1, 0.0],   # 5, Train2 to Station or Airport\n",
    "])\n",
    "\n",
    "seq_length = 10000\n",
    "seq_state_t0 = 0\n",
    "pseudocount = 1e-4\n",
    "\n",
    "n_clones = np.array(\n",
    "    [1, 1, 1, 2, 1], # define number of clones per state\n",
    "    dtype = np.int64)\n",
    "\n",
    "n_iter = 500"
   ]
  },
  {
   "cell_type": "markdown",
   "metadata": {},
   "source": [
    "#### Generate sequence"
   ]
  },
  {
   "cell_type": "code",
   "execution_count": 102,
   "metadata": {},
   "outputs": [],
   "source": [
    "seq = tools.generate_markov_seq(transition_matrix, seq_state_t0, seq_length)\n",
    "\n",
    "# We want the algorithm to figure out the different train contexts by itself, thus we give them the same identity.\n",
    "seq[seq == 5] = 3\n",
    "\n",
    "# we create dummy action\n",
    "a = np.zeros(seq_length, dtype=np.int64)"
   ]
  },
  {
   "cell_type": "markdown",
   "metadata": {},
   "source": [
    "#### Train CSCG"
   ]
  },
  {
   "cell_type": "code",
   "execution_count": 103,
   "metadata": {
    "colab": {
     "base_uri": "https://localhost:8080/"
    },
    "id": "LVh1HsDPXiGb",
    "outputId": "1b038921-2f15-414a-d933-dc8a2c6b8b72"
   },
   "outputs": [
    {
     "name": "stdout",
     "output_type": "stream",
     "text": [
      "Average number of clones: 1.2\n"
     ]
    },
    {
     "name": "stderr",
     "output_type": "stream",
     "text": [
      "  2%|▏         | 12/500 [00:00<00:03, 133.45it/s, train_bps=0.63]\n"
     ]
    }
   ],
   "source": [
    "# Generate data and train a CSCG.\n",
    "chmm = CHMM(\n",
    "    n_clones=n_clones,\n",
    "    pseudocount=pseudocount,\n",
    "    x=seq, a=a,\n",
    "    seed=44)\n",
    "\n",
    "progression = chmm.learn_em_T(seq, a, n_iter=n_iter)\n",
    "\n"
   ]
  },
  {
   "cell_type": "markdown",
   "metadata": {},
   "source": [
    "#### Apply Viterbi pruning"
   ]
  },
  {
   "cell_type": "code",
   "execution_count": 104,
   "metadata": {},
   "outputs": [
    {
     "name": "stderr",
     "output_type": "stream",
     "text": [
      "  2%|▏         | 2/100 [00:00<00:04, 22.44it/s, train_bps=0.634]\n"
     ]
    },
    {
     "data": {
      "text/plain": [
       "[np.float32(0.64147085), np.float32(0.6337149), np.float32(0.6337149)]"
      ]
     },
     "execution_count": 104,
     "metadata": {},
     "output_type": "execute_result"
    }
   ],
   "source": [
    "chmm.learn_viterbi_T(seq, a, n_iter=100)"
   ]
  },
  {
   "cell_type": "code",
   "execution_count": 105,
   "metadata": {},
   "outputs": [
    {
     "data": {
      "text/plain": [
       "(array([0, 3, 0, 1, 3, 0, 3, 0, 3, 4, 0, 3, 4, 0, 1, 3, 0, 3, 4, 0]), (6, 6))"
      ]
     },
     "execution_count": 105,
     "metadata": {},
     "output_type": "execute_result"
    }
   ],
   "source": [
    "seq[:20], np.shape(chmm.T[0])"
   ]
  },
  {
   "cell_type": "code",
   "execution_count": 106,
   "metadata": {},
   "outputs": [
    {
     "data": {
      "image/png": "[encoded data removed]",
      "text/plain": [
       "<Figure size 640x480 with 1 Axes>"
      ]
     },
     "metadata": {},
     "output_type": "display_data"
    }
   ],
   "source": [
    "pos = [\n",
    "    [0, 0.,],\n",
    "    [1, .01,],\n",
    "    [2, -.025,],\n",
    "    [3, -.1],\n",
    "    [3, .1],\n",
    "    [4, 0.,],\n",
    "]\n",
    "\n",
    "\n",
    "kwargs_nxdraw = {\n",
    "    'node_size': 300,\n",
    "    'font_size': 8,\n",
    "    'arrows': True,\n",
    "#    'connectionstyle': 'arc,rad=0.4'\n",
    "}\n",
    "\n",
    "kwargs_fig = {\n",
    "    'figsize': [4, 4],\n",
    "}\n",
    "\n",
    "kwargs_nxdrawedgelabel = {\n",
    "    'font_size': 8,\n",
    "    'label_pos': 0.7,  # Position along edge (0=start, 1=end)\n",
    "    'bbox': dict(alpha=0.8, facecolor=\"white\", edgecolor=\"none\"),\n",
    "    'rotate': False,\n",
    "    'font_color': \"#333333\",\n",
    "}\n",
    "\n",
    "fig, ax = tools.plot_graph(\n",
    "    chmm, seq, a, output_file=\"figures/test.pdf\",\n",
    "    pos=pos,\n",
    "    label_nodes=False,\n",
    "    kwargs_fig=kwargs_fig,\n",
    "    kwargs_nxdraw=kwargs_nxdraw,\n",
    "    kwargs_nxdrawedgelabel=kwargs_nxdrawedgelabel,\n",
    ")\n"
   ]
  },
  {
   "cell_type": "code",
   "execution_count": null,
   "metadata": {},
   "outputs": [],
   "source": [
    "#note have another scenario that does not fulfil the criteria"
   ]
  },
  {
   "cell_type": "code",
   "execution_count": 108,
   "metadata": {},
   "outputs": [
    {
     "name": "stdout",
     "output_type": "stream",
     "text": [
      "P(Missing the plane | Went to lunch | Went to toilet) = 0.82860833\n",
      "P(Catching the plane | Went to lunch | Went to toilet) = 0.1713907\n",
      "P(Missing the plane | Went to lunch | Did not go to toilet) = 0.77328396\n",
      "P(Catching the plane | Went to lunch | Did not go to toilet) = 0.226716\n",
      "P(Missing the plane | Did not go to lunch | Did not go to toilet) = 0.07520447\n",
      "P(Catching the plane | Did not go to lunch | Did not go to toilet) = 0.9247955\n"
     ]
    }
   ],
   "source": [
    "events = {\n",
    "    \"start\": 0, \n",
    "    \"toilet\": 1, \n",
    "    \"lunch\": 2, \n",
    "    \"train_ontime\": 3,\n",
    "    \"train_late\": 4, \n",
    "    \"airport\": 5\n",
    "}\n",
    "\n",
    "\n",
    "# e means miss the plane\n",
    "# c means going to lunch\n",
    "# t means going to the toilet\n",
    "\n",
    "# validate theorem i)\n",
    "e_given_c_t =  (chmm.T[0, 2, 3] * chmm.T[0, 3, 0] + \n",
    "     chmm.T[0, 2, 4] * chmm.T[0, 4, 0])\n",
    "\n",
    "not_e_given_c_t = (chmm.T[0, 2, 3] * chmm.T[0, 3, 5] + \n",
    "     chmm.T[0, 2, 4] * chmm.T[0, 4, 5])\n",
    "\n",
    "print(\"P(Missing the plane | Went to lunch | Went to toilet) =\", e_given_c_t)\n",
    "print(\"P(Catching the plane | Went to lunch | Went to toilet) =\", not_e_given_c_t)\n",
    "\n",
    "\n",
    "# validate theorem ii)\n",
    "e_given_c_not_t = (chmm.T[0, 1, 3] * chmm.T[0, 3, 0] +\n",
    "                    chmm.T[0, 1, 4] * chmm.T[0, 4, 0])\n",
    "\n",
    "not_e_given_c_not_t = (chmm.T[0, 1, 3] * chmm.T[0, 3, 5] +\n",
    "                    chmm.T[0, 1, 4] * chmm.T[0, 4, 5])\n",
    "\n",
    "e_given_not_t_not_c = (chmm.T[0, 0, 3] * chmm.T[0, 3, 0] +\n",
    "                    chmm.T[0, 0, 4] * chmm.T[0, 4, 0])\n",
    "\n",
    "not_e_given_not_t_not_c = (chmm.T[0, 0, 3] * chmm.T[0, 3, 5] +\n",
    "                    chmm.T[0, 0, 4] * chmm.T[0, 4, 5])\n",
    "\n",
    "print(\"P(Missing the plane | Went to lunch | Did not go to toilet) =\", e_given_c_not_t / (e_given_c_not_t + not_e_given_c_not_t))\n",
    "print(\"P(Catching the plane | Went to lunch | Did not go to toilet) =\", not_e_given_c_not_t / (e_given_c_not_t + not_e_given_c_not_t))\n",
    "print(\"P(Missing the plane | Did not go to lunch | Did not go to toilet) =\", e_given_not_t_not_c / (e_given_not_t_not_c + not_e_given_not_t_not_c))\n",
    "print(\"P(Catching the plane | Did not go to lunch | Did not go to toilet) =\", not_e_given_not_t_not_c / (e_given_not_t_not_c + not_e_given_not_t_not_c))\n",
    "\n",
    "\n",
    "# fulfils inequality\n",
    "# shows that going to lunch was the cause for missing the plane"
   ]
  }
 ],
 "metadata": {
  "colab": {
   "provenance": []
  },
  "kernelspec": {
   "display_name": "Python 3",
   "language": "python",
   "name": "python3"
  },
  "language_info": {
   "codemirror_mode": {
    "name": "ipython",
    "version": 3
   },
   "file_extension": ".py",
   "mimetype": "text/x-python",
   "name": "python",
   "nbconvert_exporter": "python",
   "pygments_lexer": "ipython3",
   "version": "3.11.2"
  }
 },
 "nbformat": 4,
 "nbformat_minor": 4
}
